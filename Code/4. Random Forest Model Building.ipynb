{
 "cells": [
  {
   "cell_type": "code",
   "execution_count": 1,
   "metadata": {},
   "outputs": [],
   "source": [
    "import pandas as pd\n",
    "import csv\n",
    "import numpy as np\n",
    "from sklearn.ensemble import RandomForestRegressor\n",
    "from pprint import pprint\n",
    "\n",
    "df_2012_train = pd.read_csv('df_2012_train.csv') \n",
    "df_2012_train = df_2012_train.set_index('fips')\n",
    "df_2012_test = pd.read_csv('df_2012_test.csv') \n",
    "df_2012_test = df_2012_test.set_index('fips')\n",
    "df_2016_train = pd.read_csv('df_2016_train.csv') \n",
    "df_2016_train = df_2016_train.set_index('county_name')\n",
    "df_2016_test = pd.read_csv('df_2016_test.csv') \n",
    "df_2016_test = df_2016_test.set_index('county_name')"
   ]
  },
  {
   "cell_type": "code",
   "execution_count": 2,
   "metadata": {},
   "outputs": [
    {
     "data": {
      "text/html": [
       "<div>\n",
       "<style scoped>\n",
       "    .dataframe tbody tr th:only-of-type {\n",
       "        vertical-align: middle;\n",
       "    }\n",
       "\n",
       "    .dataframe tbody tr th {\n",
       "        vertical-align: top;\n",
       "    }\n",
       "\n",
       "    .dataframe thead th {\n",
       "        text-align: right;\n",
       "    }\n",
       "</style>\n",
       "<table border=\"1\" class=\"dataframe\">\n",
       "  <thead>\n",
       "    <tr style=\"text-align: right;\">\n",
       "      <th></th>\n",
       "      <th>state_abbreviation</th>\n",
       "      <th>county_name</th>\n",
       "      <th>diff_2012</th>\n",
       "      <th>land_area</th>\n",
       "      <th>population</th>\n",
       "      <th>perc_female</th>\n",
       "      <th>perc_u5</th>\n",
       "      <th>perc_o18</th>\n",
       "      <th>perc_o65</th>\n",
       "      <th>perc_2races</th>\n",
       "      <th>...</th>\n",
       "      <th>hc_value_1k</th>\n",
       "      <th>food_value_1k</th>\n",
       "      <th>median_income</th>\n",
       "      <th>per_cap_income</th>\n",
       "      <th>perc_pov</th>\n",
       "      <th>num_establishments</th>\n",
       "      <th>annual_payroll</th>\n",
       "      <th>vet_num_firms</th>\n",
       "      <th>fem_num_firms</th>\n",
       "      <th>min_num_firms</th>\n",
       "    </tr>\n",
       "    <tr>\n",
       "      <th>fips</th>\n",
       "      <th></th>\n",
       "      <th></th>\n",
       "      <th></th>\n",
       "      <th></th>\n",
       "      <th></th>\n",
       "      <th></th>\n",
       "      <th></th>\n",
       "      <th></th>\n",
       "      <th></th>\n",
       "      <th></th>\n",
       "      <th></th>\n",
       "      <th></th>\n",
       "      <th></th>\n",
       "      <th></th>\n",
       "      <th></th>\n",
       "      <th></th>\n",
       "      <th></th>\n",
       "      <th></th>\n",
       "      <th></th>\n",
       "      <th></th>\n",
       "      <th></th>\n",
       "    </tr>\n",
       "  </thead>\n",
       "  <tbody>\n",
       "    <tr>\n",
       "      <th>50011</th>\n",
       "      <td>VT</td>\n",
       "      <td>Franklin County</td>\n",
       "      <td>0.235485</td>\n",
       "      <td>0.607936</td>\n",
       "      <td>0.554590</td>\n",
       "      <td>0.852168</td>\n",
       "      <td>0.752126</td>\n",
       "      <td>0.454698</td>\n",
       "      <td>0.679059</td>\n",
       "      <td>0.334973</td>\n",
       "      <td>...</td>\n",
       "      <td>0.618064</td>\n",
       "      <td>0.598671</td>\n",
       "      <td>0.573469</td>\n",
       "      <td>0.538418</td>\n",
       "      <td>0.619473</td>\n",
       "      <td>0.426309</td>\n",
       "      <td>0.575188</td>\n",
       "      <td>0.366486</td>\n",
       "      <td>0.414746</td>\n",
       "      <td>0.166732</td>\n",
       "    </tr>\n",
       "    <tr>\n",
       "      <th>46093</th>\n",
       "      <td>SD</td>\n",
       "      <td>Meade County</td>\n",
       "      <td>-0.428453</td>\n",
       "      <td>0.800869</td>\n",
       "      <td>0.501383</td>\n",
       "      <td>0.814002</td>\n",
       "      <td>0.806294</td>\n",
       "      <td>0.452165</td>\n",
       "      <td>0.683144</td>\n",
       "      <td>0.451818</td>\n",
       "      <td>...</td>\n",
       "      <td>0.146813</td>\n",
       "      <td>0.044439</td>\n",
       "      <td>0.491513</td>\n",
       "      <td>0.502540</td>\n",
       "      <td>0.659653</td>\n",
       "      <td>0.397049</td>\n",
       "      <td>0.523883</td>\n",
       "      <td>0.330485</td>\n",
       "      <td>0.352493</td>\n",
       "      <td>0.177449</td>\n",
       "    </tr>\n",
       "  </tbody>\n",
       "</table>\n",
       "<p>2 rows × 44 columns</p>\n",
       "</div>"
      ],
      "text/plain": [
       "      state_abbreviation      county_name  diff_2012  land_area  population  \\\n",
       "fips                                                                          \n",
       "50011                 VT  Franklin County   0.235485   0.607936    0.554590   \n",
       "46093                 SD     Meade County  -0.428453   0.800869    0.501383   \n",
       "\n",
       "       perc_female   perc_u5  perc_o18  perc_o65  perc_2races  ...  \\\n",
       "fips                                                           ...   \n",
       "50011     0.852168  0.752126  0.454698  0.679059     0.334973  ...   \n",
       "46093     0.814002  0.806294  0.452165  0.683144     0.451818  ...   \n",
       "\n",
       "       hc_value_1k  food_value_1k  median_income  per_cap_income  perc_pov  \\\n",
       "fips                                                                         \n",
       "50011     0.618064       0.598671       0.573469        0.538418  0.619473   \n",
       "46093     0.146813       0.044439       0.491513        0.502540  0.659653   \n",
       "\n",
       "       num_establishments  annual_payroll  vet_num_firms  fem_num_firms  \\\n",
       "fips                                                                      \n",
       "50011            0.426309        0.575188       0.366486       0.414746   \n",
       "46093            0.397049        0.523883       0.330485       0.352493   \n",
       "\n",
       "       min_num_firms  \n",
       "fips                  \n",
       "50011       0.166732  \n",
       "46093       0.177449  \n",
       "\n",
       "[2 rows x 44 columns]"
      ]
     },
     "execution_count": 2,
     "metadata": {},
     "output_type": "execute_result"
    }
   ],
   "source": [
    "df_2012_train.head(2)"
   ]
  },
  {
   "cell_type": "code",
   "execution_count": 3,
   "metadata": {},
   "outputs": [
    {
     "name": "stderr",
     "output_type": "stream",
     "text": [
      "C:\\Users\\sajor\\Anaconda3\\lib\\site-packages\\pandas\\core\\frame.py:4025: SettingWithCopyWarning: \n",
      "A value is trying to be set on a copy of a slice from a DataFrame\n",
      "\n",
      "See the caveats in the documentation: http://pandas.pydata.org/pandas-docs/stable/indexing.html#indexing-view-versus-copy\n",
      "  return super(DataFrame, self).rename(**kwargs)\n"
     ]
    }
   ],
   "source": [
    "df_2012_train_x = df_2012_train.drop(columns = ['state_abbreviation', 'county_name', 'diff_2012'])\n",
    "df_2012_train_y = df_2012_train[['diff_2012']]\n",
    "\n",
    "df_2016_train_x = df_2016_train.drop(columns = ['state_abbreviation', 'fips', 'diff_2016'])\n",
    "df_2016_train_y = df_2016_train[['diff_2016']]\n",
    "\n",
    "df_2012_test_x = df_2012_test.drop(columns = ['state_abbreviation', 'county_name', 'diff_2012'])\n",
    "df_2012_test_y = df_2012_test[['diff_2012']]\n",
    "\n",
    "df_2016_test_x = df_2016_test.drop(columns = ['state_abbreviation', 'fips', 'diff_2016'])\n",
    "df_2016_test_y = df_2016_test[['diff_2016']]\n",
    "\n",
    "full_train_x = [df_2012_train_x, df_2016_train_x]\n",
    "full_train_x = pd.concat(full_train_x)\n",
    "df_2012_train_y.rename(columns={'diff_2012':'diff'}, inplace=True)\n",
    "df_2016_train_y.rename(columns={'diff_2016':'diff'}, inplace=True)\n",
    "\n",
    "full_train_y = [df_2012_train_y, df_2016_train_y]\n",
    "full_train_y = pd.concat(full_train_y)\n",
    "\n",
    "full_test_x = [df_2012_test_x, df_2016_test_x]\n",
    "full_test_x = pd.concat(full_test_x)\n",
    "df_2012_test_y.rename(columns={'diff_2012':'diff'}, inplace=True)\n",
    "df_2016_test_y.rename(columns={'diff_2016':'diff'}, inplace=True)\n",
    "\n",
    "full_test_y = [df_2012_test_y, df_2016_test_y]\n",
    "full_test_y = pd.concat(full_test_y)"
   ]
  },
  {
   "cell_type": "code",
   "execution_count": 4,
   "metadata": {},
   "outputs": [
    {
     "name": "stderr",
     "output_type": "stream",
     "text": [
      "C:\\Users\\sajor\\Anaconda3\\lib\\site-packages\\sklearn\\feature_selection\\from_model.py:197: DataConversionWarning: A column-vector y was passed when a 1d array was expected. Please change the shape of y to (n_samples,), for example using ravel().\n",
      "  self.estimator_.fit(X, y, **fit_params)\n"
     ]
    },
    {
     "name": "stdout",
     "output_type": "stream",
     "text": [
      "['population', 'perc_o18', 'perc_white', 'perc_black', 'perc_white_not_hisp', 'perc_oo', 'monthly_costs_m', 'monthly_costs_nm', 'num_nonemployers', 'man_value_1k', 'wholesale_value_1k', 'num_establishments', 'annual_payroll', 'min_num_firms']\n"
     ]
    }
   ],
   "source": [
    "#2012 FEATURE SELECTION\n",
    "\n",
    "from sklearn.feature_selection import RFE, VarianceThreshold, SelectFromModel\n",
    "\n",
    "rgr = RandomForestRegressor(n_estimators=100, max_features=.33, max_depth=None, min_samples_split=3, criterion='mse', random_state = 31)\n",
    "featureSelection = SelectFromModel(rgr, prefit=False, threshold='mean', max_features=None)\n",
    "featureSelection.fit(df_2012_train_x, df_2012_train_y)\n",
    "\n",
    "selectedFeatures = featureSelection.transform(df_2012_train_x)\n",
    "#selectedFeatures\n",
    "\n",
    "fs = df_2012_train_x.columns[featureSelection.get_support()]\n",
    "#remaining features\n",
    "keep = []\n",
    "for i in range(len(fs)):\n",
    "    keep.append(fs[i])\n",
    "print(keep)\n",
    "\n",
    "df_2012_train_x = df_2012_train_x[keep]\n",
    "df_2012_test_x = df_2012_test_x[keep]\n",
    "\n",
    "\n"
   ]
  },
  {
   "cell_type": "code",
   "execution_count": 5,
   "metadata": {},
   "outputs": [
    {
     "name": "stderr",
     "output_type": "stream",
     "text": [
      "C:\\Users\\sajor\\Anaconda3\\lib\\site-packages\\sklearn\\feature_selection\\from_model.py:197: DataConversionWarning: A column-vector y was passed when a 1d array was expected. Please change the shape of y to (n_samples,), for example using ravel().\n",
      "  self.estimator_.fit(X, y, **fit_params)\n"
     ]
    },
    {
     "name": "stdout",
     "output_type": "stream",
     "text": [
      "['population', 'perc_white', 'perc_black', 'perc_asian', 'perc_white_not_hisp', 'monthly_costs_m', 'monthly_costs_nm', 'perc_bc', 'num_establishments', 'annual_payroll', 'fem_num_firms', 'min_num_firms']\n"
     ]
    }
   ],
   "source": [
    "#2016 feature selection\n",
    "\n",
    "rgr = RandomForestRegressor(n_estimators=100, max_features=.33, max_depth=None, min_samples_split=3, criterion='mse', random_state = 31)\n",
    "featureSelection = SelectFromModel(rgr, prefit=False, threshold='mean', max_features=None)\n",
    "featureSelection.fit(df_2016_train_x, df_2016_train_y)\n",
    "\n",
    "selectedFeatures = featureSelection.transform(df_2016_train_x)\n",
    "#selectedFeatures\n",
    "\n",
    "fs = df_2016_train_x.columns[featureSelection.get_support()]\n",
    "#remaining features\n",
    "keep = []\n",
    "for i in range(len(fs)):\n",
    "    keep.append(fs[i])\n",
    "print(keep)\n",
    "\n",
    "df_2016_train_x = df_2016_train_x[keep]\n",
    "df_2016_test_x = df_2016_test_x[keep]"
   ]
  },
  {
   "cell_type": "code",
   "execution_count": 5,
   "metadata": {},
   "outputs": [
    {
     "name": "stderr",
     "output_type": "stream",
     "text": [
      "C:\\Users\\sajor\\Anaconda3\\lib\\site-packages\\sklearn\\feature_selection\\from_model.py:197: DataConversionWarning: A column-vector y was passed when a 1d array was expected. Please change the shape of y to (n_samples,), for example using ravel().\n",
      "  self.estimator_.fit(X, y, **fit_params)\n"
     ]
    },
    {
     "name": "stdout",
     "output_type": "stream",
     "text": [
      "['population', 'perc_white', 'perc_black', 'perc_white_not_hisp', 'median_oo_value', 'monthly_costs_m', 'monthly_costs_nm', 'perc_bc', 'num_establishments', 'annual_payroll', 'min_num_firms']\n"
     ]
    }
   ],
   "source": [
    "rgr = RandomForestRegressor(n_estimators=100, max_features=.33, max_depth=None, min_samples_split=3, criterion='mse', random_state = 31)\n",
    "featureSelection = SelectFromModel(rgr, prefit=False, threshold='mean', max_features=None)\n",
    "featureSelection.fit(full_train_x, full_train_y)\n",
    "\n",
    "selectedFeatures = featureSelection.transform(full_train_x)\n",
    "#selectedFeatures\n",
    "\n",
    "fs = full_train_x.columns[featureSelection.get_support()]\n",
    "#remaining features\n",
    "keep = []\n",
    "for i in range(len(fs)):\n",
    "    keep.append(fs[i])\n",
    "print(keep)\n",
    "\n",
    "full_train_x = full_train_x[keep]\n",
    "full_test_x = full_test_x[keep]"
   ]
  },
  {
   "cell_type": "code",
   "execution_count": 6,
   "metadata": {},
   "outputs": [
    {
     "name": "stdout",
     "output_type": "stream",
     "text": [
      "{'bootstrap': True,\n",
      " 'criterion': 'mse',\n",
      " 'max_depth': None,\n",
      " 'max_features': 'auto',\n",
      " 'max_leaf_nodes': None,\n",
      " 'min_impurity_decrease': 0.0,\n",
      " 'min_impurity_split': None,\n",
      " 'min_samples_leaf': 1,\n",
      " 'min_samples_split': 2,\n",
      " 'min_weight_fraction_leaf': 0.0,\n",
      " 'n_estimators': 'warn',\n",
      " 'n_jobs': None,\n",
      " 'oob_score': False,\n",
      " 'random_state': 32,\n",
      " 'verbose': 0,\n",
      " 'warm_start': False}\n"
     ]
    }
   ],
   "source": [
    "rf = RandomForestRegressor(random_state = 32)\n",
    "pprint(rf.get_params())"
   ]
  },
  {
   "cell_type": "code",
   "execution_count": 7,
   "metadata": {},
   "outputs": [
    {
     "name": "stdout",
     "output_type": "stream",
     "text": [
      "{'bootstrap': [True, False],\n",
      " 'max_depth': [10, 20, 30, 40, 50, 60, 70, 80, 90, 100, 110, None],\n",
      " 'max_features': ['auto', 'sqrt'],\n",
      " 'min_samples_leaf': [1, 2, 4],\n",
      " 'min_samples_split': [2, 5, 10],\n",
      " 'n_estimators': [10, 231, 452, 673, 894, 1115, 1336, 1557, 1778, 2000]}\n"
     ]
    }
   ],
   "source": [
    "from sklearn.model_selection import RandomizedSearchCV\n",
    "# Number of trees in random forest\n",
    "n_estimators = [int(x) for x in np.linspace(start = 10, stop = 2000, num = 10)]\n",
    "# Number of features to consider at every split\n",
    "max_features = ['auto', 'sqrt']\n",
    "# Maximum number of levels in tree\n",
    "max_depth = [int(x) for x in np.linspace(10, 110, num = 11)]\n",
    "max_depth.append(None)\n",
    "# Minimum number of samples required to split a node\n",
    "min_samples_split = [2, 5, 10]\n",
    "# Minimum number of samples required at each leaf node\n",
    "min_samples_leaf = [1, 2, 4]\n",
    "# Method of selecting samples for training each tree\n",
    "bootstrap = [True, False]\n",
    "# Create the random grid\n",
    "random_grid = {'n_estimators': n_estimators,\n",
    "               'max_features': max_features,\n",
    "               'max_depth': max_depth,\n",
    "               'min_samples_split': min_samples_split,\n",
    "               'min_samples_leaf': min_samples_leaf,\n",
    "               'bootstrap': bootstrap}\n",
    "pprint(random_grid)"
   ]
  },
  {
   "cell_type": "code",
   "execution_count": null,
   "metadata": {},
   "outputs": [
    {
     "name": "stdout",
     "output_type": "stream",
     "text": [
      "Fitting 3 folds for each of 20 candidates, totalling 60 fits\n"
     ]
    },
    {
     "name": "stderr",
     "output_type": "stream",
     "text": [
      "[Parallel(n_jobs=-1)]: Using backend LokyBackend with 4 concurrent workers.\n"
     ]
    }
   ],
   "source": [
    "# Use the random grid to search for best hyperparameters\n",
    "# First create the base model to tune\n",
    "rf = RandomForestRegressor()\n",
    "# Random search of parameters, using 3 fold cross validation, \n",
    "# search across 100 different combinations, and use all available cores\n",
    "rf_random = RandomizedSearchCV(estimator = rf, param_distributions = random_grid, n_iter = 20, cv = 3, verbose=2, random_state=31, n_jobs = -1)\n",
    "# Fit the random search model\n",
    "rf_random.fit(df_2016_train_x, df_2016_train_y)"
   ]
  },
  {
   "cell_type": "code",
   "execution_count": 14,
   "metadata": {},
   "outputs": [
    {
     "name": "stdout",
     "output_type": "stream",
     "text": [
      "BASE MODEL\n"
     ]
    },
    {
     "name": "stderr",
     "output_type": "stream",
     "text": [
      "C:\\Users\\sajor\\Anaconda3\\lib\\site-packages\\ipykernel_launcher.py:14: DataConversionWarning: A column-vector y was passed when a 1d array was expected. Please change the shape of y to (n_samples,), for example using ravel().\n",
      "  \n"
     ]
    },
    {
     "name": "stdout",
     "output_type": "stream",
     "text": [
      "rmse: 0.15788562608273382\n",
      "r2: 0.7035345036128222\n"
     ]
    }
   ],
   "source": [
    "from sklearn.metrics import mean_squared_error\n",
    "from sklearn.metrics import explained_variance_score\n",
    "\n",
    "def evaluate(model, test_features, test_labels):\n",
    "    predictions = model.predict(test_features)\n",
    "    mse = mean_squared_error(test_labels, predictions)\n",
    "    rmse = np.sqrt(mse)\n",
    "    print(\"rmse:\",rmse)\n",
    "    r2 = explained_variance_score(test_labels, predictions)\n",
    "    print(\"r2:\",r2)\n",
    "\n",
    "print(\"BASE MODEL\")\n",
    "base_model = RandomForestRegressor(n_estimators = 10, random_state = 31)\n",
    "base_model.fit(df_2016_train_x, df_2016_train_y)\n",
    "base_accuracy = evaluate(base_model, df_2016_test_x, df_2016_test_y)"
   ]
  },
  {
   "cell_type": "code",
   "execution_count": 15,
   "metadata": {},
   "outputs": [
    {
     "data": {
      "text/plain": [
       "{'n_estimators': 1115,\n",
       " 'min_samples_split': 5,\n",
       " 'min_samples_leaf': 2,\n",
       " 'max_features': 'sqrt',\n",
       " 'max_depth': 90,\n",
       " 'bootstrap': False}"
      ]
     },
     "execution_count": 15,
     "metadata": {},
     "output_type": "execute_result"
    }
   ],
   "source": [
    "rf_random.best_params_"
   ]
  },
  {
   "cell_type": "code",
   "execution_count": 16,
   "metadata": {},
   "outputs": [
    {
     "name": "stdout",
     "output_type": "stream",
     "text": [
      "best random\n",
      "rmse: 0.14441238530421233\n",
      "r2: 0.7519385036900215\n"
     ]
    }
   ],
   "source": [
    "print('best random')\n",
    "best_random = rf_random.best_estimator_\n",
    "random_accuracy = evaluate(best_random, df_2012_test_x, df_2012_test_y)"
   ]
  },
  {
   "cell_type": "code",
   "execution_count": 11,
   "metadata": {},
   "outputs": [],
   "source": [
    "from sklearn.model_selection import GridSearchCV\n",
    "# Create the parameter grid based on the results of random search \n",
    "param_grid = {\n",
    "    'bootstrap': [False],\n",
    "    'max_depth': [80, 90, 100],\n",
    "    'max_features': ['sqrt'],\n",
    "    'min_samples_leaf': [2, 3, 4],\n",
    "    'min_samples_split': [3, 5, 7],\n",
    "    'n_estimators': [900, 1100, 1300]\n",
    "}\n",
    "# Create a based model\n",
    "rf = RandomForestRegressor()\n",
    "# Instantiate the grid search model\n",
    "grid_search = GridSearchCV(estimator = rf, param_grid = param_grid, \n",
    "                          cv = 3, n_jobs = -1, verbose = 2)"
   ]
  },
  {
   "cell_type": "code",
   "execution_count": 12,
   "metadata": {},
   "outputs": [
    {
     "name": "stdout",
     "output_type": "stream",
     "text": [
      "Fitting 3 folds for each of 81 candidates, totalling 243 fits\n"
     ]
    },
    {
     "name": "stderr",
     "output_type": "stream",
     "text": [
      "[Parallel(n_jobs=-1)]: Using backend LokyBackend with 4 concurrent workers.\n",
      "[Parallel(n_jobs=-1)]: Done  33 tasks      | elapsed:  4.2min\n",
      "[Parallel(n_jobs=-1)]: Done 154 tasks      | elapsed: 17.9min\n",
      "[Parallel(n_jobs=-1)]: Done 243 out of 243 | elapsed: 26.9min finished\n",
      "C:\\Users\\sajor\\Anaconda3\\lib\\site-packages\\sklearn\\model_selection\\_search.py:740: DataConversionWarning: A column-vector y was passed when a 1d array was expected. Please change the shape of y to (n_samples,), for example using ravel().\n",
      "  self.best_estimator_.fit(X, y, **fit_params)\n"
     ]
    },
    {
     "name": "stdout",
     "output_type": "stream",
     "text": [
      "GRID Search\n"
     ]
    },
    {
     "ename": "NameError",
     "evalue": "name 'evaluate' is not defined",
     "output_type": "error",
     "traceback": [
      "\u001b[1;31m---------------------------------------------------------------------------\u001b[0m",
      "\u001b[1;31mNameError\u001b[0m                                 Traceback (most recent call last)",
      "\u001b[1;32m<ipython-input-12-e0292d1b9d1c>\u001b[0m in \u001b[0;36m<module>\u001b[1;34m\u001b[0m\n\u001b[0;32m      4\u001b[0m \u001b[1;33m\u001b[0m\u001b[0m\n\u001b[0;32m      5\u001b[0m \u001b[0mprint\u001b[0m\u001b[1;33m(\u001b[0m\u001b[1;34m'GRID Search'\u001b[0m\u001b[1;33m)\u001b[0m\u001b[1;33m\u001b[0m\u001b[1;33m\u001b[0m\u001b[0m\n\u001b[1;32m----> 6\u001b[1;33m \u001b[0mgrid_accuracy\u001b[0m \u001b[1;33m=\u001b[0m \u001b[0mevaluate\u001b[0m\u001b[1;33m(\u001b[0m\u001b[0mgrid_search\u001b[0m\u001b[1;33m,\u001b[0m \u001b[0mdf_2012_test_x\u001b[0m\u001b[1;33m,\u001b[0m \u001b[0mdf_2012_test_y\u001b[0m\u001b[1;33m)\u001b[0m\u001b[1;33m\u001b[0m\u001b[1;33m\u001b[0m\u001b[0m\n\u001b[0m",
      "\u001b[1;31mNameError\u001b[0m: name 'evaluate' is not defined"
     ]
    }
   ],
   "source": [
    "# Fit the grid search to the data\n",
    "grid_search.fit(df_2012_train_x, df_2012_train_y)\n",
    "grid_search.best_params_\n",
    "\n"
   ]
  },
  {
   "cell_type": "code",
   "execution_count": 15,
   "metadata": {},
   "outputs": [],
   "source": [
    "from sklearn.metrics import mean_absolute_error, mean_squared_error, explained_variance_score\n",
    "def evaluate(model, test_features, test_labels):\n",
    "    predictions = model.predict(test_features)\n",
    "    mse = mean_squared_error(test_labels, predictions)\n",
    "    rmse = np.sqrt(mse)\n",
    "    print(\"mse:\", mse)\n",
    "    print(\"rmse:\",rmse)\n",
    "    mae = mean_absolute_error(test_labels, predictions)\n",
    "    print(\"mae:\", mae)\n",
    "    r2 = explained_variance_score(test_labels, predictions)\n",
    "    print(\"r2:\",r2)"
   ]
  },
  {
   "cell_type": "code",
   "execution_count": 17,
   "metadata": {},
   "outputs": [
    {
     "name": "stderr",
     "output_type": "stream",
     "text": [
      "C:\\Users\\sajor\\Anaconda3\\lib\\site-packages\\pandas\\core\\frame.py:4025: SettingWithCopyWarning: \n",
      "A value is trying to be set on a copy of a slice from a DataFrame\n",
      "\n",
      "See the caveats in the documentation: http://pandas.pydata.org/pandas-docs/stable/indexing.html#indexing-view-versus-copy\n",
      "  return super(DataFrame, self).rename(**kwargs)\n"
     ]
    }
   ],
   "source": [
    "df_2012_train_x2 = df_2012_train.drop(columns = ['state_abbreviation', 'county_name', 'diff_2012'])\n",
    "df_2012_train_y2 = df_2012_train[['diff_2012']]\n",
    "\n",
    "df_2016_train_x2 = df_2016_train.drop(columns = ['state_abbreviation', 'fips', 'diff_2016'])\n",
    "df_2016_train_y2 = df_2016_train[['diff_2016']]\n",
    "\n",
    "df_2012_test_x2 = df_2012_test.drop(columns = ['state_abbreviation', 'county_name', 'diff_2012'])\n",
    "df_2012_test_y2 = df_2012_test[['diff_2012']]\n",
    "\n",
    "df_2016_test_x2 = df_2016_test.drop(columns = ['state_abbreviation', 'fips', 'diff_2016'])\n",
    "df_2016_test_y2 = df_2016_test[['diff_2016']]\n",
    "\n",
    "full_train_x2 = [df_2012_train_x2, df_2016_train_x2]\n",
    "full_train_x2 = pd.concat(full_train_x2)\n",
    "df_2012_train_y2.rename(columns={'diff_2012':'diff'}, inplace=True)\n",
    "df_2016_train_y2.rename(columns={'diff_2016':'diff'}, inplace=True)\n",
    "\n",
    "full_train_y2 = [df_2012_train_y2, df_2016_train_y2]\n",
    "full_train_y2 = pd.concat(full_train_y2)\n",
    "\n",
    "full_test_x2 = [df_2012_test_x2, df_2016_test_x2]\n",
    "full_test_x2 = pd.concat(full_test_x2)\n",
    "df_2012_test_y2.rename(columns={'diff_2012':'diff'}, inplace=True)\n",
    "df_2016_test_y2.rename(columns={'diff_2016':'diff'}, inplace=True)\n",
    "\n",
    "full_test_y2 = [df_2012_test_y2, df_2016_test_y2]\n",
    "full_test_y2 = pd.concat(full_test_y2)"
   ]
  },
  {
   "cell_type": "code",
   "execution_count": 27,
   "metadata": {},
   "outputs": [
    {
     "name": "stdout",
     "output_type": "stream",
     "text": [
      "2012 GRID Search on 2012\n",
      "mse: 0.02058647512441681\n",
      "rmse: 0.14347987707137475\n",
      "mae: 0.10995467835730538\n",
      "r2: 0.7551305171702616\n",
      "2012 GRID Search on 2016\n",
      "mse: 0.030519936420614912\n",
      "rmse: 0.1746995604476866\n",
      "mae: 0.14006175938539775\n",
      "r2: 0.6956666288329436\n",
      "2012 GRID Search on Full\n",
      "mse: 0.02555320577251586\n",
      "rmse: 0.15985370115363567\n",
      "mae: 0.12500821887135155\n",
      "r2: 0.7258956489113116\n"
     ]
    }
   ],
   "source": [
    "test_x = df_2016_test_x2[['population', 'perc_o18', 'perc_white', 'perc_black', 'perc_white_not_hisp', 'perc_oo', 'monthly_costs_m', 'monthly_costs_nm', 'num_nonemployers', 'man_value_1k', 'wholesale_value_1k', 'num_establishments', 'annual_payroll', 'min_num_firms']]\n",
    "full_x = full_test_x2[['population', 'perc_o18', 'perc_white', 'perc_black', 'perc_white_not_hisp', 'perc_oo', 'monthly_costs_m', 'monthly_costs_nm', 'num_nonemployers', 'man_value_1k', 'wholesale_value_1k', 'num_establishments', 'annual_payroll', 'min_num_firms']]\n",
    "\n",
    "\n",
    "\n",
    "print('2012 GRID Search on 2012')\n",
    "grid_accuracy = evaluate(grid_search, df_2012_test_x, df_2012_test_y)\n",
    "print('2012 GRID Search on 2016')\n",
    "grid_accuracy = evaluate(grid_search, test_x, df_2016_test_y2)\n",
    "print('2012 GRID Search on Full')\n",
    "grid_accuracy = evaluate(grid_search, full_x, full_test_y2)"
   ]
  },
  {
   "cell_type": "code",
   "execution_count": 30,
   "metadata": {},
   "outputs": [
    {
     "data": {
      "text/plain": [
       "{'bootstrap': False,\n",
       " 'max_depth': 80,\n",
       " 'max_features': 'sqrt',\n",
       " 'min_samples_leaf': 2,\n",
       " 'min_samples_split': 3,\n",
       " 'n_estimators': 1100}"
      ]
     },
     "execution_count": 30,
     "metadata": {},
     "output_type": "execute_result"
    }
   ],
   "source": [
    "grid_search.best_params_"
   ]
  },
  {
   "cell_type": "code",
   "execution_count": 47,
   "metadata": {},
   "outputs": [
    {
     "data": {
      "text/plain": [
       "[('population', 0.061909213924437226),\n",
       " ('perc_o18', 0.05631558585998506),\n",
       " ('perc_white', 0.12160769408996623),\n",
       " ('perc_black', 0.07781969028592962),\n",
       " ('perc_white_not_hisp', 0.14967089259828278),\n",
       " ('perc_oo', 0.051270007476039235),\n",
       " ('monthly_costs_m', 0.05426902818147784),\n",
       " ('monthly_costs_nm', 0.11496942935065055),\n",
       " ('num_nonemployers', 0.051320087499403554),\n",
       " ('man_value_1k', 0.05421949050145596),\n",
       " ('wholesale_value_1k', 0.05485213509794516),\n",
       " ('num_establishments', 0.05233131831980832),\n",
       " ('annual_payroll', 0.05051161560396857),\n",
       " ('min_num_firms', 0.048933811210649596)]"
      ]
     },
     "execution_count": 47,
     "metadata": {},
     "output_type": "execute_result"
    }
   ],
   "source": [
    "fts = ['population', 'perc_o18', 'perc_white', 'perc_black', 'perc_white_not_hisp', 'perc_oo', 'monthly_costs_m', 'monthly_costs_nm', 'num_nonemployers', 'man_value_1k', 'wholesale_value_1k', 'num_establishments', 'annual_payroll', 'min_num_firms']\n",
    "list(zip(fts,list(grid_search.best_estimator_.feature_importances_)))"
   ]
  },
  {
   "cell_type": "code",
   "execution_count": 48,
   "metadata": {},
   "outputs": [
    {
     "name": "stdout",
     "output_type": "stream",
     "text": [
      "Fitting 3 folds for each of 81 candidates, totalling 243 fits\n"
     ]
    },
    {
     "name": "stderr",
     "output_type": "stream",
     "text": [
      "[Parallel(n_jobs=-1)]: Using backend LokyBackend with 4 concurrent workers.\n",
      "[Parallel(n_jobs=-1)]: Done  33 tasks      | elapsed:  4.5min\n",
      "[Parallel(n_jobs=-1)]: Done 154 tasks      | elapsed: 17.2min\n",
      "[Parallel(n_jobs=-1)]: Done 243 out of 243 | elapsed: 26.2min finished\n",
      "C:\\Users\\sajor\\Anaconda3\\lib\\site-packages\\sklearn\\model_selection\\_search.py:740: DataConversionWarning: A column-vector y was passed when a 1d array was expected. Please change the shape of y to (n_samples,), for example using ravel().\n",
      "  self.best_estimator_.fit(X, y, **fit_params)\n"
     ]
    },
    {
     "data": {
      "text/plain": [
       "{'bootstrap': False,\n",
       " 'max_depth': 100,\n",
       " 'max_features': 'sqrt',\n",
       " 'min_samples_leaf': 2,\n",
       " 'min_samples_split': 3,\n",
       " 'n_estimators': 1100}"
      ]
     },
     "execution_count": 48,
     "metadata": {},
     "output_type": "execute_result"
    }
   ],
   "source": [
    "# Fit the grid search to the data\n",
    "grid_search.fit(df_2016_train_x, df_2016_train_y)\n",
    "grid_search.best_params_\n"
   ]
  },
  {
   "cell_type": "code",
   "execution_count": 49,
   "metadata": {},
   "outputs": [
    {
     "name": "stdout",
     "output_type": "stream",
     "text": [
      "2016 GRID Search on 2012\n",
      "mse: 0.04056500505019621\n",
      "rmse: 0.2014075595656633\n",
      "mae: 0.16001554872743012\n",
      "r2: 0.5197801909379347\n",
      "2016 GRID Search on 2016\n",
      "mse: 0.0242746630149718\n",
      "rmse: 0.15580328306865615\n",
      "mae: 0.11757981080931426\n",
      "r2: 0.7356740568926636\n",
      "2016 GRID Search on Full\n",
      "mse: 0.032419834032584\n",
      "rmse: 0.18005508610584706\n",
      "mae: 0.1387976797683722\n",
      "r2: 0.6434586109921978\n"
     ]
    }
   ],
   "source": [
    "lst = ['population', 'perc_white', 'perc_black', 'perc_asian', 'perc_white_not_hisp', 'monthly_costs_m', 'monthly_costs_nm', 'perc_bc', 'num_establishments', 'annual_payroll', 'fem_num_firms', 'min_num_firms']\n",
    "\n",
    "test_x = df_2012_test_x2[lst]\n",
    "full_x = full_test_x2[lst]\n",
    "\n",
    "print('2016 GRID Search on 2012')\n",
    "grid_accuracy = evaluate(grid_search, test_x, df_2012_test_y2)\n",
    "print('2016 GRID Search on 2016')\n",
    "grid_accuracy = evaluate(grid_search, df_2016_test_x, df_2016_test_y)\n",
    "print('2016 GRID Search on Full')\n",
    "grid_accuracy = evaluate(grid_search, full_x, full_test_y2)"
   ]
  },
  {
   "cell_type": "code",
   "execution_count": 50,
   "metadata": {},
   "outputs": [
    {
     "data": {
      "text/plain": [
       "{'bootstrap': False,\n",
       " 'max_depth': 100,\n",
       " 'max_features': 'sqrt',\n",
       " 'min_samples_leaf': 2,\n",
       " 'min_samples_split': 3,\n",
       " 'n_estimators': 1100}"
      ]
     },
     "execution_count": 50,
     "metadata": {},
     "output_type": "execute_result"
    }
   ],
   "source": [
    "grid_search.best_params_"
   ]
  },
  {
   "cell_type": "code",
   "execution_count": 51,
   "metadata": {},
   "outputs": [
    {
     "data": {
      "text/plain": [
       "[('population', 0.04705417481004139),\n",
       " ('perc_white', 0.14568738761803365),\n",
       " ('perc_black', 0.07277579013663953),\n",
       " ('perc_asian', 0.05310104402803184),\n",
       " ('perc_white_not_hisp', 0.17229529804812774),\n",
       " ('monthly_costs_m', 0.0877446414914472),\n",
       " ('monthly_costs_nm', 0.07542278055786204),\n",
       " ('perc_bc', 0.0951565223068992),\n",
       " ('num_establishments', 0.04972928974990093),\n",
       " ('annual_payroll', 0.06072646891692575),\n",
       " ('fem_num_firms', 0.06524563602287416),\n",
       " ('min_num_firms', 0.07506096631321672)]"
      ]
     },
     "execution_count": 51,
     "metadata": {},
     "output_type": "execute_result"
    }
   ],
   "source": [
    "list(zip(lst,list(grid_search.best_estimator_.feature_importances_)))"
   ]
  },
  {
   "cell_type": "code",
   "execution_count": 53,
   "metadata": {},
   "outputs": [
    {
     "name": "stdout",
     "output_type": "stream",
     "text": [
      "Fitting 3 folds for each of 81 candidates, totalling 243 fits\n"
     ]
    },
    {
     "name": "stderr",
     "output_type": "stream",
     "text": [
      "[Parallel(n_jobs=-1)]: Using backend LokyBackend with 4 concurrent workers.\n",
      "[Parallel(n_jobs=-1)]: Done  33 tasks      | elapsed:  8.3min\n",
      "[Parallel(n_jobs=-1)]: Done 154 tasks      | elapsed: 35.8min\n",
      "[Parallel(n_jobs=-1)]: Done 243 out of 243 | elapsed: 56.2min finished\n",
      "C:\\Users\\sajor\\Anaconda3\\lib\\site-packages\\sklearn\\model_selection\\_search.py:740: DataConversionWarning: A column-vector y was passed when a 1d array was expected. Please change the shape of y to (n_samples,), for example using ravel().\n",
      "  self.best_estimator_.fit(X, y, **fit_params)\n"
     ]
    },
    {
     "data": {
      "text/plain": [
       "{'bootstrap': False,\n",
       " 'max_depth': 100,\n",
       " 'max_features': 'sqrt',\n",
       " 'min_samples_leaf': 2,\n",
       " 'min_samples_split': 3,\n",
       " 'n_estimators': 900}"
      ]
     },
     "execution_count": 53,
     "metadata": {},
     "output_type": "execute_result"
    }
   ],
   "source": [
    "# Fit the grid search to the data\n",
    "grid_search.fit(full_train_x, full_train_y)\n",
    "grid_search.best_params_"
   ]
  },
  {
   "cell_type": "code",
   "execution_count": 54,
   "metadata": {},
   "outputs": [
    {
     "name": "stdout",
     "output_type": "stream",
     "text": [
      "FULL GRID Search on 2012\n",
      "mse: 0.031919790509355596\n",
      "rmse: 0.17866110519459907\n",
      "mae: 0.13741149221996057\n",
      "r2: 0.6204370748488228\n",
      "FULL GRID Search on 2016\n",
      "mse: 0.023150139867768274\n",
      "rmse: 0.15215170018034066\n",
      "mae: 0.11559100224600931\n",
      "r2: 0.7478065538378071\n",
      "FULL GRID Search on Full\n",
      "mse: 0.027534965188561935\n",
      "rmse: 0.1659366300385841\n",
      "mae: 0.12650124723298495\n",
      "r2: 0.6965088840913378\n"
     ]
    }
   ],
   "source": [
    "lst = ['population', 'perc_white', 'perc_black', 'perc_white_not_hisp', 'median_oo_value', 'monthly_costs_m', 'monthly_costs_nm', 'perc_bc', 'num_establishments', 'annual_payroll', 'min_num_firms']\n",
    "\n",
    "test_x = df_2012_test_x2[lst]\n",
    "test2_x = df_2016_test_x2[lst]\n",
    "\n",
    "print('FULL GRID Search on 2012')\n",
    "grid_accuracy = evaluate(grid_search, test_x, df_2012_test_y2)\n",
    "print('FULL GRID Search on 2016')\n",
    "grid_accuracy = evaluate(grid_search, test2_x, df_2016_test_y2)\n",
    "print('FULL GRID Search on Full')\n",
    "grid_accuracy = evaluate(grid_search, full_test_x, full_test_y)"
   ]
  },
  {
   "cell_type": "code",
   "execution_count": 55,
   "metadata": {},
   "outputs": [
    {
     "data": {
      "text/plain": [
       "{'bootstrap': False,\n",
       " 'max_depth': 100,\n",
       " 'max_features': 'sqrt',\n",
       " 'min_samples_leaf': 2,\n",
       " 'min_samples_split': 3,\n",
       " 'n_estimators': 900}"
      ]
     },
     "execution_count": 55,
     "metadata": {},
     "output_type": "execute_result"
    }
   ],
   "source": [
    "grid_search.best_params_"
   ]
  },
  {
   "cell_type": "code",
   "execution_count": 56,
   "metadata": {},
   "outputs": [
    {
     "data": {
      "text/plain": [
       "[('population', 0.07506219888359449),\n",
       " ('perc_white', 0.15339720069221613),\n",
       " ('perc_black', 0.07028499615253161),\n",
       " ('perc_white_not_hisp', 0.1716897021258679),\n",
       " ('median_oo_value', 0.06202126553218663),\n",
       " ('monthly_costs_m', 0.07258555593753088),\n",
       " ('monthly_costs_nm', 0.09739282411537033),\n",
       " ('perc_bc', 0.06345892937658154),\n",
       " ('num_establishments', 0.07015691427433549),\n",
       " ('annual_payroll', 0.08924956676965709),\n",
       " ('min_num_firms', 0.07470084614012744)]"
      ]
     },
     "execution_count": 56,
     "metadata": {},
     "output_type": "execute_result"
    }
   ],
   "source": [
    "list(zip(lst,list(grid_search.best_estimator_.feature_importances_)))"
   ]
  },
  {
   "cell_type": "code",
   "execution_count": null,
   "metadata": {},
   "outputs": [],
   "source": []
  }
 ],
 "metadata": {
  "kernelspec": {
   "display_name": "Python 3",
   "language": "python",
   "name": "python3"
  },
  "language_info": {
   "codemirror_mode": {
    "name": "ipython",
    "version": 3
   },
   "file_extension": ".py",
   "mimetype": "text/x-python",
   "name": "python",
   "nbconvert_exporter": "python",
   "pygments_lexer": "ipython3",
   "version": "3.7.2"
  }
 },
 "nbformat": 4,
 "nbformat_minor": 2
}
