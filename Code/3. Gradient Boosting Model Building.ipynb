{
 "cells": [
  {
   "cell_type": "code",
   "execution_count": 1,
   "metadata": {},
   "outputs": [],
   "source": [
    "import pandas as pd\n",
    "import csv\n",
    "import numpy as np\n",
    "from sklearn.ensemble import RandomForestRegressor, GradientBoostingRegressor\n",
    "from pprint import pprint\n",
    "\n",
    "df_2012_train = pd.read_csv('df_2012_train.csv') \n",
    "df_2012_train = df_2012_train.set_index('fips')\n",
    "df_2012_test = pd.read_csv('df_2012_test.csv') \n",
    "df_2012_test = df_2012_test.set_index('fips')\n",
    "df_2016_train = pd.read_csv('df_2016_train.csv') \n",
    "df_2016_train = df_2016_train.set_index('county_name')\n",
    "df_2016_test = pd.read_csv('df_2016_test.csv') \n",
    "df_2016_test = df_2016_test.set_index('county_name')"
   ]
  },
  {
   "cell_type": "code",
   "execution_count": 2,
   "metadata": {},
   "outputs": [
    {
     "data": {
      "text/html": [
       "<div>\n",
       "<style scoped>\n",
       "    .dataframe tbody tr th:only-of-type {\n",
       "        vertical-align: middle;\n",
       "    }\n",
       "\n",
       "    .dataframe tbody tr th {\n",
       "        vertical-align: top;\n",
       "    }\n",
       "\n",
       "    .dataframe thead th {\n",
       "        text-align: right;\n",
       "    }\n",
       "</style>\n",
       "<table border=\"1\" class=\"dataframe\">\n",
       "  <thead>\n",
       "    <tr style=\"text-align: right;\">\n",
       "      <th></th>\n",
       "      <th>state_abbreviation</th>\n",
       "      <th>county_name</th>\n",
       "      <th>diff_2012</th>\n",
       "      <th>land_area</th>\n",
       "      <th>population</th>\n",
       "      <th>perc_female</th>\n",
       "      <th>perc_u5</th>\n",
       "      <th>perc_o18</th>\n",
       "      <th>perc_o65</th>\n",
       "      <th>perc_2races</th>\n",
       "      <th>...</th>\n",
       "      <th>hc_value_1k</th>\n",
       "      <th>food_value_1k</th>\n",
       "      <th>median_income</th>\n",
       "      <th>per_cap_income</th>\n",
       "      <th>perc_pov</th>\n",
       "      <th>num_establishments</th>\n",
       "      <th>annual_payroll</th>\n",
       "      <th>vet_num_firms</th>\n",
       "      <th>fem_num_firms</th>\n",
       "      <th>min_num_firms</th>\n",
       "    </tr>\n",
       "    <tr>\n",
       "      <th>fips</th>\n",
       "      <th></th>\n",
       "      <th></th>\n",
       "      <th></th>\n",
       "      <th></th>\n",
       "      <th></th>\n",
       "      <th></th>\n",
       "      <th></th>\n",
       "      <th></th>\n",
       "      <th></th>\n",
       "      <th></th>\n",
       "      <th></th>\n",
       "      <th></th>\n",
       "      <th></th>\n",
       "      <th></th>\n",
       "      <th></th>\n",
       "      <th></th>\n",
       "      <th></th>\n",
       "      <th></th>\n",
       "      <th></th>\n",
       "      <th></th>\n",
       "      <th></th>\n",
       "    </tr>\n",
       "  </thead>\n",
       "  <tbody>\n",
       "    <tr>\n",
       "      <th>50011</th>\n",
       "      <td>VT</td>\n",
       "      <td>Franklin County</td>\n",
       "      <td>0.235485</td>\n",
       "      <td>0.607936</td>\n",
       "      <td>0.554590</td>\n",
       "      <td>0.852168</td>\n",
       "      <td>0.752126</td>\n",
       "      <td>0.454698</td>\n",
       "      <td>0.679059</td>\n",
       "      <td>0.334973</td>\n",
       "      <td>...</td>\n",
       "      <td>0.618064</td>\n",
       "      <td>0.598671</td>\n",
       "      <td>0.573469</td>\n",
       "      <td>0.538418</td>\n",
       "      <td>0.619473</td>\n",
       "      <td>0.426309</td>\n",
       "      <td>0.575188</td>\n",
       "      <td>0.366486</td>\n",
       "      <td>0.414746</td>\n",
       "      <td>0.166732</td>\n",
       "    </tr>\n",
       "    <tr>\n",
       "      <th>46093</th>\n",
       "      <td>SD</td>\n",
       "      <td>Meade County</td>\n",
       "      <td>-0.428453</td>\n",
       "      <td>0.800869</td>\n",
       "      <td>0.501383</td>\n",
       "      <td>0.814002</td>\n",
       "      <td>0.806294</td>\n",
       "      <td>0.452165</td>\n",
       "      <td>0.683144</td>\n",
       "      <td>0.451818</td>\n",
       "      <td>...</td>\n",
       "      <td>0.146813</td>\n",
       "      <td>0.044439</td>\n",
       "      <td>0.491513</td>\n",
       "      <td>0.502540</td>\n",
       "      <td>0.659653</td>\n",
       "      <td>0.397049</td>\n",
       "      <td>0.523883</td>\n",
       "      <td>0.330485</td>\n",
       "      <td>0.352493</td>\n",
       "      <td>0.177449</td>\n",
       "    </tr>\n",
       "  </tbody>\n",
       "</table>\n",
       "<p>2 rows × 44 columns</p>\n",
       "</div>"
      ],
      "text/plain": [
       "      state_abbreviation      county_name  diff_2012  land_area  population  \\\n",
       "fips                                                                          \n",
       "50011                 VT  Franklin County   0.235485   0.607936    0.554590   \n",
       "46093                 SD     Meade County  -0.428453   0.800869    0.501383   \n",
       "\n",
       "       perc_female   perc_u5  perc_o18  perc_o65  perc_2races  ...  \\\n",
       "fips                                                           ...   \n",
       "50011     0.852168  0.752126  0.454698  0.679059     0.334973  ...   \n",
       "46093     0.814002  0.806294  0.452165  0.683144     0.451818  ...   \n",
       "\n",
       "       hc_value_1k  food_value_1k  median_income  per_cap_income  perc_pov  \\\n",
       "fips                                                                         \n",
       "50011     0.618064       0.598671       0.573469        0.538418  0.619473   \n",
       "46093     0.146813       0.044439       0.491513        0.502540  0.659653   \n",
       "\n",
       "       num_establishments  annual_payroll  vet_num_firms  fem_num_firms  \\\n",
       "fips                                                                      \n",
       "50011            0.426309        0.575188       0.366486       0.414746   \n",
       "46093            0.397049        0.523883       0.330485       0.352493   \n",
       "\n",
       "       min_num_firms  \n",
       "fips                  \n",
       "50011       0.166732  \n",
       "46093       0.177449  \n",
       "\n",
       "[2 rows x 44 columns]"
      ]
     },
     "execution_count": 2,
     "metadata": {},
     "output_type": "execute_result"
    }
   ],
   "source": [
    "df_2012_train.head(2)"
   ]
  },
  {
   "cell_type": "code",
   "execution_count": 2,
   "metadata": {},
   "outputs": [
    {
     "name": "stderr",
     "output_type": "stream",
     "text": [
      "C:\\Users\\sajor\\Anaconda3\\lib\\site-packages\\pandas\\core\\frame.py:4025: SettingWithCopyWarning: \n",
      "A value is trying to be set on a copy of a slice from a DataFrame\n",
      "\n",
      "See the caveats in the documentation: http://pandas.pydata.org/pandas-docs/stable/indexing.html#indexing-view-versus-copy\n",
      "  return super(DataFrame, self).rename(**kwargs)\n"
     ]
    }
   ],
   "source": [
    "df_2012_train_x = df_2012_train.drop(columns = ['state_abbreviation', 'county_name', 'diff_2012'])\n",
    "df_2012_train_y = df_2012_train[['diff_2012']]\n",
    "\n",
    "df_2016_train_x = df_2016_train.drop(columns = ['state_abbreviation', 'fips', 'diff_2016'])\n",
    "df_2016_train_y = df_2016_train[['diff_2016']]\n",
    "\n",
    "df_2012_test_x = df_2012_test.drop(columns = ['state_abbreviation', 'county_name', 'diff_2012'])\n",
    "df_2012_test_y = df_2012_test[['diff_2012']]\n",
    "\n",
    "df_2016_test_x = df_2016_test.drop(columns = ['state_abbreviation', 'fips', 'diff_2016'])\n",
    "df_2016_test_y = df_2016_test[['diff_2016']]\n",
    "\n",
    "full_train_x = [df_2012_train_x, df_2016_train_x]\n",
    "full_train_x = pd.concat(full_train_x)\n",
    "df_2012_train_y.rename(columns={'diff_2012':'diff'}, inplace=True)\n",
    "df_2016_train_y.rename(columns={'diff_2016':'diff'}, inplace=True)\n",
    "\n",
    "full_train_y = [df_2012_train_y, df_2016_train_y]\n",
    "full_train_y = pd.concat(full_train_y)\n",
    "\n",
    "full_test_x = [df_2012_test_x, df_2016_test_x]\n",
    "full_test_x = pd.concat(full_test_x)\n",
    "df_2012_test_y.rename(columns={'diff_2012':'diff'}, inplace=True)\n",
    "df_2016_test_y.rename(columns={'diff_2016':'diff'}, inplace=True)\n",
    "\n",
    "full_test_y = [df_2012_test_y, df_2016_test_y]\n",
    "full_test_y = pd.concat(full_test_y)"
   ]
  },
  {
   "cell_type": "code",
   "execution_count": 6,
   "metadata": {},
   "outputs": [
    {
     "name": "stderr",
     "output_type": "stream",
     "text": [
      "C:\\Users\\sajor\\Anaconda3\\lib\\site-packages\\sklearn\\utils\\validation.py:761: DataConversionWarning: A column-vector y was passed when a 1d array was expected. Please change the shape of y to (n_samples, ), for example using ravel().\n",
      "  y = column_or_1d(y, warn=True)\n"
     ]
    },
    {
     "name": "stdout",
     "output_type": "stream",
     "text": [
      "['perc_white', 'perc_black', 'perc_asian', 'perc_white_not_hisp', 'perc_oo', 'monthly_costs_m', 'monthly_costs_nm', 'perc_bc', 'num_establishments', 'min_num_firms']\n"
     ]
    }
   ],
   "source": [
    "#2016 feature selection\n",
    "\n",
    "rgr = GradientBoostingRegressor(n_estimators=100, loss='ls', learning_rate=0.1, max_depth=3, min_samples_split=3, random_state=34)\n",
    "\n",
    "featureSelection = SelectFromModel(rgr, prefit=False, threshold='mean', max_features=None)\n",
    "featureSelection.fit(df_2016_train_x, df_2016_train_y)\n",
    "\n",
    "selectedFeatures = featureSelection.transform(df_2016_train_x)\n",
    "#selectedFeatures\n",
    "\n",
    "fs = df_2016_train_x.columns[featureSelection.get_support()]\n",
    "#remaining features\n",
    "keep = []\n",
    "for i in range(len(fs)):\n",
    "    keep.append(fs[i])\n",
    "print(keep)\n",
    "\n",
    "df_2016_train_x = df_2016_train_x[keep]\n",
    "df_2016_test_x = df_2016_test_x[keep]"
   ]
  },
  {
   "cell_type": "code",
   "execution_count": 5,
   "metadata": {},
   "outputs": [
    {
     "name": "stderr",
     "output_type": "stream",
     "text": [
      "C:\\Users\\sajor\\Anaconda3\\lib\\site-packages\\sklearn\\utils\\validation.py:761: DataConversionWarning: A column-vector y was passed when a 1d array was expected. Please change the shape of y to (n_samples, ), for example using ravel().\n",
      "  y = column_or_1d(y, warn=True)\n"
     ]
    },
    {
     "name": "stdout",
     "output_type": "stream",
     "text": [
      "['perc_white', 'perc_white_not_hisp', 'perc_oo', 'median_oo_value', 'monthly_costs_m', 'monthly_costs_nm', 'perc_bc', 'wholesale_value_1k', 'num_establishments', 'annual_payroll']\n"
     ]
    }
   ],
   "source": [
    "rgr = GradientBoostingRegressor(n_estimators=100, loss='ls', learning_rate=0.1, max_depth=3, min_samples_split=3, random_state=34)\n",
    "featureSelection = SelectFromModel(rgr, prefit=False, threshold='mean', max_features=None)\n",
    "featureSelection.fit(full_train_x, full_train_y)\n",
    "\n",
    "selectedFeatures = featureSelection.transform(full_train_x)\n",
    "#selectedFeatures\n",
    "\n",
    "fs = full_train_x.columns[featureSelection.get_support()]\n",
    "#remaining features\n",
    "keep = []\n",
    "for i in range(len(fs)):\n",
    "    keep.append(fs[i])\n",
    "print(keep)\n",
    "\n",
    "full_train_x = full_train_x[keep]\n",
    "full_test_x = full_test_x[keep]\n",
    "\n"
   ]
  },
  {
   "cell_type": "code",
   "execution_count": 10,
   "metadata": {},
   "outputs": [
    {
     "name": "stdout",
     "output_type": "stream",
     "text": [
      "{'alpha': 0.9,\n",
      " 'criterion': 'friedman_mse',\n",
      " 'init': None,\n",
      " 'learning_rate': 0.1,\n",
      " 'loss': 'ls',\n",
      " 'max_depth': 3,\n",
      " 'max_features': None,\n",
      " 'max_leaf_nodes': None,\n",
      " 'min_impurity_decrease': 0.0,\n",
      " 'min_impurity_split': None,\n",
      " 'min_samples_leaf': 1,\n",
      " 'min_samples_split': 2,\n",
      " 'min_weight_fraction_leaf': 0.0,\n",
      " 'n_estimators': 100,\n",
      " 'n_iter_no_change': None,\n",
      " 'presort': 'auto',\n",
      " 'random_state': 33,\n",
      " 'subsample': 1.0,\n",
      " 'tol': 0.0001,\n",
      " 'validation_fraction': 0.1,\n",
      " 'verbose': 0,\n",
      " 'warm_start': False}\n"
     ]
    }
   ],
   "source": [
    "gb = GradientBoostingRegressor(random_state = 33)\n",
    "pprint(gb.get_params())"
   ]
  },
  {
   "cell_type": "code",
   "execution_count": 13,
   "metadata": {},
   "outputs": [
    {
     "name": "stdout",
     "output_type": "stream",
     "text": [
      "{'learning_rate': [2, 1, 0.5, 0.25, 0.1, 0.05, 0.01],\n",
      " 'max_depth': [10, 20, 30, 40, 50, 60, 70, 80, 90, 100, 110, None],\n",
      " 'max_features': ['auto', 'sqrt'],\n",
      " 'min_samples_leaf': [1, 2, 4],\n",
      " 'min_samples_split': [2, 5, 10],\n",
      " 'n_estimators': [10, 231, 452, 673, 894, 1115, 1336, 1557, 1778, 2000]}\n"
     ]
    }
   ],
   "source": [
    "from sklearn.model_selection import RandomizedSearchCV\n",
    "\n",
    "# GBmodel = GradientBoostingRegressor()\n",
    "# param_dist = {\"learning_rate\": np.linspace(0.05, 0.15,5),\n",
    "#               \"max_depth\": range(3, 5),\n",
    "#               \"min_samples_leaf\": range(3, 5)}\n",
    "\n",
    "\n",
    "learning_rate = [2, 1, 0.5, 0.25, 0.1, 0.05, 0.01]\n",
    "# Number of trees in  forest\n",
    "n_estimators = [int(x) for x in np.linspace(start = 10, stop = 2000, num = 10)]\n",
    "# Number of features to consider at every split\n",
    "max_features = ['auto', 'sqrt']\n",
    "# Maximum number of levels in tree\n",
    "max_depth = [int(x) for x in np.linspace(10, 110, num = 11)]\n",
    "max_depth.append(None)\n",
    "# Minimum number of samples required to split a node\n",
    "min_samples_split = [2, 5, 10]\n",
    "# Minimum number of samples required at each leaf node\n",
    "min_samples_leaf = [1, 2, 4]\n",
    "# Method of selecting samples for training each tree\n",
    "# Create the random grid\n",
    "random_grid = {'learning_rate': learning_rate,\n",
    "               'n_estimators': n_estimators,\n",
    "               'max_features': max_features,\n",
    "               'max_depth': max_depth,\n",
    "               'min_samples_split': min_samples_split,\n",
    "               'min_samples_leaf': min_samples_leaf,}\n",
    "pprint(random_grid)"
   ]
  },
  {
   "cell_type": "code",
   "execution_count": 15,
   "metadata": {},
   "outputs": [
    {
     "name": "stdout",
     "output_type": "stream",
     "text": [
      "Fitting 3 folds for each of 20 candidates, totalling 60 fits\n"
     ]
    },
    {
     "name": "stderr",
     "output_type": "stream",
     "text": [
      "[Parallel(n_jobs=-1)]: Using backend LokyBackend with 4 concurrent workers.\n",
      "[Parallel(n_jobs=-1)]: Done  33 tasks      | elapsed:  2.5min\n",
      "[Parallel(n_jobs=-1)]: Done  60 out of  60 | elapsed:  4.5min finished\n",
      "C:\\Users\\sajor\\Anaconda3\\lib\\site-packages\\sklearn\\model_selection\\_search.py:841: DeprecationWarning: The default of the `iid` parameter will change from True to False in version 0.22 and will be removed in 0.24. This will change numeric results when test-set sizes are unequal.\n",
      "  DeprecationWarning)\n",
      "C:\\Users\\sajor\\Anaconda3\\lib\\site-packages\\sklearn\\utils\\validation.py:761: DataConversionWarning: A column-vector y was passed when a 1d array was expected. Please change the shape of y to (n_samples, ), for example using ravel().\n",
      "  y = column_or_1d(y, warn=True)\n"
     ]
    },
    {
     "data": {
      "text/plain": [
       "RandomizedSearchCV(cv=3, error_score='raise-deprecating',\n",
       "          estimator=GradientBoostingRegressor(alpha=0.9, criterion='friedman_mse', init=None,\n",
       "             learning_rate=0.1, loss='ls', max_depth=3, max_features=None,\n",
       "             max_leaf_nodes=None, min_impurity_decrease=0.0,\n",
       "             min_impurity_split=None, min_samples_leaf=1,\n",
       "             min_sampl...=None, subsample=1.0, tol=0.0001,\n",
       "             validation_fraction=0.1, verbose=0, warm_start=False),\n",
       "          fit_params=None, iid='warn', n_iter=20, n_jobs=-1,\n",
       "          param_distributions={'learning_rate': [2, 1, 0.5, 0.25, 0.1, 0.05, 0.01], 'n_estimators': [10, 231, 452, 673, 894, 1115, 1336, 1557, 1778, 2000], 'max_features': ['auto', 'sqrt'], 'max_depth': [10, 20, 30, 40, 50, 60, 70, 80, 90, 100, 110, None], 'min_samples_split': [2, 5, 10], 'min_samples_leaf': [1, 2, 4]},\n",
       "          pre_dispatch='2*n_jobs', random_state=31, refit=True,\n",
       "          return_train_score='warn', scoring=None, verbose=2)"
      ]
     },
     "execution_count": 15,
     "metadata": {},
     "output_type": "execute_result"
    }
   ],
   "source": [
    "# Use the random grid to search for best hyperparameters\n",
    "# First create the base model to tune\n",
    "gb = GradientBoostingRegressor()\n",
    "# Random search of parameters, using 3 fold cross validation, \n",
    "# search across 100 different combinations, and use all available cores\n",
    "gb_random = RandomizedSearchCV(estimator = gb, param_distributions = random_grid, n_iter = 20, cv = 3, verbose=2, random_state=31, n_jobs = -1)\n",
    "# Fit the random search model\n",
    "gb_random.fit(df_2012_train_x, df_2012_train_y)"
   ]
  },
  {
   "cell_type": "code",
   "execution_count": 16,
   "metadata": {},
   "outputs": [
    {
     "name": "stdout",
     "output_type": "stream",
     "text": [
      "BASE MODEL\n"
     ]
    },
    {
     "name": "stderr",
     "output_type": "stream",
     "text": [
      "C:\\Users\\sajor\\Anaconda3\\lib\\site-packages\\sklearn\\utils\\validation.py:761: DataConversionWarning: A column-vector y was passed when a 1d array was expected. Please change the shape of y to (n_samples, ), for example using ravel().\n",
      "  y = column_or_1d(y, warn=True)\n"
     ]
    },
    {
     "name": "stdout",
     "output_type": "stream",
     "text": [
      "rmse: 0.1479730731564178\n",
      "r2: 0.7395848717727767\n"
     ]
    }
   ],
   "source": [
    "from sklearn.metrics import mean_squared_error\n",
    "from sklearn.metrics import explained_variance_score\n",
    "\n",
    "def evaluate(model, test_features, test_labels):\n",
    "    predictions = model.predict(test_features)\n",
    "    mse = mean_squared_error(test_labels, predictions)\n",
    "    rmse = np.sqrt(mse)\n",
    "    print(\"rmse:\",rmse)\n",
    "    r2 = explained_variance_score(test_labels, predictions)\n",
    "    print(\"r2:\",r2)\n",
    "\n",
    "print(\"BASE MODEL\")\n",
    "base_model = GradientBoostingRegressor(random_state = 31)\n",
    "base_model.fit(df_2012_train_x, df_2012_train_y)\n",
    "base_accuracy = evaluate(base_model, df_2012_test_x, df_2012_test_y)"
   ]
  },
  {
   "cell_type": "code",
   "execution_count": 17,
   "metadata": {},
   "outputs": [
    {
     "data": {
      "text/plain": [
       "{'n_estimators': 894,\n",
       " 'min_samples_split': 2,\n",
       " 'min_samples_leaf': 4,\n",
       " 'max_features': 'sqrt',\n",
       " 'max_depth': 20,\n",
       " 'learning_rate': 0.05}"
      ]
     },
     "execution_count": 17,
     "metadata": {},
     "output_type": "execute_result"
    }
   ],
   "source": [
    "gb_random.best_params_"
   ]
  },
  {
   "cell_type": "code",
   "execution_count": 18,
   "metadata": {},
   "outputs": [
    {
     "name": "stdout",
     "output_type": "stream",
     "text": [
      "best random\n",
      "rmse: 0.139825459547378\n",
      "r2: 0.7675866616770286\n"
     ]
    }
   ],
   "source": [
    "print('best random')\n",
    "best_random =gb_random.best_estimator_\n",
    "random_accuracy = evaluate(best_random, df_2012_test_x, df_2012_test_y)"
   ]
  },
  {
   "cell_type": "code",
   "execution_count": 7,
   "metadata": {},
   "outputs": [],
   "source": [
    "from sklearn.model_selection import GridSearchCV\n",
    "# Create the parameter grid based on the results of random search \n",
    "param_grid = {\n",
    "    'max_depth': [10, 20, 30],\n",
    "    'max_features': ['sqrt'],\n",
    "    'min_samples_leaf': [3, 4, 5],\n",
    "    'min_samples_split': [2, 3, 4],\n",
    "    'n_estimators': [800, 900, 1000],\n",
    "    'learning_rate': [0.03, 0.05, 0.07, .1]}\n",
    "# Create a based model\n",
    "gb = GradientBoostingRegressor()\n",
    "# Instantiate the grid search model\n",
    "grid_search = GridSearchCV(estimator = gb, param_grid = param_grid, \n",
    "                          cv = 3, n_jobs = -1, verbose = 2)"
   ]
  },
  {
   "cell_type": "code",
   "execution_count": 20,
   "metadata": {},
   "outputs": [
    {
     "name": "stdout",
     "output_type": "stream",
     "text": [
      "Fitting 3 folds for each of 324 candidates, totalling 972 fits\n"
     ]
    },
    {
     "name": "stderr",
     "output_type": "stream",
     "text": [
      "[Parallel(n_jobs=-1)]: Using backend LokyBackend with 4 concurrent workers.\n",
      "[Parallel(n_jobs=-1)]: Done  33 tasks      | elapsed:  1.3min\n",
      "[Parallel(n_jobs=-1)]: Done 154 tasks      | elapsed:  5.7min\n",
      "[Parallel(n_jobs=-1)]: Done 357 tasks      | elapsed: 12.9min\n",
      "[Parallel(n_jobs=-1)]: Done 640 tasks      | elapsed: 20.8min\n",
      "[Parallel(n_jobs=-1)]: Done 972 out of 972 | elapsed: 26.6min finished\n",
      "C:\\Users\\sajor\\Anaconda3\\lib\\site-packages\\sklearn\\utils\\validation.py:761: DataConversionWarning: A column-vector y was passed when a 1d array was expected. Please change the shape of y to (n_samples, ), for example using ravel().\n",
      "  y = column_or_1d(y, warn=True)\n"
     ]
    },
    {
     "data": {
      "text/plain": [
       "{'learning_rate': 0.03,\n",
       " 'max_depth': 10,\n",
       " 'max_features': 'sqrt',\n",
       " 'min_samples_leaf': 5,\n",
       " 'min_samples_split': 3,\n",
       " 'n_estimators': 1000}"
      ]
     },
     "execution_count": 20,
     "metadata": {},
     "output_type": "execute_result"
    }
   ],
   "source": [
    "# Fit the grid search to the data\n",
    "grid_search.fit(df_2012_train_x, df_2012_train_y)\n",
    "grid_search.best_params_\n",
    "\n"
   ]
  },
  {
   "cell_type": "code",
   "execution_count": 21,
   "metadata": {},
   "outputs": [],
   "source": [
    "from sklearn.metrics import mean_absolute_error, mean_squared_error, explained_variance_score\n",
    "def evaluate(model, test_features, test_labels):\n",
    "    predictions = model.predict(test_features)\n",
    "    mse = mean_squared_error(test_labels, predictions)\n",
    "    rmse = np.sqrt(mse)\n",
    "    print(\"mse:\", mse)\n",
    "    print(\"rmse:\",rmse)\n",
    "    mae = mean_absolute_error(test_labels, predictions)\n",
    "    print(\"mae:\", mae)\n",
    "    r2 = explained_variance_score(test_labels, predictions)\n",
    "    print(\"r2:\",r2)"
   ]
  },
  {
   "cell_type": "code",
   "execution_count": 22,
   "metadata": {},
   "outputs": [
    {
     "name": "stderr",
     "output_type": "stream",
     "text": [
      "C:\\Users\\sajor\\Anaconda3\\lib\\site-packages\\pandas\\core\\frame.py:4025: SettingWithCopyWarning: \n",
      "A value is trying to be set on a copy of a slice from a DataFrame\n",
      "\n",
      "See the caveats in the documentation: http://pandas.pydata.org/pandas-docs/stable/indexing.html#indexing-view-versus-copy\n",
      "  return super(DataFrame, self).rename(**kwargs)\n"
     ]
    }
   ],
   "source": [
    "df_2012_train_x2 = df_2012_train.drop(columns = ['state_abbreviation', 'county_name', 'diff_2012'])\n",
    "df_2012_train_y2 = df_2012_train[['diff_2012']]\n",
    "\n",
    "df_2016_train_x2 = df_2016_train.drop(columns = ['state_abbreviation', 'fips', 'diff_2016'])\n",
    "df_2016_train_y2 = df_2016_train[['diff_2016']]\n",
    "\n",
    "df_2012_test_x2 = df_2012_test.drop(columns = ['state_abbreviation', 'county_name', 'diff_2012'])\n",
    "df_2012_test_y2 = df_2012_test[['diff_2012']]\n",
    "\n",
    "df_2016_test_x2 = df_2016_test.drop(columns = ['state_abbreviation', 'fips', 'diff_2016'])\n",
    "df_2016_test_y2 = df_2016_test[['diff_2016']]\n",
    "\n",
    "full_train_x2 = [df_2012_train_x2, df_2016_train_x2]\n",
    "full_train_x2 = pd.concat(full_train_x2)\n",
    "df_2012_train_y2.rename(columns={'diff_2012':'diff'}, inplace=True)\n",
    "df_2016_train_y2.rename(columns={'diff_2016':'diff'}, inplace=True)\n",
    "\n",
    "full_train_y2 = [df_2012_train_y2, df_2016_train_y2]\n",
    "full_train_y2 = pd.concat(full_train_y2)\n",
    "\n",
    "full_test_x2 = [df_2012_test_x2, df_2016_test_x2]\n",
    "full_test_x2 = pd.concat(full_test_x2)\n",
    "df_2012_test_y2.rename(columns={'diff_2012':'diff'}, inplace=True)\n",
    "df_2016_test_y2.rename(columns={'diff_2016':'diff'}, inplace=True)\n",
    "\n",
    "full_test_y2 = [df_2012_test_y2, df_2016_test_y2]\n",
    "full_test_y2 = pd.concat(full_test_y2)"
   ]
  },
  {
   "cell_type": "code",
   "execution_count": 23,
   "metadata": {},
   "outputs": [
    {
     "name": "stdout",
     "output_type": "stream",
     "text": [
      "2012 GRID Search on 2012\n",
      "mse: 0.018751751149209118\n",
      "rmse: 0.13693703351982298\n",
      "mae: 0.10440488952126302\n",
      "r2: 0.777035171643355\n",
      "2012 GRID Search on 2016\n",
      "mse: 0.025626639967522135\n",
      "rmse: 0.16008322825181323\n",
      "mae: 0.1241719748388757\n",
      "r2: 0.7265101894678216\n",
      "2012 GRID Search on Full\n",
      "mse: 0.022189195558365626\n",
      "rmse: 0.14896038251281993\n",
      "mae: 0.11428843218006934\n",
      "r2: 0.7572473572066064\n"
     ]
    }
   ],
   "source": [
    "fts_2012 = ['population', 'perc_o18', 'perc_white', 'perc_white_not_hisp', 'perc_oo', 'median_oo_value', 'monthly_costs_nm', 'num_nonemployers', 'man_value_1k', 'wholesale_value_1k', 'num_establishments']\n",
    "test_x = df_2016_test_x2[fts_2012]\n",
    "full_x = full_test_x2[fts_2012]\n",
    "\n",
    "\n",
    "\n",
    "print('2012 GRID Search on 2012')\n",
    "grid_accuracy = evaluate(grid_search, df_2012_test_x, df_2012_test_y)\n",
    "print('2012 GRID Search on 2016')\n",
    "grid_accuracy = evaluate(grid_search, test_x, df_2016_test_y2)\n",
    "print('2012 GRID Search on Full')\n",
    "grid_accuracy = evaluate(grid_search, full_x, full_test_y2)"
   ]
  },
  {
   "cell_type": "code",
   "execution_count": 24,
   "metadata": {},
   "outputs": [
    {
     "data": {
      "text/plain": [
       "{'learning_rate': 0.03,\n",
       " 'max_depth': 10,\n",
       " 'max_features': 'sqrt',\n",
       " 'min_samples_leaf': 5,\n",
       " 'min_samples_split': 3,\n",
       " 'n_estimators': 1000}"
      ]
     },
     "execution_count": 24,
     "metadata": {},
     "output_type": "execute_result"
    }
   ],
   "source": [
    "grid_search.best_params_"
   ]
  },
  {
   "cell_type": "code",
   "execution_count": 25,
   "metadata": {},
   "outputs": [
    {
     "data": {
      "text/plain": [
       "[('population', 0.08654099822245524),\n",
       " ('perc_o18', 0.06424651052296114),\n",
       " ('perc_white', 0.1568861822782711),\n",
       " ('perc_black', 0.18870443995846511),\n",
       " ('perc_white_not_hisp', 0.06265020289564498),\n",
       " ('perc_oo', 0.055785384369138435),\n",
       " ('monthly_costs_m', 0.1426076534581597),\n",
       " ('monthly_costs_nm', 0.06056906079462832),\n",
       " ('num_nonemployers', 0.06371823482154422),\n",
       " ('man_value_1k', 0.06092402550093417),\n",
       " ('wholesale_value_1k', 0.05736730717779741)]"
      ]
     },
     "execution_count": 25,
     "metadata": {},
     "output_type": "execute_result"
    }
   ],
   "source": [
    "fts = ['population', 'perc_o18', 'perc_white', 'perc_black', 'perc_white_not_hisp', 'perc_oo', 'monthly_costs_m', 'monthly_costs_nm', 'num_nonemployers', 'man_value_1k', 'wholesale_value_1k', 'num_establishments', 'annual_payroll', 'min_num_firms']\n",
    "list(zip(fts,list(grid_search.best_estimator_.feature_importances_)))"
   ]
  },
  {
   "cell_type": "code",
   "execution_count": 26,
   "metadata": {},
   "outputs": [
    {
     "name": "stdout",
     "output_type": "stream",
     "text": [
      "Fitting 3 folds for each of 324 candidates, totalling 972 fits\n"
     ]
    },
    {
     "name": "stderr",
     "output_type": "stream",
     "text": [
      "[Parallel(n_jobs=-1)]: Using backend LokyBackend with 4 concurrent workers.\n",
      "[Parallel(n_jobs=-1)]: Done  33 tasks      | elapsed:  1.1min\n",
      "[Parallel(n_jobs=-1)]: Done 154 tasks      | elapsed:  5.4min\n",
      "[Parallel(n_jobs=-1)]: Done 357 tasks      | elapsed: 12.1min\n",
      "[Parallel(n_jobs=-1)]: Done 640 tasks      | elapsed: 18.9min\n",
      "[Parallel(n_jobs=-1)]: Done 972 out of 972 | elapsed: 24.3min finished\n",
      "C:\\Users\\sajor\\Anaconda3\\lib\\site-packages\\sklearn\\utils\\validation.py:761: DataConversionWarning: A column-vector y was passed when a 1d array was expected. Please change the shape of y to (n_samples, ), for example using ravel().\n",
      "  y = column_or_1d(y, warn=True)\n"
     ]
    },
    {
     "data": {
      "text/plain": [
       "{'learning_rate': 0.03,\n",
       " 'max_depth': 10,\n",
       " 'max_features': 'sqrt',\n",
       " 'min_samples_leaf': 5,\n",
       " 'min_samples_split': 4,\n",
       " 'n_estimators': 800}"
      ]
     },
     "execution_count": 26,
     "metadata": {},
     "output_type": "execute_result"
    }
   ],
   "source": [
    "# Fit the grid search to the data\n",
    "grid_search.fit(df_2016_train_x, df_2016_train_y)\n",
    "grid_search.best_params_\n"
   ]
  },
  {
   "cell_type": "code",
   "execution_count": 27,
   "metadata": {},
   "outputs": [
    {
     "name": "stdout",
     "output_type": "stream",
     "text": [
      "2016 GRID Search on 2012\n",
      "mse: 0.03946589344261203\n",
      "rmse: 0.19866024625629566\n",
      "mae: 0.15624946704843984\n",
      "r2: 0.5305136903688652\n",
      "2016 GRID Search on 2016\n",
      "mse: 0.022112566661992527\n",
      "rmse: 0.14870294772462492\n",
      "mae: 0.11398606336891468\n",
      "r2: 0.7592729890083473\n",
      "2016 GRID Search on Full\n",
      "mse: 0.030789230052302274\n",
      "rmse: 0.17546860132884823\n",
      "mae: 0.13511776520867724\n",
      "r2: 0.6606319049455618\n"
     ]
    }
   ],
   "source": [
    "fts_2016 = ['perc_white', 'perc_black', 'perc_asian', 'perc_white_not_hisp', 'perc_oo', 'monthly_costs_m', 'monthly_costs_nm', 'perc_bc', 'num_establishments', 'min_num_firms']\n",
    "\n",
    "test_x = df_2012_test_x2[fts_2016]\n",
    "full_x = full_test_x2[fts_2016]\n",
    "\n",
    "print('2016 GRID Search on 2012')\n",
    "grid_accuracy = evaluate(grid_search, test_x, df_2012_test_y2)\n",
    "print('2016 GRID Search on 2016')\n",
    "grid_accuracy = evaluate(grid_search, df_2016_test_x, df_2016_test_y)\n",
    "print('2016 GRID Search on Full')\n",
    "grid_accuracy = evaluate(grid_search, full_x, full_test_y2)"
   ]
  },
  {
   "cell_type": "code",
   "execution_count": 28,
   "metadata": {},
   "outputs": [
    {
     "data": {
      "text/plain": [
       "{'learning_rate': 0.03,\n",
       " 'max_depth': 10,\n",
       " 'max_features': 'sqrt',\n",
       " 'min_samples_leaf': 5,\n",
       " 'min_samples_split': 4,\n",
       " 'n_estimators': 800}"
      ]
     },
     "execution_count": 28,
     "metadata": {},
     "output_type": "execute_result"
    }
   ],
   "source": [
    "grid_search.best_params_"
   ]
  },
  {
   "cell_type": "code",
   "execution_count": 30,
   "metadata": {},
   "outputs": [
    {
     "data": {
      "text/plain": [
       "[('perc_white', 0.19157841526969183),\n",
       " ('perc_black', 0.06279472828127841),\n",
       " ('perc_asian', 0.07383929396401541),\n",
       " ('perc_white_not_hisp', 0.1599304111403673),\n",
       " ('perc_oo', 0.05657675974524884),\n",
       " ('monthly_costs_m', 0.10395103418064872),\n",
       " ('monthly_costs_nm', 0.0809670841061856),\n",
       " ('perc_bc', 0.11136455538795222),\n",
       " ('num_establishments', 0.08430967562377968),\n",
       " ('min_num_firms', 0.07468804230083198)]"
      ]
     },
     "execution_count": 30,
     "metadata": {},
     "output_type": "execute_result"
    }
   ],
   "source": [
    "list(zip(fts_2016,list(grid_search.best_estimator_.feature_importances_)))"
   ]
  },
  {
   "cell_type": "code",
   "execution_count": 11,
   "metadata": {},
   "outputs": [
    {
     "name": "stdout",
     "output_type": "stream",
     "text": [
      "Fitting 3 folds for each of 1 candidates, totalling 3 fits\n"
     ]
    },
    {
     "name": "stderr",
     "output_type": "stream",
     "text": [
      "[Parallel(n_jobs=-1)]: Using backend LokyBackend with 4 concurrent workers.\n",
      "[Parallel(n_jobs=-1)]: Done   3 out of   3 | elapsed:   26.5s finished\n",
      "C:\\Users\\sajor\\Anaconda3\\lib\\site-packages\\sklearn\\utils\\validation.py:761: DataConversionWarning: A column-vector y was passed when a 1d array was expected. Please change the shape of y to (n_samples, ), for example using ravel().\n",
      "  y = column_or_1d(y, warn=True)\n"
     ]
    },
    {
     "data": {
      "text/plain": [
       "{'learning_rate': 0.03,\n",
       " 'max_depth': 100,\n",
       " 'max_features': 'sqrt',\n",
       " 'min_samples_leaf': 2,\n",
       " 'min_samples_split': 3,\n",
       " 'n_estimators': 900}"
      ]
     },
     "execution_count": 11,
     "metadata": {},
     "output_type": "execute_result"
    }
   ],
   "source": [
    "# Fit the grid search to the data\n",
    "grid_search.fit(full_train_x, full_train_y)\n",
    "grid_search.best_params_"
   ]
  },
  {
   "cell_type": "code",
   "execution_count": 14,
   "metadata": {},
   "outputs": [],
   "source": [
    "predictions = grid_search.predict(full_test_x)"
   ]
  },
  {
   "cell_type": "code",
   "execution_count": 16,
   "metadata": {},
   "outputs": [
    {
     "data": {
      "text/plain": [
       "1246"
      ]
     },
     "execution_count": 16,
     "metadata": {},
     "output_type": "execute_result"
    }
   ],
   "source": [
    "len(predictions)"
   ]
  },
  {
   "cell_type": "code",
   "execution_count": 17,
   "metadata": {},
   "outputs": [
    {
     "data": {
      "text/plain": [
       "1246"
      ]
     },
     "execution_count": 17,
     "metadata": {},
     "output_type": "execute_result"
    }
   ],
   "source": [
    "len(full_test_y)"
   ]
  },
  {
   "cell_type": "code",
   "execution_count": 18,
   "metadata": {},
   "outputs": [],
   "source": [
    "import matplotlib.pyplot as plt\n",
    "import seaborn as sns"
   ]
  },
  {
   "cell_type": "code",
   "execution_count": 27,
   "metadata": {},
   "outputs": [
    {
     "data": {
      "text/plain": [
       "array(<bound method DataFrame.diff of                         diff\n",
       "36099               0.092279\n",
       "37011              -0.502416\n",
       "8067                0.088112\n",
       "56029              -0.573213\n",
       "45067               0.298253\n",
       "36075               0.078526\n",
       "42045               0.218194\n",
       "31099              -0.500634\n",
       "42009              -0.549291\n",
       "46053              -0.422129\n",
       "49057              -0.460341\n",
       "8053               -0.207358\n",
       "42035              -0.113559\n",
       "41009               0.051421\n",
       "21193              -0.585254\n",
       "30065              -0.556736\n",
       "51023              -0.385655\n",
       "12069              -0.171404\n",
       "42113              -0.283231\n",
       "47135              -0.223579\n",
       "35061               0.024777\n",
       "27015              -0.166258\n",
       "48253              -0.545307\n",
       "39151              -0.003646\n",
       "28127              -0.220508\n",
       "8095               -0.463135\n",
       "1131                0.487399\n",
       "55087              -0.018347\n",
       "12033              -0.205599\n",
       "42119              -0.234756\n",
       "...                      ...\n",
       "Atchison County    -0.557473\n",
       "Lynn County        -0.572359\n",
       "Kershaw County     -0.248346\n",
       "McCormick County   -0.032982\n",
       "Hocking County     -0.365140\n",
       "Goochland County   -0.250538\n",
       "Kane County         0.089416\n",
       "Monroe County      -0.224762\n",
       "Van Buren County   -0.476744\n",
       "Polk County        -0.575152\n",
       "Nicholas County    -0.569845\n",
       "Bradford County    -0.495041\n",
       "Tillman County     -0.475610\n",
       "Oglethorpe County  -0.420000\n",
       "Newberry County    -0.226198\n",
       "Delaware County    -0.160598\n",
       "Doddridge County   -0.703114\n",
       "Dane County         0.479889\n",
       "Benton County      -0.259606\n",
       "Twin Falls County  -0.445835\n",
       "Belmont County     -0.395487\n",
       "Walton County      -0.564354\n",
       "King George County -0.278767\n",
       "LaGrange County    -0.517693\n",
       "Delaware County    -0.298091\n",
       "Clinton County     -0.732375\n",
       "Escambia County    -0.367054\n",
       "Brunswick County   -0.287309\n",
       "Mellette County    -0.240117\n",
       "Somerset County    -0.559194\n",
       "\n",
       "[1246 rows x 1 columns]>, dtype=object)"
      ]
     },
     "execution_count": 27,
     "metadata": {},
     "output_type": "execute_result"
    }
   ],
   "source": [
    "actuals = np.array(full_test_y.diff)\n",
    "#plt.plot(actuals)\n",
    "actuals"
   ]
  },
  {
   "cell_type": "code",
   "execution_count": 23,
   "metadata": {},
   "outputs": [
    {
     "data": {
      "text/html": [
       "<div>\n",
       "<style scoped>\n",
       "    .dataframe tbody tr th:only-of-type {\n",
       "        vertical-align: middle;\n",
       "    }\n",
       "\n",
       "    .dataframe tbody tr th {\n",
       "        vertical-align: top;\n",
       "    }\n",
       "\n",
       "    .dataframe thead th {\n",
       "        text-align: right;\n",
       "    }\n",
       "</style>\n",
       "<table border=\"1\" class=\"dataframe\">\n",
       "  <thead>\n",
       "    <tr style=\"text-align: right;\">\n",
       "      <th></th>\n",
       "      <th>diff</th>\n",
       "    </tr>\n",
       "  </thead>\n",
       "  <tbody>\n",
       "    <tr>\n",
       "      <th>36099</th>\n",
       "      <td>0.092279</td>\n",
       "    </tr>\n",
       "    <tr>\n",
       "      <th>37011</th>\n",
       "      <td>-0.502416</td>\n",
       "    </tr>\n",
       "    <tr>\n",
       "      <th>8067</th>\n",
       "      <td>0.088112</td>\n",
       "    </tr>\n",
       "    <tr>\n",
       "      <th>56029</th>\n",
       "      <td>-0.573213</td>\n",
       "    </tr>\n",
       "    <tr>\n",
       "      <th>45067</th>\n",
       "      <td>0.298253</td>\n",
       "    </tr>\n",
       "    <tr>\n",
       "      <th>36075</th>\n",
       "      <td>0.078526</td>\n",
       "    </tr>\n",
       "    <tr>\n",
       "      <th>42045</th>\n",
       "      <td>0.218194</td>\n",
       "    </tr>\n",
       "    <tr>\n",
       "      <th>31099</th>\n",
       "      <td>-0.500634</td>\n",
       "    </tr>\n",
       "    <tr>\n",
       "      <th>42009</th>\n",
       "      <td>-0.549291</td>\n",
       "    </tr>\n",
       "    <tr>\n",
       "      <th>46053</th>\n",
       "      <td>-0.422129</td>\n",
       "    </tr>\n",
       "    <tr>\n",
       "      <th>49057</th>\n",
       "      <td>-0.460341</td>\n",
       "    </tr>\n",
       "    <tr>\n",
       "      <th>8053</th>\n",
       "      <td>-0.207358</td>\n",
       "    </tr>\n",
       "    <tr>\n",
       "      <th>42035</th>\n",
       "      <td>-0.113559</td>\n",
       "    </tr>\n",
       "    <tr>\n",
       "      <th>41009</th>\n",
       "      <td>0.051421</td>\n",
       "    </tr>\n",
       "    <tr>\n",
       "      <th>21193</th>\n",
       "      <td>-0.585254</td>\n",
       "    </tr>\n",
       "    <tr>\n",
       "      <th>30065</th>\n",
       "      <td>-0.556736</td>\n",
       "    </tr>\n",
       "    <tr>\n",
       "      <th>51023</th>\n",
       "      <td>-0.385655</td>\n",
       "    </tr>\n",
       "    <tr>\n",
       "      <th>12069</th>\n",
       "      <td>-0.171404</td>\n",
       "    </tr>\n",
       "    <tr>\n",
       "      <th>42113</th>\n",
       "      <td>-0.283231</td>\n",
       "    </tr>\n",
       "    <tr>\n",
       "      <th>47135</th>\n",
       "      <td>-0.223579</td>\n",
       "    </tr>\n",
       "    <tr>\n",
       "      <th>35061</th>\n",
       "      <td>0.024777</td>\n",
       "    </tr>\n",
       "    <tr>\n",
       "      <th>27015</th>\n",
       "      <td>-0.166258</td>\n",
       "    </tr>\n",
       "    <tr>\n",
       "      <th>48253</th>\n",
       "      <td>-0.545307</td>\n",
       "    </tr>\n",
       "    <tr>\n",
       "      <th>39151</th>\n",
       "      <td>-0.003646</td>\n",
       "    </tr>\n",
       "    <tr>\n",
       "      <th>28127</th>\n",
       "      <td>-0.220508</td>\n",
       "    </tr>\n",
       "    <tr>\n",
       "      <th>8095</th>\n",
       "      <td>-0.463135</td>\n",
       "    </tr>\n",
       "    <tr>\n",
       "      <th>1131</th>\n",
       "      <td>0.487399</td>\n",
       "    </tr>\n",
       "    <tr>\n",
       "      <th>55087</th>\n",
       "      <td>-0.018347</td>\n",
       "    </tr>\n",
       "    <tr>\n",
       "      <th>12033</th>\n",
       "      <td>-0.205599</td>\n",
       "    </tr>\n",
       "    <tr>\n",
       "      <th>42119</th>\n",
       "      <td>-0.234756</td>\n",
       "    </tr>\n",
       "    <tr>\n",
       "      <th>...</th>\n",
       "      <td>...</td>\n",
       "    </tr>\n",
       "    <tr>\n",
       "      <th>Atchison County</th>\n",
       "      <td>-0.557473</td>\n",
       "    </tr>\n",
       "    <tr>\n",
       "      <th>Lynn County</th>\n",
       "      <td>-0.572359</td>\n",
       "    </tr>\n",
       "    <tr>\n",
       "      <th>Kershaw County</th>\n",
       "      <td>-0.248346</td>\n",
       "    </tr>\n",
       "    <tr>\n",
       "      <th>McCormick County</th>\n",
       "      <td>-0.032982</td>\n",
       "    </tr>\n",
       "    <tr>\n",
       "      <th>Hocking County</th>\n",
       "      <td>-0.365140</td>\n",
       "    </tr>\n",
       "    <tr>\n",
       "      <th>Goochland County</th>\n",
       "      <td>-0.250538</td>\n",
       "    </tr>\n",
       "    <tr>\n",
       "      <th>Kane County</th>\n",
       "      <td>0.089416</td>\n",
       "    </tr>\n",
       "    <tr>\n",
       "      <th>Monroe County</th>\n",
       "      <td>-0.224762</td>\n",
       "    </tr>\n",
       "    <tr>\n",
       "      <th>Van Buren County</th>\n",
       "      <td>-0.476744</td>\n",
       "    </tr>\n",
       "    <tr>\n",
       "      <th>Polk County</th>\n",
       "      <td>-0.575152</td>\n",
       "    </tr>\n",
       "    <tr>\n",
       "      <th>Nicholas County</th>\n",
       "      <td>-0.569845</td>\n",
       "    </tr>\n",
       "    <tr>\n",
       "      <th>Bradford County</th>\n",
       "      <td>-0.495041</td>\n",
       "    </tr>\n",
       "    <tr>\n",
       "      <th>Tillman County</th>\n",
       "      <td>-0.475610</td>\n",
       "    </tr>\n",
       "    <tr>\n",
       "      <th>Oglethorpe County</th>\n",
       "      <td>-0.420000</td>\n",
       "    </tr>\n",
       "    <tr>\n",
       "      <th>Newberry County</th>\n",
       "      <td>-0.226198</td>\n",
       "    </tr>\n",
       "    <tr>\n",
       "      <th>Delaware County</th>\n",
       "      <td>-0.160598</td>\n",
       "    </tr>\n",
       "    <tr>\n",
       "      <th>Doddridge County</th>\n",
       "      <td>-0.703114</td>\n",
       "    </tr>\n",
       "    <tr>\n",
       "      <th>Dane County</th>\n",
       "      <td>0.479889</td>\n",
       "    </tr>\n",
       "    <tr>\n",
       "      <th>Benton County</th>\n",
       "      <td>-0.259606</td>\n",
       "    </tr>\n",
       "    <tr>\n",
       "      <th>Twin Falls County</th>\n",
       "      <td>-0.445835</td>\n",
       "    </tr>\n",
       "    <tr>\n",
       "      <th>Belmont County</th>\n",
       "      <td>-0.395487</td>\n",
       "    </tr>\n",
       "    <tr>\n",
       "      <th>Walton County</th>\n",
       "      <td>-0.564354</td>\n",
       "    </tr>\n",
       "    <tr>\n",
       "      <th>King George County</th>\n",
       "      <td>-0.278767</td>\n",
       "    </tr>\n",
       "    <tr>\n",
       "      <th>LaGrange County</th>\n",
       "      <td>-0.517693</td>\n",
       "    </tr>\n",
       "    <tr>\n",
       "      <th>Delaware County</th>\n",
       "      <td>-0.298091</td>\n",
       "    </tr>\n",
       "    <tr>\n",
       "      <th>Clinton County</th>\n",
       "      <td>-0.732375</td>\n",
       "    </tr>\n",
       "    <tr>\n",
       "      <th>Escambia County</th>\n",
       "      <td>-0.367054</td>\n",
       "    </tr>\n",
       "    <tr>\n",
       "      <th>Brunswick County</th>\n",
       "      <td>-0.287309</td>\n",
       "    </tr>\n",
       "    <tr>\n",
       "      <th>Mellette County</th>\n",
       "      <td>-0.240117</td>\n",
       "    </tr>\n",
       "    <tr>\n",
       "      <th>Somerset County</th>\n",
       "      <td>-0.559194</td>\n",
       "    </tr>\n",
       "  </tbody>\n",
       "</table>\n",
       "<p>1246 rows × 1 columns</p>\n",
       "</div>"
      ],
      "text/plain": [
       "                        diff\n",
       "36099               0.092279\n",
       "37011              -0.502416\n",
       "8067                0.088112\n",
       "56029              -0.573213\n",
       "45067               0.298253\n",
       "36075               0.078526\n",
       "42045               0.218194\n",
       "31099              -0.500634\n",
       "42009              -0.549291\n",
       "46053              -0.422129\n",
       "49057              -0.460341\n",
       "8053               -0.207358\n",
       "42035              -0.113559\n",
       "41009               0.051421\n",
       "21193              -0.585254\n",
       "30065              -0.556736\n",
       "51023              -0.385655\n",
       "12069              -0.171404\n",
       "42113              -0.283231\n",
       "47135              -0.223579\n",
       "35061               0.024777\n",
       "27015              -0.166258\n",
       "48253              -0.545307\n",
       "39151              -0.003646\n",
       "28127              -0.220508\n",
       "8095               -0.463135\n",
       "1131                0.487399\n",
       "55087              -0.018347\n",
       "12033              -0.205599\n",
       "42119              -0.234756\n",
       "...                      ...\n",
       "Atchison County    -0.557473\n",
       "Lynn County        -0.572359\n",
       "Kershaw County     -0.248346\n",
       "McCormick County   -0.032982\n",
       "Hocking County     -0.365140\n",
       "Goochland County   -0.250538\n",
       "Kane County         0.089416\n",
       "Monroe County      -0.224762\n",
       "Van Buren County   -0.476744\n",
       "Polk County        -0.575152\n",
       "Nicholas County    -0.569845\n",
       "Bradford County    -0.495041\n",
       "Tillman County     -0.475610\n",
       "Oglethorpe County  -0.420000\n",
       "Newberry County    -0.226198\n",
       "Delaware County    -0.160598\n",
       "Doddridge County   -0.703114\n",
       "Dane County         0.479889\n",
       "Benton County      -0.259606\n",
       "Twin Falls County  -0.445835\n",
       "Belmont County     -0.395487\n",
       "Walton County      -0.564354\n",
       "King George County -0.278767\n",
       "LaGrange County    -0.517693\n",
       "Delaware County    -0.298091\n",
       "Clinton County     -0.732375\n",
       "Escambia County    -0.367054\n",
       "Brunswick County   -0.287309\n",
       "Mellette County    -0.240117\n",
       "Somerset County    -0.559194\n",
       "\n",
       "[1246 rows x 1 columns]"
      ]
     },
     "execution_count": 23,
     "metadata": {},
     "output_type": "execute_result"
    }
   ],
   "source": [
    "full_test_y"
   ]
  },
  {
   "cell_type": "code",
   "execution_count": 54,
   "metadata": {},
   "outputs": [
    {
     "name": "stdout",
     "output_type": "stream",
     "text": [
      "FULL GRID Search on 2012\n",
      "mse: 0.031919790509355596\n",
      "rmse: 0.17866110519459907\n",
      "mae: 0.13741149221996057\n",
      "r2: 0.6204370748488228\n",
      "FULL GRID Search on 2016\n",
      "mse: 0.023150139867768274\n",
      "rmse: 0.15215170018034066\n",
      "mae: 0.11559100224600931\n",
      "r2: 0.7478065538378071\n",
      "FULL GRID Search on Full\n",
      "mse: 0.027534965188561935\n",
      "rmse: 0.1659366300385841\n",
      "mae: 0.12650124723298495\n",
      "r2: 0.6965088840913378\n"
     ]
    }
   ],
   "source": [
    "fts_full = ['perc_white', 'perc_white_not_hisp', 'perc_oo', 'median_oo_value', 'monthly_costs_m', 'monthly_costs_nm', 'perc_bc', 'wholesale_value_1k', 'num_establishments', 'annual_payroll']\n",
    "\n",
    "test_x = df_2012_test_x2[fts_full]\n",
    "test2_x = df_2016_test_x2[fts_full]\n",
    "\n",
    "print('FULL GRID Search on 2012')\n",
    "grid_accuracy = evaluate(grid_search, test_x, df_2012_test_y2)\n",
    "print('FULL GRID Search on 2016')\n",
    "grid_accuracy = evaluate(grid_search, test2_x, df_2016_test_y2)\n",
    "print('FULL GRID Search on Full')\n",
    "grid_accuracy = evaluate(grid_search, full_test_x, full_test_y)"
   ]
  },
  {
   "cell_type": "code",
   "execution_count": 55,
   "metadata": {},
   "outputs": [
    {
     "data": {
      "text/plain": [
       "{'bootstrap': False,\n",
       " 'max_depth': 100,\n",
       " 'max_features': 'sqrt',\n",
       " 'min_samples_leaf': 2,\n",
       " 'min_samples_split': 3,\n",
       " 'n_estimators': 900}"
      ]
     },
     "execution_count": 55,
     "metadata": {},
     "output_type": "execute_result"
    }
   ],
   "source": [
    "grid_search.best_params_"
   ]
  },
  {
   "cell_type": "code",
   "execution_count": 10,
   "metadata": {},
   "outputs": [],
   "source": [
    "from sklearn.model_selection import GridSearchCV\n",
    "# Create the parameter grid based on the results of random search \n",
    "param_grid = {\n",
    "    'max_depth': [100],\n",
    "    'max_features': ['sqrt'],\n",
    "    'min_samples_leaf': [2],\n",
    "    'min_samples_split': [3],\n",
    "    'n_estimators': [900],\n",
    "    'learning_rate': [0.03]}\n",
    "# Create a based model\n",
    "gb = GradientBoostingRegressor()\n",
    "# Instantiate the grid search model\n",
    "grid_search = GridSearchCV(estimator = gb, param_grid = param_grid, \n",
    "                          cv = 3, n_jobs = -1, verbose = 2)"
   ]
  },
  {
   "cell_type": "code",
   "execution_count": 56,
   "metadata": {},
   "outputs": [
    {
     "data": {
      "text/plain": [
       "[('population', 0.07506219888359449),\n",
       " ('perc_white', 0.15339720069221613),\n",
       " ('perc_black', 0.07028499615253161),\n",
       " ('perc_white_not_hisp', 0.1716897021258679),\n",
       " ('median_oo_value', 0.06202126553218663),\n",
       " ('monthly_costs_m', 0.07258555593753088),\n",
       " ('monthly_costs_nm', 0.09739282411537033),\n",
       " ('perc_bc', 0.06345892937658154),\n",
       " ('num_establishments', 0.07015691427433549),\n",
       " ('annual_payroll', 0.08924956676965709),\n",
       " ('min_num_firms', 0.07470084614012744)]"
      ]
     },
     "execution_count": 56,
     "metadata": {},
     "output_type": "execute_result"
    }
   ],
   "source": [
    "list(zip(lst,list(grid_search.best_estimator_.feature_importances_)))"
   ]
  },
  {
   "cell_type": "code",
   "execution_count": null,
   "metadata": {},
   "outputs": [],
   "source": []
  }
 ],
 "metadata": {
  "kernelspec": {
   "display_name": "Python 3",
   "language": "python",
   "name": "python3"
  },
  "language_info": {
   "codemirror_mode": {
    "name": "ipython",
    "version": 3
   },
   "file_extension": ".py",
   "mimetype": "text/x-python",
   "name": "python",
   "nbconvert_exporter": "python",
   "pygments_lexer": "ipython3",
   "version": "3.7.2"
  }
 },
 "nbformat": 4,
 "nbformat_minor": 2
}
