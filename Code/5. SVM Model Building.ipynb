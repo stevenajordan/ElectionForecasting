{
 "cells": [
  {
   "cell_type": "code",
   "execution_count": 1,
   "metadata": {},
   "outputs": [],
   "source": [
    "import pandas as pd\n",
    "import csv\n",
    "import numpy as np\n",
    "from sklearn.svm import SVR\n",
    "from pprint import pprint\n",
    "\n",
    "df_2012_train = pd.read_csv('df_2012_train.csv') \n",
    "df_2012_train = df_2012_train.set_index('fips')\n",
    "df_2012_test = pd.read_csv('df_2012_test.csv') \n",
    "df_2012_test = df_2012_test.set_index('fips')\n",
    "df_2016_train = pd.read_csv('df_2016_train.csv') \n",
    "df_2016_train = df_2016_train.set_index('county_name')\n",
    "df_2016_test = pd.read_csv('df_2016_test.csv') \n",
    "df_2016_test = df_2016_test.set_index('county_name')"
   ]
  },
  {
   "cell_type": "code",
   "execution_count": 2,
   "metadata": {},
   "outputs": [
    {
     "data": {
      "text/html": [
       "<div>\n",
       "<style scoped>\n",
       "    .dataframe tbody tr th:only-of-type {\n",
       "        vertical-align: middle;\n",
       "    }\n",
       "\n",
       "    .dataframe tbody tr th {\n",
       "        vertical-align: top;\n",
       "    }\n",
       "\n",
       "    .dataframe thead th {\n",
       "        text-align: right;\n",
       "    }\n",
       "</style>\n",
       "<table border=\"1\" class=\"dataframe\">\n",
       "  <thead>\n",
       "    <tr style=\"text-align: right;\">\n",
       "      <th></th>\n",
       "      <th>state_abbreviation</th>\n",
       "      <th>county_name</th>\n",
       "      <th>diff_2012</th>\n",
       "      <th>land_area</th>\n",
       "      <th>population</th>\n",
       "      <th>perc_female</th>\n",
       "      <th>perc_u5</th>\n",
       "      <th>perc_o18</th>\n",
       "      <th>perc_o65</th>\n",
       "      <th>perc_2races</th>\n",
       "      <th>...</th>\n",
       "      <th>hc_value_1k</th>\n",
       "      <th>food_value_1k</th>\n",
       "      <th>median_income</th>\n",
       "      <th>per_cap_income</th>\n",
       "      <th>perc_pov</th>\n",
       "      <th>num_establishments</th>\n",
       "      <th>annual_payroll</th>\n",
       "      <th>vet_num_firms</th>\n",
       "      <th>fem_num_firms</th>\n",
       "      <th>min_num_firms</th>\n",
       "    </tr>\n",
       "    <tr>\n",
       "      <th>fips</th>\n",
       "      <th></th>\n",
       "      <th></th>\n",
       "      <th></th>\n",
       "      <th></th>\n",
       "      <th></th>\n",
       "      <th></th>\n",
       "      <th></th>\n",
       "      <th></th>\n",
       "      <th></th>\n",
       "      <th></th>\n",
       "      <th></th>\n",
       "      <th></th>\n",
       "      <th></th>\n",
       "      <th></th>\n",
       "      <th></th>\n",
       "      <th></th>\n",
       "      <th></th>\n",
       "      <th></th>\n",
       "      <th></th>\n",
       "      <th></th>\n",
       "      <th></th>\n",
       "    </tr>\n",
       "  </thead>\n",
       "  <tbody>\n",
       "    <tr>\n",
       "      <th>50011</th>\n",
       "      <td>VT</td>\n",
       "      <td>Franklin County</td>\n",
       "      <td>0.235485</td>\n",
       "      <td>0.607936</td>\n",
       "      <td>0.554590</td>\n",
       "      <td>0.852168</td>\n",
       "      <td>0.752126</td>\n",
       "      <td>0.454698</td>\n",
       "      <td>0.679059</td>\n",
       "      <td>0.334973</td>\n",
       "      <td>...</td>\n",
       "      <td>0.618064</td>\n",
       "      <td>0.598671</td>\n",
       "      <td>0.573469</td>\n",
       "      <td>0.538418</td>\n",
       "      <td>0.619473</td>\n",
       "      <td>0.426309</td>\n",
       "      <td>0.575188</td>\n",
       "      <td>0.366486</td>\n",
       "      <td>0.414746</td>\n",
       "      <td>0.166732</td>\n",
       "    </tr>\n",
       "    <tr>\n",
       "      <th>46093</th>\n",
       "      <td>SD</td>\n",
       "      <td>Meade County</td>\n",
       "      <td>-0.428453</td>\n",
       "      <td>0.800869</td>\n",
       "      <td>0.501383</td>\n",
       "      <td>0.814002</td>\n",
       "      <td>0.806294</td>\n",
       "      <td>0.452165</td>\n",
       "      <td>0.683144</td>\n",
       "      <td>0.451818</td>\n",
       "      <td>...</td>\n",
       "      <td>0.146813</td>\n",
       "      <td>0.044439</td>\n",
       "      <td>0.491513</td>\n",
       "      <td>0.502540</td>\n",
       "      <td>0.659653</td>\n",
       "      <td>0.397049</td>\n",
       "      <td>0.523883</td>\n",
       "      <td>0.330485</td>\n",
       "      <td>0.352493</td>\n",
       "      <td>0.177449</td>\n",
       "    </tr>\n",
       "  </tbody>\n",
       "</table>\n",
       "<p>2 rows × 44 columns</p>\n",
       "</div>"
      ],
      "text/plain": [
       "      state_abbreviation      county_name  diff_2012  land_area  population  \\\n",
       "fips                                                                          \n",
       "50011                 VT  Franklin County   0.235485   0.607936    0.554590   \n",
       "46093                 SD     Meade County  -0.428453   0.800869    0.501383   \n",
       "\n",
       "       perc_female   perc_u5  perc_o18  perc_o65  perc_2races  ...  \\\n",
       "fips                                                           ...   \n",
       "50011     0.852168  0.752126  0.454698  0.679059     0.334973  ...   \n",
       "46093     0.814002  0.806294  0.452165  0.683144     0.451818  ...   \n",
       "\n",
       "       hc_value_1k  food_value_1k  median_income  per_cap_income  perc_pov  \\\n",
       "fips                                                                         \n",
       "50011     0.618064       0.598671       0.573469        0.538418  0.619473   \n",
       "46093     0.146813       0.044439       0.491513        0.502540  0.659653   \n",
       "\n",
       "       num_establishments  annual_payroll  vet_num_firms  fem_num_firms  \\\n",
       "fips                                                                      \n",
       "50011            0.426309        0.575188       0.366486       0.414746   \n",
       "46093            0.397049        0.523883       0.330485       0.352493   \n",
       "\n",
       "       min_num_firms  \n",
       "fips                  \n",
       "50011       0.166732  \n",
       "46093       0.177449  \n",
       "\n",
       "[2 rows x 44 columns]"
      ]
     },
     "execution_count": 2,
     "metadata": {},
     "output_type": "execute_result"
    }
   ],
   "source": [
    "df_2012_train.head(2)"
   ]
  },
  {
   "cell_type": "code",
   "execution_count": 3,
   "metadata": {},
   "outputs": [
    {
     "name": "stderr",
     "output_type": "stream",
     "text": [
      "C:\\Users\\sajor\\Anaconda3\\lib\\site-packages\\pandas\\core\\frame.py:4025: SettingWithCopyWarning: \n",
      "A value is trying to be set on a copy of a slice from a DataFrame\n",
      "\n",
      "See the caveats in the documentation: http://pandas.pydata.org/pandas-docs/stable/indexing.html#indexing-view-versus-copy\n",
      "  return super(DataFrame, self).rename(**kwargs)\n"
     ]
    }
   ],
   "source": [
    "df_2012_train_x = df_2012_train.drop(columns = ['state_abbreviation', 'county_name', 'diff_2012'])\n",
    "df_2012_train_y = df_2012_train[['diff_2012']]\n",
    "\n",
    "df_2016_train_x = df_2016_train.drop(columns = ['state_abbreviation', 'fips', 'diff_2016'])\n",
    "df_2016_train_y = df_2016_train[['diff_2016']]\n",
    "\n",
    "df_2012_test_x = df_2012_test.drop(columns = ['state_abbreviation', 'county_name', 'diff_2012'])\n",
    "df_2012_test_y = df_2012_test[['diff_2012']]\n",
    "\n",
    "df_2016_test_x = df_2016_test.drop(columns = ['state_abbreviation', 'fips', 'diff_2016'])\n",
    "df_2016_test_y = df_2016_test[['diff_2016']]\n",
    "\n",
    "full_train_x = [df_2012_train_x, df_2016_train_x]\n",
    "full_train_x = pd.concat(full_train_x)\n",
    "df_2012_train_y.rename(columns={'diff_2012':'diff'}, inplace=True)\n",
    "df_2016_train_y.rename(columns={'diff_2016':'diff'}, inplace=True)\n",
    "\n",
    "full_train_y = [df_2012_train_y, df_2016_train_y]\n",
    "full_train_y = pd.concat(full_train_y)\n",
    "\n",
    "full_test_x = [df_2012_test_x, df_2016_test_x]\n",
    "full_test_x = pd.concat(full_test_x)\n",
    "df_2012_test_y.rename(columns={'diff_2012':'diff'}, inplace=True)\n",
    "df_2016_test_y.rename(columns={'diff_2016':'diff'}, inplace=True)\n",
    "\n",
    "full_test_y = [df_2012_test_y, df_2016_test_y]\n",
    "full_test_y = pd.concat(full_test_y)"
   ]
  },
  {
   "cell_type": "code",
   "execution_count": 4,
   "metadata": {},
   "outputs": [
    {
     "name": "stderr",
     "output_type": "stream",
     "text": [
      "C:\\Users\\sajor\\Anaconda3\\lib\\site-packages\\sklearn\\utils\\validation.py:761: DataConversionWarning: A column-vector y was passed when a 1d array was expected. Please change the shape of y to (n_samples, ), for example using ravel().\n",
      "  y = column_or_1d(y, warn=True)\n"
     ]
    },
    {
     "name": "stdout",
     "output_type": "stream",
     "text": [
      "['population', 'perc_female', 'perc_o18', 'perc_o65', 'perc_hisp', 'perc_white_not_hisp', 'median_oo_value', 'monthly_costs_nm', 'avg_hh_size', 'perc_1yr_res', 'perc_hs', 'perc_f_emp_2065', 'hc_value_1k', 'perc_pov', 'num_establishments']\n"
     ]
    }
   ],
   "source": [
    "#2012 FEATURE SELECTION\n",
    "\n",
    "from sklearn.feature_selection import RFE, VarianceThreshold, SelectFromModel\n",
    "\n",
    "rgr = SVR(kernel='linear', gamma=0.1, C=1.0)\n",
    "\n",
    "featureSelection = SelectFromModel(rgr, prefit=False, threshold='mean', max_features=None)\n",
    "featureSelection.fit(df_2012_train_x, df_2012_train_y)\n",
    "\n",
    "selectedFeatures = featureSelection.transform(df_2012_train_x)\n",
    "#selectedFeatures\n",
    "\n",
    "fs = df_2012_train_x.columns[featureSelection.get_support()]\n",
    "#remaining features\n",
    "keep = []\n",
    "for i in range(len(fs)):\n",
    "    keep.append(fs[i])\n",
    "print(keep)\n",
    "\n",
    "df_2012_train_x = df_2012_train_x[keep]\n",
    "df_2012_test_x = df_2012_test_x[keep]\n",
    "\n",
    "\n",
    "ft_2012 = keep"
   ]
  },
  {
   "cell_type": "code",
   "execution_count": 5,
   "metadata": {},
   "outputs": [
    {
     "name": "stderr",
     "output_type": "stream",
     "text": [
      "C:\\Users\\sajor\\Anaconda3\\lib\\site-packages\\sklearn\\utils\\validation.py:761: DataConversionWarning: A column-vector y was passed when a 1d array was expected. Please change the shape of y to (n_samples, ), for example using ravel().\n",
      "  y = column_or_1d(y, warn=True)\n"
     ]
    },
    {
     "name": "stdout",
     "output_type": "stream",
     "text": [
      "['population', 'perc_female', 'perc_o18', 'perc_o65', 'perc_white', 'perc_hisp', 'perc_white_not_hisp', 'median_oo_value', 'monthly_costs_nm', 'avg_hh_size', 'perc_hs', 'perc_f_emp_2065', 'hc_value_1k', 'median_income', 'perc_pov', 'num_establishments', 'annual_payroll']\n"
     ]
    }
   ],
   "source": [
    "#2016 feature selection\n",
    "\n",
    "rgr = SVR(kernel='linear', gamma=0.1, C=1.0)\n",
    "featureSelection = SelectFromModel(rgr, prefit=False, threshold='mean', max_features=None)\n",
    "featureSelection.fit(df_2016_train_x, df_2016_train_y)\n",
    "\n",
    "selectedFeatures = featureSelection.transform(df_2016_train_x)\n",
    "#selectedFeatures\n",
    "\n",
    "fs = df_2016_train_x.columns[featureSelection.get_support()]\n",
    "#remaining features\n",
    "keep = []\n",
    "for i in range(len(fs)):\n",
    "    keep.append(fs[i])\n",
    "print(keep)\n",
    "\n",
    "df_2016_train_x = df_2016_train_x[keep]\n",
    "df_2016_test_x = df_2016_test_x[keep]\n",
    "\n",
    "ft_2016 = keep"
   ]
  },
  {
   "cell_type": "code",
   "execution_count": 6,
   "metadata": {},
   "outputs": [
    {
     "name": "stderr",
     "output_type": "stream",
     "text": [
      "C:\\Users\\sajor\\Anaconda3\\lib\\site-packages\\sklearn\\utils\\validation.py:761: DataConversionWarning: A column-vector y was passed when a 1d array was expected. Please change the shape of y to (n_samples, ), for example using ravel().\n",
      "  y = column_or_1d(y, warn=True)\n"
     ]
    },
    {
     "name": "stdout",
     "output_type": "stream",
     "text": [
      "['population', 'perc_female', 'perc_o18', 'perc_o65', 'perc_white', 'perc_hisp', 'perc_white_not_hisp', 'median_oo_value', 'monthly_costs_nm', 'avg_hh_size', 'perc_1yr_res', 'perc_f_lang', 'perc_hs', 'perc_f_emp_2065', 'hc_value_1k', 'median_income', 'perc_pov', 'num_establishments']\n"
     ]
    }
   ],
   "source": [
    "rgr = SVR(kernel='linear', gamma=0.1, C=1.0)\n",
    "featureSelection = SelectFromModel(rgr, prefit=False, threshold='mean', max_features=None)\n",
    "featureSelection.fit(full_train_x, full_train_y)\n",
    "\n",
    "selectedFeatures = featureSelection.transform(full_train_x)\n",
    "#selectedFeatures\n",
    "\n",
    "fs = full_train_x.columns[featureSelection.get_support()]\n",
    "#remaining features\n",
    "keep = []\n",
    "for i in range(len(fs)):\n",
    "    keep.append(fs[i])\n",
    "print(keep)\n",
    "\n",
    "full_train_x = full_train_x[keep]\n",
    "full_test_x = full_test_x[keep]\n",
    "\n",
    "\n",
    "ft_full = keep"
   ]
  },
  {
   "cell_type": "code",
   "execution_count": 7,
   "metadata": {},
   "outputs": [
    {
     "name": "stdout",
     "output_type": "stream",
     "text": [
      "{'C': 1.0,\n",
      " 'cache_size': 200,\n",
      " 'coef0': 0.0,\n",
      " 'degree': 3,\n",
      " 'epsilon': 0.1,\n",
      " 'gamma': 'auto_deprecated',\n",
      " 'kernel': 'rbf',\n",
      " 'max_iter': -1,\n",
      " 'shrinking': True,\n",
      " 'tol': 0.001,\n",
      " 'verbose': False}\n"
     ]
    }
   ],
   "source": [
    "sv = SVR()\n",
    "pprint(sv.get_params())"
   ]
  },
  {
   "cell_type": "code",
   "execution_count": 8,
   "metadata": {},
   "outputs": [],
   "source": [
    "from sklearn.model_selection import RandomizedSearchCV\n",
    "\n",
    "# Not doing\n",
    "\n",
    "C = [1, 5, 10]\n",
    "# Number of trees in  forest\n",
    "kernel = ['linear', 'poly', 'rbf', 'sigmoid']\n",
    "# Maximum number of levels in tree\n",
    "gamma = ['auto', 'scale']\n"
   ]
  },
  {
   "cell_type": "code",
   "execution_count": 9,
   "metadata": {},
   "outputs": [],
   "source": [
    "from sklearn.model_selection import GridSearchCV\n",
    "# Create the parameter grid based on the results of random search \n",
    "param_grid = {\n",
    "    'C': C,\n",
    "    'kernel': kernel,\n",
    "    'gamma': gamma}\n",
    "# Create a based model\n",
    "sv = SVR()\n",
    "# Instantiate the grid search model\n",
    "grid_search = GridSearchCV(estimator = sv, param_grid = param_grid, \n",
    "                          cv = 3, n_jobs = -1, verbose = 2)"
   ]
  },
  {
   "cell_type": "code",
   "execution_count": 10,
   "metadata": {},
   "outputs": [
    {
     "name": "stdout",
     "output_type": "stream",
     "text": [
      "Fitting 3 folds for each of 24 candidates, totalling 72 fits\n"
     ]
    },
    {
     "name": "stderr",
     "output_type": "stream",
     "text": [
      "[Parallel(n_jobs=-1)]: Using backend LokyBackend with 4 concurrent workers.\n",
      "[Parallel(n_jobs=-1)]: Done  33 tasks      | elapsed:   19.5s\n",
      "[Parallel(n_jobs=-1)]: Done  72 out of  72 | elapsed:  2.8min finished\n",
      "C:\\Users\\sajor\\Anaconda3\\lib\\site-packages\\sklearn\\utils\\validation.py:761: DataConversionWarning: A column-vector y was passed when a 1d array was expected. Please change the shape of y to (n_samples, ), for example using ravel().\n",
      "  y = column_or_1d(y, warn=True)\n"
     ]
    },
    {
     "data": {
      "text/plain": [
       "{'C': 5, 'gamma': 'scale', 'kernel': 'rbf'}"
      ]
     },
     "execution_count": 10,
     "metadata": {},
     "output_type": "execute_result"
    }
   ],
   "source": [
    "# Fit the grid search to the data\n",
    "grid_search.fit(df_2012_train_x, df_2012_train_y)\n",
    "grid_search.best_params_\n",
    "\n"
   ]
  },
  {
   "cell_type": "code",
   "execution_count": 11,
   "metadata": {},
   "outputs": [],
   "source": [
    "from sklearn.metrics import mean_absolute_error, mean_squared_error, explained_variance_score\n",
    "def evaluate(model, test_features, test_labels):\n",
    "    predictions = model.predict(test_features)\n",
    "    mse = mean_squared_error(test_labels, predictions)\n",
    "    rmse = np.sqrt(mse)\n",
    "    print(\"mse:\", mse)\n",
    "    print(\"rmse:\",rmse)\n",
    "    mae = mean_absolute_error(test_labels, predictions)\n",
    "    print(\"mae:\", mae)\n",
    "    r2 = explained_variance_score(test_labels, predictions)\n",
    "    print(\"r2:\",r2)"
   ]
  },
  {
   "cell_type": "code",
   "execution_count": 12,
   "metadata": {},
   "outputs": [
    {
     "name": "stderr",
     "output_type": "stream",
     "text": [
      "C:\\Users\\sajor\\Anaconda3\\lib\\site-packages\\pandas\\core\\frame.py:4025: SettingWithCopyWarning: \n",
      "A value is trying to be set on a copy of a slice from a DataFrame\n",
      "\n",
      "See the caveats in the documentation: http://pandas.pydata.org/pandas-docs/stable/indexing.html#indexing-view-versus-copy\n",
      "  return super(DataFrame, self).rename(**kwargs)\n"
     ]
    }
   ],
   "source": [
    "df_2012_train_x2 = df_2012_train.drop(columns = ['state_abbreviation', 'county_name', 'diff_2012'])\n",
    "df_2012_train_y2 = df_2012_train[['diff_2012']]\n",
    "\n",
    "df_2016_train_x2 = df_2016_train.drop(columns = ['state_abbreviation', 'fips', 'diff_2016'])\n",
    "df_2016_train_y2 = df_2016_train[['diff_2016']]\n",
    "\n",
    "df_2012_test_x2 = df_2012_test.drop(columns = ['state_abbreviation', 'county_name', 'diff_2012'])\n",
    "df_2012_test_y2 = df_2012_test[['diff_2012']]\n",
    "\n",
    "df_2016_test_x2 = df_2016_test.drop(columns = ['state_abbreviation', 'fips', 'diff_2016'])\n",
    "df_2016_test_y2 = df_2016_test[['diff_2016']]\n",
    "\n",
    "full_train_x2 = [df_2012_train_x2, df_2016_train_x2]\n",
    "full_train_x2 = pd.concat(full_train_x2)\n",
    "df_2012_train_y2.rename(columns={'diff_2012':'diff'}, inplace=True)\n",
    "df_2016_train_y2.rename(columns={'diff_2016':'diff'}, inplace=True)\n",
    "\n",
    "full_train_y2 = [df_2012_train_y2, df_2016_train_y2]\n",
    "full_train_y2 = pd.concat(full_train_y2)\n",
    "\n",
    "full_test_x2 = [df_2012_test_x2, df_2016_test_x2]\n",
    "full_test_x2 = pd.concat(full_test_x2)\n",
    "df_2012_test_y2.rename(columns={'diff_2012':'diff'}, inplace=True)\n",
    "df_2016_test_y2.rename(columns={'diff_2016':'diff'}, inplace=True)\n",
    "\n",
    "full_test_y2 = [df_2012_test_y2, df_2016_test_y2]\n",
    "full_test_y2 = pd.concat(full_test_y2)"
   ]
  },
  {
   "cell_type": "code",
   "execution_count": 14,
   "metadata": {},
   "outputs": [
    {
     "name": "stdout",
     "output_type": "stream",
     "text": [
      "2012 GRID Search on 2012\n",
      "mse: 0.02239776664449778\n",
      "rmse: 0.14965883416790932\n",
      "mae: 0.11612799132775192\n",
      "r2: 0.7335528817075143\n",
      "2012 GRID Search on 2016\n",
      "mse: 0.48034690629353527\n",
      "rmse: 0.6930706358615515\n",
      "mae: 0.6296677385167764\n",
      "r2: -0.20229566992996317\n",
      "2012 GRID Search on Full\n",
      "mse: 0.2513723364690165\n",
      "rmse: 0.5013704583130287\n",
      "mae: 0.3728978649222642\n",
      "r2: -0.7512253202765786\n"
     ]
    }
   ],
   "source": [
    "#fts_2012 = ['population', 'perc_female', 'perc_o18', 'perc_o65', 'perc_hisp', 'perc_white_not_hisp', 'median_oo_value', 'monthly_costs_nm', 'avg_hh_size', 'perc_1yr_res', 'perc_hs', 'perc_f_emp_2065', 'hc_value_1k', 'perc_pov', 'num_establishments']\n",
    "test_x = df_2016_test_x2[ft_2012]\n",
    "full_x = full_test_x2[ft_2012]\n",
    "\n",
    "\n",
    "\n",
    "print('2012 GRID Search on 2012')\n",
    "grid_accuracy = evaluate(grid_search, df_2012_test_x, df_2012_test_y)\n",
    "print('2012 GRID Search on 2016')\n",
    "grid_accuracy = evaluate(grid_search, test_x, df_2016_test_y2)\n",
    "print('2012 GRID Search on Full')\n",
    "grid_accuracy = evaluate(grid_search, full_x, full_test_y2)"
   ]
  },
  {
   "cell_type": "code",
   "execution_count": 15,
   "metadata": {},
   "outputs": [
    {
     "data": {
      "text/plain": [
       "{'C': 5, 'gamma': 'scale', 'kernel': 'rbf'}"
      ]
     },
     "execution_count": 15,
     "metadata": {},
     "output_type": "execute_result"
    }
   ],
   "source": [
    "grid_search.best_params_"
   ]
  },
  {
   "cell_type": "code",
   "execution_count": 19,
   "metadata": {},
   "outputs": [
    {
     "data": {
      "text/plain": [
       "[('population',\n",
       "  array([0.5545904 , 0.85216758, 0.45469769, 0.67905885, 0.18110058,\n",
       "         0.98547207, 0.53616294, 0.91200021, 0.42653484, 0.82807237,\n",
       "         0.8534071 , 0.84237958, 0.61806354, 0.61947295, 0.42630912])),\n",
       " ('perc_female',\n",
       "  array([0.50138325, 0.81400228, 0.45216465, 0.68314424, 0.30679285,\n",
       "         0.97330405, 0.4497778 , 0.87836749, 0.39004311, 0.77628861,\n",
       "         0.91369011, 0.81279372, 0.14681302, 0.65965255, 0.39704933])),\n",
       " ('perc_o18',\n",
       "  array([0.36387319, 0.77958381, 0.62421151, 0.81097465, 0.95468436,\n",
       "         0.57447172, 0.34010891, 0.80263052, 0.49278684, 0.82329695,\n",
       "         0.83065823, 0.7232583 , 0.89145605, 0.73095968, 0.19398133])),\n",
       " ('perc_o65',\n",
       "  array([0.47186979, 0.87541988, 0.51941393, 0.76004305, 0.46786063,\n",
       "         0.96833461, 0.27488993, 0.87220725, 0.36211626, 0.83915305,\n",
       "         0.81062594, 0.81823399, 0.59131919, 0.70278843, 0.34708033])),\n",
       " ('perc_hisp',\n",
       "  array([0.48587448, 0.83561916, 0.56058245, 0.76899485, 0.20775817,\n",
       "         0.98602462, 0.30178293, 0.87044849, 0.28516431, 0.7580434 ,\n",
       "         0.81527537, 0.89416728, 0.33347773, 0.63929158, 0.3946024 ])),\n",
       " ('perc_white_not_hisp',\n",
       "  array([0.41090206, 0.84273925, 0.42407922, 0.71193178, 0.17143537,\n",
       "         0.9909463 , 0.27971719, 0.81033734, 0.43552892, 0.82807237,\n",
       "         0.79814817, 0.68401288, 0.48010273, 0.69438067, 0.27070451])),\n",
       " ('median_oo_value',\n",
       "  array([0.58327191, 0.86384995, 0.38773151, 0.66205817, 0.31203241,\n",
       "         0.96626091, 0.37051955, 0.84497578, 0.49710739, 0.76802434,\n",
       "         0.81217754, 0.76111893, 0.55966934, 0.68391336, 0.42654456])),\n",
       " ('monthly_costs_nm',\n",
       "  array([0.46847751, 0.83323639, 0.41892849, 0.76155613, 0.68550375,\n",
       "         0.92997679, 0.25660376, 0.84748585, 0.44000703, 0.84387562,\n",
       "         0.69561106, 0.79907113, 0.20226186, 0.65965255, 0.36735929])),\n",
       " ('avg_hh_size',\n",
       "  array([0.45570025, 0.79937201, 0.59854174, 0.753903  , 0.32214732,\n",
       "         0.85831316, 0.38949198, 0.88523798, 0.40382544, 0.81369773,\n",
       "         0.73888078, 0.72028986, 0.83899652, 0.72797809, 0.31952852])),\n",
       " ('perc_1yr_res',\n",
       "  array([0.4321866 , 0.88001685, 0.50467122, 0.79283282, 0.34106633,\n",
       "         0.983529  , 0.25362943, 0.86973896, 0.29987818, 0.76137817,\n",
       "         0.91081142, 0.82094382, 0.24784022, 0.64140199, 0.36013157])),\n",
       " ('perc_hs', array([0.36769398, 0.8067094 , 0.28823173, 0.63187651, 0.70419033,\n",
       "         0.91811537, 0.3813718 , 0.82892619, 0.58523837, 0.81048355,\n",
       "         0.64564458, 0.64167944, 0.7472827 , 0.71092922, 0.23571119])),\n",
       " ('perc_f_emp_2065',\n",
       "  array([0.52295182, 0.88001685, 0.63346181, 0.87122947, 0.29027113,\n",
       "         0.97445988, 0.47355365, 0.82461944, 0.29987818, 0.79755366,\n",
       "         0.83218687, 0.62068525, 0.31519628, 0.67851498, 0.40922928])),\n",
       " ('hc_value_1k',\n",
       "  array([0.63108692, 0.87772056, 0.45722739, 0.68915683, 0.61602949,\n",
       "         0.93638057, 0.41389352, 0.89179708, 0.41294801, 0.72767333,\n",
       "         0.90213813, 0.80732572, 0.87510418, 0.60047066, 0.49189687])),\n",
       " ('perc_pov',\n",
       "  array([0.48140142, 0.85919062, 0.45722739, 0.74441825, 0.13955918,\n",
       "         0.99067526, 0.29730685, 0.83126459, 0.43103822, 0.78450515,\n",
       "         0.71742018, 0.67629831, 0.40013477, 0.75633996, 0.3507118 ])),\n",
       " ('num_establishments',\n",
       "  array([0.54192054, 0.87311478, 0.4798465 , 0.753903  , 0.42310193,\n",
       "         0.95963562, 0.46583973, 0.83894391, 0.42653484, 0.87188637,\n",
       "         0.78871318, 0.7232583 , 0.31519628, 0.66353767, 0.40744484]))]"
      ]
     },
     "execution_count": 19,
     "metadata": {},
     "output_type": "execute_result"
    }
   ],
   "source": [
    "list(zip(ft_2012,list(grid_search.best_estimator_.support_vectors_)))"
   ]
  },
  {
   "cell_type": "code",
   "execution_count": 20,
   "metadata": {},
   "outputs": [
    {
     "data": {
      "text/plain": [
       "[('population', 0),\n",
       " ('perc_female', 1),\n",
       " ('perc_o18', 2),\n",
       " ('perc_o65', 3),\n",
       " ('perc_hisp', 4),\n",
       " ('perc_white_not_hisp', 7),\n",
       " ('median_oo_value', 13),\n",
       " ('monthly_costs_nm', 17),\n",
       " ('avg_hh_size', 18),\n",
       " ('perc_1yr_res', 20),\n",
       " ('perc_hs', 22),\n",
       " ('perc_f_emp_2065', 24),\n",
       " ('hc_value_1k', 26),\n",
       " ('perc_pov', 27),\n",
       " ('num_establishments', 29)]"
      ]
     },
     "execution_count": 20,
     "metadata": {},
     "output_type": "execute_result"
    }
   ],
   "source": [
    "list(zip(ft_2012,list(grid_search.best_estimator_.support_)))"
   ]
  },
  {
   "cell_type": "code",
   "execution_count": null,
   "metadata": {},
   "outputs": [],
   "source": []
  },
  {
   "cell_type": "code",
   "execution_count": 21,
   "metadata": {},
   "outputs": [
    {
     "name": "stdout",
     "output_type": "stream",
     "text": [
      "Fitting 3 folds for each of 24 candidates, totalling 72 fits\n"
     ]
    },
    {
     "name": "stderr",
     "output_type": "stream",
     "text": [
      "[Parallel(n_jobs=-1)]: Using backend LokyBackend with 4 concurrent workers.\n",
      "[Parallel(n_jobs=-1)]: Done  33 tasks      | elapsed:   12.0s\n",
      "[Parallel(n_jobs=-1)]: Done  72 out of  72 | elapsed:  3.0min finished\n",
      "C:\\Users\\sajor\\Anaconda3\\lib\\site-packages\\sklearn\\utils\\validation.py:761: DataConversionWarning: A column-vector y was passed when a 1d array was expected. Please change the shape of y to (n_samples, ), for example using ravel().\n",
      "  y = column_or_1d(y, warn=True)\n"
     ]
    },
    {
     "data": {
      "text/plain": [
       "{'C': 5, 'gamma': 'scale', 'kernel': 'rbf'}"
      ]
     },
     "execution_count": 21,
     "metadata": {},
     "output_type": "execute_result"
    }
   ],
   "source": [
    "# Fit the grid search to the data\n",
    "grid_search.fit(df_2016_train_x, df_2016_train_y)\n",
    "grid_search.best_params_\n"
   ]
  },
  {
   "cell_type": "code",
   "execution_count": 22,
   "metadata": {},
   "outputs": [
    {
     "name": "stdout",
     "output_type": "stream",
     "text": [
      "2016 GRID Search on 2012\n",
      "mse: 0.07403676993958022\n",
      "rmse: 0.2720969862743434\n",
      "mae: 0.22518794275942985\n",
      "r2: 0.4499026999819764\n",
      "2016 GRID Search on 2016\n",
      "mse: 0.015210215384176443\n",
      "rmse: 0.12332970195446206\n",
      "mae: 0.09259341103406071\n",
      "r2: 0.8343036770919616\n",
      "2016 GRID Search on Full\n",
      "mse: 0.04462349266187833\n",
      "rmse: 0.21124273398599613\n",
      "mae: 0.15889067689674527\n",
      "r2: 0.5843747030731308\n"
     ]
    }
   ],
   "source": [
    "test_x = df_2012_test_x2[ft_2016]\n",
    "full_x = full_test_x2[ft_2016]\n",
    "\n",
    "print('2016 GRID Search on 2012')\n",
    "grid_accuracy = evaluate(grid_search, test_x, df_2012_test_y2)\n",
    "print('2016 GRID Search on 2016')\n",
    "grid_accuracy = evaluate(grid_search, df_2016_test_x, df_2016_test_y)\n",
    "print('2016 GRID Search on Full')\n",
    "grid_accuracy = evaluate(grid_search, full_x, full_test_y2)"
   ]
  },
  {
   "cell_type": "code",
   "execution_count": 23,
   "metadata": {},
   "outputs": [
    {
     "data": {
      "text/plain": [
       "{'C': 5, 'gamma': 'scale', 'kernel': 'rbf'}"
      ]
     },
     "execution_count": 23,
     "metadata": {},
     "output_type": "execute_result"
    }
   ],
   "source": [
    "grid_search.best_params_"
   ]
  },
  {
   "cell_type": "code",
   "execution_count": 25,
   "metadata": {},
   "outputs": [
    {
     "data": {
      "text/plain": [
       "[('population',\n",
       "  array([0.47657801, 0.71987279, 0.5086851 , 0.48802818, 0.95408811,\n",
       "         0.34971316, 0.9694968 , 0.48551988, 0.47985743, 0.33626236,\n",
       "         0.91472066, 0.79810454, 0.14681302, 0.53860308, 0.52552773,\n",
       "         0.3950203 , 0.49439704])),\n",
       " ('perc_female',\n",
       "  array([0.36845642, 0.76674114, 0.31791999, 0.48802818, 0.92795114,\n",
       "         0.75643519, 0.8891314 , 0.40756347, 0.28125579, 0.60999505,\n",
       "         0.69239648, 0.61111035, 0.7472827 , 0.45309402, 0.5935187 ,\n",
       "         0.28417798, 0.41757787])),\n",
       " ('perc_o18',\n",
       "  array([0.64638116, 0.78955125, 0.66029563, 0.56809229, 0.93527688,\n",
       "         0.51092799, 0.94617281, 0.57992171, 0.70358602, 0.34661661,\n",
       "         0.87666362, 0.77966466, 0.11522505, 0.6010785 , 0.57719154,\n",
       "         0.54082719, 0.63191381])),\n",
       " ('perc_o65',\n",
       "  array([0.49546199, 0.80205123, 0.46544472, 0.51738625, 0.97974644,\n",
       "         0.29572524, 0.98268059, 0.49407164, 0.5329894 , 0.40251027,\n",
       "         0.9461034 , 0.85958772, 0.39592388, 0.61950584, 0.47744653,\n",
       "         0.39588358, 0.49391149])),\n",
       " ('perc_hisp',\n",
       "  array([0.37854353, 0.74871655, 0.48284362, 0.54952284, 0.9853602 ,\n",
       "         0.19022973, 0.99032369, 0.35171122, 0.26539305, 0.43718426,\n",
       "         0.85420822, 0.66659025, 0.48010273, 0.5176783 , 0.64210094,\n",
       "         0.26477909, 0.48934824])),\n",
       " ('perc_white_not_hisp',\n",
       "  array([0.40762478, 0.79206097, 0.32724389, 0.45635282, 0.95854851,\n",
       "         0.987208  , 0.34236432, 0.07813991, 0.25562214, 0.72626732,\n",
       "         0.34691945, 0.59932207, 0.87510418, 0.1736784 , 0.87858638,\n",
       "         0.25179896, 0.36228904])),\n",
       " ('median_oo_value',\n",
       "  array([0.43750425, 0.71721833, 0.6867663 , 0.60075199, 0.61065566,\n",
       "         0.23134994, 0.77774515, 0.35457935, 0.37214279, 0.38238827,\n",
       "         0.65441451, 0.74624101, 0.07012656, 0.34900507, 0.74860797,\n",
       "         0.31653175, 0.40817086])),\n",
       " ('monthly_costs_nm',\n",
       "  array([0.42200157, 0.70386342, 0.70771449, 0.62311941, 0.77737412,\n",
       "         0.35401606, 0.86470441, 0.42992   , 0.4190579 , 0.20146721,\n",
       "         0.722695  , 0.77679934, 0.83899652, 0.43566579, 0.64405926,\n",
       "         0.31375329, 0.37415828])),\n",
       " ('avg_hh_size',\n",
       "  array([0.43463797, 0.77438946, 0.5789047 , 0.58584073, 0.98256198,\n",
       "         0.25942623, 0.98849993, 0.35486466, 0.44205177, 0.30483238,\n",
       "         0.91616313, 0.82860442, 0.59131919, 0.5536631 , 0.57957404,\n",
       "         0.3462865 , 0.490966  ])),\n",
       " ('perc_1yr_res',\n",
       "  array([0.35613767, 0.28571787, 0.6867663 , 0.5148043 , 0.93423754,\n",
       "         0.69145964, 0.90013907, 0.35457935, 0.28436745, 0.26744685,\n",
       "         0.69579684, 0.76526072, 0.65191172, 0.45849837, 0.6739078 ,\n",
       "         0.22693698, 0.39645809])),\n",
       " ('perc_hs', array([0.6148708 , 0.80453675, 0.50582886, 0.47963429, 0.95607592,\n",
       "         0.64875586, 0.92888824, 0.45910569, 0.51203561, 0.40251027,\n",
       "         0.90748505, 0.79810454, 0.87510418, 0.61955891, 0.51703006,\n",
       "         0.49196054, 0.61366306])),\n",
       " ('perc_f_emp_2065',\n",
       "  array([0.77251164, 0.82425014, 0.70249623, 0.40530091, 0.73586845,\n",
       "         0.67459255, 0.81053771, 0.73794655, 0.70094888, 0.32061691,\n",
       "         0.79400883, 0.81761387, 0.26364735, 0.56439944, 0.72655246,\n",
       "         0.65405774, 0.88420349])),\n",
       " ('hc_value_1k',\n",
       "  array([0.75954187, 0.77438946, 0.48284362, 0.41204885, 0.90133965,\n",
       "         0.61562611, 0.91387087, 0.57379446, 0.39862442, 0.4273463 ,\n",
       "         0.9361971 , 0.74624101, 0.5068626 , 0.59452172, 0.55236972,\n",
       "         0.63611524, 0.76632677])),\n",
       " ('perc_pov',\n",
       "  array([0.78375445, 0.82669324, 0.59542708, 0.53253873, 0.87068647,\n",
       "         0.62067957, 0.89488507, 0.60868964, 0.76294952, 0.40750534,\n",
       "         0.86772634, 0.83133452, 0.50752765, 0.62543515, 0.58193946,\n",
       "         0.64903365, 0.80529571])),\n",
       " ('num_establishments',\n",
       "  array([0.49224547, 0.83641961, 0.43613529, 0.45334537, 0.38989069,\n",
       "         0.27221162, 0.64991918, 0.23225066, 0.30412406, 0.50456488,\n",
       "         0.66140049, 0.49069697, 0.57785798, 0.12196229, 0.95144981,\n",
       "         0.39556099, 0.5293377 ]))]"
      ]
     },
     "execution_count": 25,
     "metadata": {},
     "output_type": "execute_result"
    }
   ],
   "source": [
    "list(zip(ft_2012,list(grid_search.best_estimator_.support_vectors_)))"
   ]
  },
  {
   "cell_type": "code",
   "execution_count": 26,
   "metadata": {},
   "outputs": [
    {
     "data": {
      "text/plain": [
       "[('population', 1),\n",
       " ('perc_female', 3),\n",
       " ('perc_o18', 4),\n",
       " ('perc_o65', 5),\n",
       " ('perc_hisp', 7),\n",
       " ('perc_white_not_hisp', 12),\n",
       " ('median_oo_value', 15),\n",
       " ('monthly_costs_nm', 18),\n",
       " ('avg_hh_size', 23),\n",
       " ('perc_1yr_res', 24),\n",
       " ('perc_hs', 26),\n",
       " ('perc_f_emp_2065', 31),\n",
       " ('hc_value_1k', 32),\n",
       " ('perc_pov', 34),\n",
       " ('num_establishments', 37)]"
      ]
     },
     "execution_count": 26,
     "metadata": {},
     "output_type": "execute_result"
    }
   ],
   "source": [
    "list(zip(ft_2012,list(grid_search.best_estimator_.support_)))"
   ]
  },
  {
   "cell_type": "code",
   "execution_count": 27,
   "metadata": {},
   "outputs": [
    {
     "name": "stdout",
     "output_type": "stream",
     "text": [
      "Fitting 3 folds for each of 24 candidates, totalling 72 fits\n"
     ]
    },
    {
     "name": "stderr",
     "output_type": "stream",
     "text": [
      "[Parallel(n_jobs=-1)]: Using backend LokyBackend with 4 concurrent workers.\n",
      "[Parallel(n_jobs=-1)]: Done  33 tasks      | elapsed:   58.1s\n",
      "[Parallel(n_jobs=-1)]: Done  72 out of  72 | elapsed: 10.3min finished\n",
      "C:\\Users\\sajor\\Anaconda3\\lib\\site-packages\\sklearn\\utils\\validation.py:761: DataConversionWarning: A column-vector y was passed when a 1d array was expected. Please change the shape of y to (n_samples, ), for example using ravel().\n",
      "  y = column_or_1d(y, warn=True)\n"
     ]
    },
    {
     "data": {
      "text/plain": [
       "{'C': 10, 'gamma': 'scale', 'kernel': 'rbf'}"
      ]
     },
     "execution_count": 27,
     "metadata": {},
     "output_type": "execute_result"
    }
   ],
   "source": [
    "# Fit the grid search to the data\n",
    "grid_search.fit(full_train_x, full_train_y)\n",
    "grid_search.best_params_"
   ]
  },
  {
   "cell_type": "code",
   "execution_count": 28,
   "metadata": {},
   "outputs": [
    {
     "name": "stdout",
     "output_type": "stream",
     "text": [
      "FULL GRID Search on 2012\n",
      "mse: 0.021327430689977497\n",
      "rmse: 0.14603914095192938\n",
      "mae: 0.11160616389718797\n",
      "r2: 0.746294539772163\n",
      "FULL GRID Search on 2016\n",
      "mse: 0.014935927578621472\n",
      "rmse: 0.12221263264745372\n",
      "mae: 0.09156784254027239\n",
      "r2: 0.8372905046906548\n",
      "FULL GRID Search on Full\n",
      "mse: 0.018131679134299482\n",
      "rmse: 0.13465392357558498\n",
      "mae: 0.10158700321873018\n",
      "r2: 0.8001334770552501\n"
     ]
    }
   ],
   "source": [
    "test_x = df_2012_test_x2[ft_full]\n",
    "test2_x = df_2016_test_x2[ft_full]\n",
    "\n",
    "print('FULL GRID Search on 2012')\n",
    "grid_accuracy = evaluate(grid_search, test_x, df_2012_test_y2)\n",
    "print('FULL GRID Search on 2016')\n",
    "grid_accuracy = evaluate(grid_search, test2_x, df_2016_test_y2)\n",
    "print('FULL GRID Search on Full')\n",
    "grid_accuracy = evaluate(grid_search, full_test_x, full_test_y)"
   ]
  },
  {
   "cell_type": "code",
   "execution_count": 29,
   "metadata": {},
   "outputs": [
    {
     "data": {
      "text/plain": [
       "[('population',\n",
       "  array([0.5545904 , 0.85216758, 0.45469769, 0.67905885, 0.97868798,\n",
       "         0.18110058, 0.98547207, 0.53616294, 0.91200021, 0.42653484,\n",
       "         0.82807237, 0.37273011, 0.8534071 , 0.84237958, 0.61806354,\n",
       "         0.57346878, 0.61947295, 0.42630912])),\n",
       " ('perc_female',\n",
       "  array([0.50138325, 0.81400228, 0.45216465, 0.68314424, 0.95889245,\n",
       "         0.30679285, 0.97330405, 0.4497778 , 0.87836749, 0.39004311,\n",
       "         0.77628861, 0.29188776, 0.91369011, 0.81279372, 0.14681302,\n",
       "         0.49151262, 0.65965255, 0.39704933])),\n",
       " ('perc_o18',\n",
       "  array([0.36387319, 0.77958381, 0.62421151, 0.81097465, 0.84882874,\n",
       "         0.95468436, 0.57447172, 0.34010891, 0.80263052, 0.49278684,\n",
       "         0.82329695, 0.88816141, 0.83065823, 0.7232583 , 0.89145605,\n",
       "         0.39459767, 0.73095968, 0.19398133])),\n",
       " ('perc_o65',\n",
       "  array([0.47186979, 0.87541988, 0.51941393, 0.76004305, 0.95939769,\n",
       "         0.46786063, 0.96833461, 0.27488993, 0.87220725, 0.36211626,\n",
       "         0.83915305, 0.52026954, 0.81062594, 0.81823399, 0.59131919,\n",
       "         0.43411965, 0.70278843, 0.34708033])),\n",
       " ('perc_hisp',\n",
       "  array([0.48587448, 0.83561916, 0.56058245, 0.76899485, 0.9801394 ,\n",
       "         0.20775817, 0.98602462, 0.30178293, 0.87044849, 0.28516431,\n",
       "         0.7580434 , 0.38807974, 0.81527537, 0.89416728, 0.33347773,\n",
       "         0.4776687 , 0.63929158, 0.3946024 ])),\n",
       " ('perc_white_not_hisp',\n",
       "  array([0.58503126, 0.87080526, 0.54131858, 0.76899485, 0.98062221,\n",
       "         0.27238998, 0.98380746, 0.34644749, 0.81193673, 0.33846481,\n",
       "         0.80241615, 0.34747411, 0.70907392, 0.64487316, 0.5907231 ,\n",
       "         0.34449982, 0.7994845 , 0.43464684])),\n",
       " ('median_oo_value',\n",
       "  array([0.41090206, 0.84273925, 0.42407922, 0.71193178, 0.9882801 ,\n",
       "         0.17143537, 0.9909463 , 0.27971719, 0.81033734, 0.43552892,\n",
       "         0.82807237, 0.20891526, 0.79814817, 0.68401288, 0.48010273,\n",
       "         0.49599719, 0.69438067, 0.27070451])),\n",
       " ('monthly_costs_nm',\n",
       "  array([0.39209995, 0.84981743, 0.55578451, 0.78604102, 0.86269389,\n",
       "         0.16132046, 0.91918364, 0.15723163, 0.85476501, 0.29987818,\n",
       "         0.74293942, 0.35622097, 0.69052748, 0.53411233, 0.48010273,\n",
       "         0.31723854, 0.85166016, 0.27358296])),\n",
       " ('avg_hh_size',\n",
       "  array([0.58327191, 0.86384995, 0.38773151, 0.66205817, 0.95021878,\n",
       "         0.31203241, 0.96626091, 0.37051955, 0.84497578, 0.49710739,\n",
       "         0.76802434, 0.29188776, 0.81217754, 0.76111893, 0.55966934,\n",
       "         0.53139098, 0.68391336, 0.42654456])),\n",
       " ('perc_1yr_res',\n",
       "  array([0.44345594, 0.8845963 , 0.51205667, 0.76004305, 0.85518209,\n",
       "         0.19923036, 0.91632528, 0.52581978, 0.85036029, 0.40839324,\n",
       "         0.91139663, 0.42231236, 0.70235936, 0.62231485, 0.07012656,\n",
       "         0.53612437, 0.62625079, 0.32668019])),\n",
       " ('perc_hs', array([0.46847751, 0.83323639, 0.41892849, 0.76155613, 0.95939769,\n",
       "         0.68550375, 0.92997679, 0.25660376, 0.84748585, 0.44000703,\n",
       "         0.84387562, 0.68074628, 0.69561106, 0.79907113, 0.20226186,\n",
       "         0.46700575, 0.65965255, 0.36735929])),\n",
       " ('perc_f_emp_2065',\n",
       "  array([0.4321866 , 0.88001685, 0.50467122, 0.79283282, 0.98446683,\n",
       "         0.34106633, 0.983529  , 0.25362943, 0.86973896, 0.29987818,\n",
       "         0.76137817, 0.29188776, 0.91081142, 0.82094382, 0.24784022,\n",
       "         0.43224906, 0.64140199, 0.36013157])),\n",
       " ('hc_value_1k',\n",
       "  array([0.36769398, 0.8067094 , 0.28823173, 0.63187651, 0.9512476 ,\n",
       "         0.70419033, 0.91811537, 0.3813718 , 0.82892619, 0.58523837,\n",
       "         0.81048355, 0.67080628, 0.64564458, 0.64167944, 0.7472827 ,\n",
       "         0.46282249, 0.71092922, 0.23571119])),\n",
       " ('perc_pov',\n",
       "  array([0.52295182, 0.88001685, 0.63346181, 0.87122947, 0.96392045,\n",
       "         0.29027113, 0.97445988, 0.47355365, 0.82461944, 0.29987818,\n",
       "         0.79755366, 0.41259333, 0.83218687, 0.62068525, 0.31519628,\n",
       "         0.41233151, 0.67851498, 0.40922928])),\n",
       " ('num_establishments',\n",
       "  array([0.63108692, 0.87772056, 0.45722739, 0.68915683, 0.95021878,\n",
       "         0.61602949, 0.93638057, 0.41389352, 0.89179708, 0.41294801,\n",
       "         0.72767333, 0.53777026, 0.90213813, 0.80732572, 0.87510418,\n",
       "         0.59237237, 0.60047066, 0.49189687]))]"
      ]
     },
     "execution_count": 29,
     "metadata": {},
     "output_type": "execute_result"
    }
   ],
   "source": [
    "list(zip(ft_2012,list(grid_search.best_estimator_.support_vectors_)))"
   ]
  },
  {
   "cell_type": "code",
   "execution_count": 30,
   "metadata": {},
   "outputs": [
    {
     "data": {
      "text/plain": [
       "[('population', 0),\n",
       " ('perc_female', 1),\n",
       " ('perc_o18', 2),\n",
       " ('perc_o65', 3),\n",
       " ('perc_hisp', 4),\n",
       " ('perc_white_not_hisp', 6),\n",
       " ('median_oo_value', 7),\n",
       " ('monthly_costs_nm', 9),\n",
       " ('avg_hh_size', 13),\n",
       " ('perc_1yr_res', 16),\n",
       " ('perc_hs', 17),\n",
       " ('perc_f_emp_2065', 20),\n",
       " ('hc_value_1k', 22),\n",
       " ('perc_pov', 24),\n",
       " ('num_establishments', 26)]"
      ]
     },
     "execution_count": 30,
     "metadata": {},
     "output_type": "execute_result"
    }
   ],
   "source": [
    "list(zip(ft_2012,list(grid_search.best_estimator_.support_)))"
   ]
  },
  {
   "cell_type": "code",
   "execution_count": null,
   "metadata": {},
   "outputs": [],
   "source": []
  }
 ],
 "metadata": {
  "kernelspec": {
   "display_name": "Python 3",
   "language": "python",
   "name": "python3"
  },
  "language_info": {
   "codemirror_mode": {
    "name": "ipython",
    "version": 3
   },
   "file_extension": ".py",
   "mimetype": "text/x-python",
   "name": "python",
   "nbconvert_exporter": "python",
   "pygments_lexer": "ipython3",
   "version": "3.7.2"
  }
 },
 "nbformat": 4,
 "nbformat_minor": 2
}
