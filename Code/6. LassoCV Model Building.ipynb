{
 "cells": [
  {
   "cell_type": "code",
   "execution_count": 1,
   "metadata": {},
   "outputs": [],
   "source": [
    "import pandas as pd\n",
    "import csv\n",
    "import numpy as np\n",
    "from pprint import pprint\n",
    "\n",
    "import pandas as pd\n",
    "import numpy as np\n",
    "from sklearn import metrics\n",
    "from sklearn import linear_model\n",
    "from sklearn.linear_model import  LassoCV\n",
    "from sklearn.pipeline import Pipeline\n",
    "from sklearn.preprocessing import PolynomialFeatures\n",
    "from sklearn.model_selection import GridSearchCV, train_test_split\n",
    "\n",
    "df_2012_train = pd.read_csv('df_2012_train.csv') \n",
    "df_2012_train = df_2012_train.set_index('fips')\n",
    "df_2012_test = pd.read_csv('df_2012_test.csv') \n",
    "df_2012_test = df_2012_test.set_index('fips')\n",
    "df_2016_train = pd.read_csv('df_2016_train.csv') \n",
    "df_2016_train = df_2016_train.set_index('county_name')\n",
    "df_2016_test = pd.read_csv('df_2016_test.csv') \n",
    "df_2016_test = df_2016_test.set_index('county_name')"
   ]
  },
  {
   "cell_type": "code",
   "execution_count": null,
   "metadata": {},
   "outputs": [],
   "source": [
    "df_2012_train.head(2)"
   ]
  },
  {
   "cell_type": "code",
   "execution_count": 2,
   "metadata": {},
   "outputs": [
    {
     "name": "stderr",
     "output_type": "stream",
     "text": [
      "C:\\Users\\sajor\\Anaconda3\\lib\\site-packages\\pandas\\core\\frame.py:4025: SettingWithCopyWarning: \n",
      "A value is trying to be set on a copy of a slice from a DataFrame\n",
      "\n",
      "See the caveats in the documentation: http://pandas.pydata.org/pandas-docs/stable/indexing.html#indexing-view-versus-copy\n",
      "  return super(DataFrame, self).rename(**kwargs)\n"
     ]
    }
   ],
   "source": [
    "df_2012_train_x = df_2012_train.drop(columns = ['state_abbreviation', 'county_name', 'diff_2012'])\n",
    "df_2012_train_y = df_2012_train[['diff_2012']]\n",
    "\n",
    "df_2016_train_x = df_2016_train.drop(columns = ['state_abbreviation', 'fips', 'diff_2016'])\n",
    "df_2016_train_y = df_2016_train[['diff_2016']]\n",
    "\n",
    "df_2012_test_x = df_2012_test.drop(columns = ['state_abbreviation', 'county_name', 'diff_2012'])\n",
    "df_2012_test_y = df_2012_test[['diff_2012']]\n",
    "\n",
    "df_2016_test_x = df_2016_test.drop(columns = ['state_abbreviation', 'fips', 'diff_2016'])\n",
    "df_2016_test_y = df_2016_test[['diff_2016']]\n",
    "\n",
    "full_train_x = [df_2012_train_x, df_2016_train_x]\n",
    "full_train_x = pd.concat(full_train_x)\n",
    "df_2012_train_y.rename(columns={'diff_2012':'diff'}, inplace=True)\n",
    "df_2016_train_y.rename(columns={'diff_2016':'diff'}, inplace=True)\n",
    "\n",
    "full_train_y = [df_2012_train_y, df_2016_train_y]\n",
    "full_train_y = pd.concat(full_train_y)\n",
    "\n",
    "full_test_x = [df_2012_test_x, df_2016_test_x]\n",
    "full_test_x = pd.concat(full_test_x)\n",
    "df_2012_test_y.rename(columns={'diff_2012':'diff'}, inplace=True)\n",
    "df_2016_test_y.rename(columns={'diff_2016':'diff'}, inplace=True)\n",
    "\n",
    "full_test_y = [df_2012_test_y, df_2016_test_y]\n",
    "full_test_y = pd.concat(full_test_y)"
   ]
  },
  {
   "cell_type": "code",
   "execution_count": 3,
   "metadata": {},
   "outputs": [
    {
     "name": "stderr",
     "output_type": "stream",
     "text": [
      "C:\\Users\\sajor\\Anaconda3\\lib\\site-packages\\sklearn\\linear_model\\coordinate_descent.py:1109: DataConversionWarning: A column-vector y was passed when a 1d array was expected. Please change the shape of y to (n_samples, ), for example using ravel().\n",
      "  y = column_or_1d(y, warn=True)\n",
      "C:\\Users\\sajor\\Anaconda3\\lib\\site-packages\\sklearn\\model_selection\\_split.py:2053: FutureWarning: You should specify a value for 'cv' instead of relying on the default value. The default value will change from 3 to 5 in version 0.22.\n",
      "  warnings.warn(CV_WARNING, FutureWarning)\n"
     ]
    },
    {
     "name": "stdout",
     "output_type": "stream",
     "text": [
      "['population', 'perc_female', 'perc_o18', 'perc_o65', 'perc_white_not_hisp', 'median_oo_value', 'monthly_costs_m', 'monthly_costs_nm', 'avg_hh_size', 'perc_1yr_res', 'perc_f_emp_2065', 'median_income', 'perc_pov', 'num_establishments']\n"
     ]
    }
   ],
   "source": [
    "#2012 FEATURE SELECTION\n",
    "\n",
    "from sklearn.feature_selection import RFE, VarianceThreshold, SelectFromModel\n",
    "\n",
    "estimator = LassoCV()\n",
    "\n",
    "featureSelection = SelectFromModel(estimator, prefit=False, threshold='mean', max_features=None)\n",
    "featureSelection.fit(df_2012_train_x, df_2012_train_y)\n",
    "\n",
    "selectedFeatures = featureSelection.transform(df_2012_train_x)\n",
    "#selectedFeatures\n",
    "\n",
    "fs = df_2012_train_x.columns[featureSelection.get_support()]\n",
    "#remaining features\n",
    "keep = []\n",
    "for i in range(len(fs)):\n",
    "    keep.append(fs[i])\n",
    "print(keep)\n",
    "\n",
    "df_2012_train_x = df_2012_train_x[keep]\n",
    "df_2012_test_x = df_2012_test_x[keep]\n",
    "\n",
    "fts_2012 = keep\n"
   ]
  },
  {
   "cell_type": "code",
   "execution_count": 4,
   "metadata": {},
   "outputs": [
    {
     "data": {
      "text/plain": [
       "14"
      ]
     },
     "execution_count": 4,
     "metadata": {},
     "output_type": "execute_result"
    }
   ],
   "source": [
    "len(keep)"
   ]
  },
  {
   "cell_type": "code",
   "execution_count": 5,
   "metadata": {},
   "outputs": [
    {
     "name": "stderr",
     "output_type": "stream",
     "text": [
      "C:\\Users\\sajor\\Anaconda3\\lib\\site-packages\\sklearn\\linear_model\\coordinate_descent.py:1109: DataConversionWarning: A column-vector y was passed when a 1d array was expected. Please change the shape of y to (n_samples, ), for example using ravel().\n",
      "  y = column_or_1d(y, warn=True)\n",
      "C:\\Users\\sajor\\Anaconda3\\lib\\site-packages\\sklearn\\model_selection\\_split.py:2053: FutureWarning: You should specify a value for 'cv' instead of relying on the default value. The default value will change from 3 to 5 in version 0.22.\n",
      "  warnings.warn(CV_WARNING, FutureWarning)\n"
     ]
    },
    {
     "name": "stdout",
     "output_type": "stream",
     "text": [
      "['population', 'perc_o18', 'perc_o65', 'perc_white', 'perc_hisp', 'perc_white_not_hisp', 'median_oo_value', 'monthly_costs_nm', 'avg_hh_size', 'perc_hs', 'hc_value_1k', 'median_income', 'perc_pov', 'num_establishments', 'annual_payroll']\n"
     ]
    }
   ],
   "source": [
    "#2016 feature selection\n",
    "\n",
    "estimator = LassoCV()\n",
    "\n",
    "featureSelection = SelectFromModel(estimator, prefit=False, threshold='mean', max_features=None)\n",
    "featureSelection.fit(df_2016_train_x, df_2016_train_y)\n",
    "\n",
    "selectedFeatures = featureSelection.transform(df_2016_train_x)\n",
    "#selectedFeatures\n",
    "\n",
    "fs = df_2016_train_x.columns[featureSelection.get_support()]\n",
    "#remaining features\n",
    "keep = []\n",
    "for i in range(len(fs)):\n",
    "    keep.append(fs[i])\n",
    "print(keep)\n",
    "\n",
    "df_2016_train_x = df_2016_train_x[keep]\n",
    "df_2016_test_x = df_2016_test_x[keep]\n",
    "\n",
    "fts_2016 = keep"
   ]
  },
  {
   "cell_type": "code",
   "execution_count": 6,
   "metadata": {},
   "outputs": [
    {
     "name": "stderr",
     "output_type": "stream",
     "text": [
      "C:\\Users\\sajor\\Anaconda3\\lib\\site-packages\\sklearn\\linear_model\\coordinate_descent.py:1109: DataConversionWarning: A column-vector y was passed when a 1d array was expected. Please change the shape of y to (n_samples, ), for example using ravel().\n",
      "  y = column_or_1d(y, warn=True)\n",
      "C:\\Users\\sajor\\Anaconda3\\lib\\site-packages\\sklearn\\model_selection\\_split.py:2053: FutureWarning: You should specify a value for 'cv' instead of relying on the default value. The default value will change from 3 to 5 in version 0.22.\n",
      "  warnings.warn(CV_WARNING, FutureWarning)\n"
     ]
    },
    {
     "name": "stdout",
     "output_type": "stream",
     "text": [
      "['population', 'perc_o18', 'perc_o65', 'perc_white', 'perc_hisp', 'perc_white_not_hisp', 'median_oo_value', 'monthly_costs_nm', 'avg_hh_size', 'perc_1yr_res', 'perc_f_lang', 'perc_hs', 'perc_f_emp_2065', 'wholesale_value_1k', 'hc_value_1k', 'median_income', 'perc_pov', 'num_establishments']\n"
     ]
    }
   ],
   "source": [
    "estimator = LassoCV()\n",
    "\n",
    "featureSelection = SelectFromModel(estimator, prefit=False, threshold='mean', max_features=None)\n",
    "featureSelection.fit(full_train_x, full_train_y)\n",
    "\n",
    "selectedFeatures = featureSelection.transform(full_train_x)\n",
    "#selectedFeatures\n",
    "\n",
    "fs = full_train_x.columns[featureSelection.get_support()]\n",
    "#remaining features\n",
    "keep = []\n",
    "for i in range(len(fs)):\n",
    "    keep.append(fs[i])\n",
    "print(keep)\n",
    "\n",
    "full_train_x = full_train_x[keep]\n",
    "full_test_x = full_test_x[keep]\n",
    "\n",
    "fts_full = keep"
   ]
  },
  {
   "cell_type": "code",
   "execution_count": 7,
   "metadata": {},
   "outputs": [
    {
     "name": "stdout",
     "output_type": "stream",
     "text": [
      "{'alphas': None,\n",
      " 'copy_X': True,\n",
      " 'cv': 'warn',\n",
      " 'eps': 0.001,\n",
      " 'fit_intercept': True,\n",
      " 'max_iter': 1000,\n",
      " 'n_alphas': 100,\n",
      " 'n_jobs': None,\n",
      " 'normalize': False,\n",
      " 'positive': False,\n",
      " 'precompute': 'auto',\n",
      " 'random_state': 33,\n",
      " 'selection': 'cyclic',\n",
      " 'tol': 0.0001,\n",
      " 'verbose': False}\n"
     ]
    }
   ],
   "source": [
    "ls = LassoCV(random_state = 33)\n",
    "pprint(ls.get_params())"
   ]
  },
  {
   "cell_type": "code",
   "execution_count": null,
   "metadata": {},
   "outputs": [],
   "source": [
    "from sklearn.model_selection import RandomizedSearchCV\n",
    "\n",
    "\n",
    "eps = [0.0001, 0.001, 0.01]\n",
    "max_iter = [int(x) for x in np.linspace(start = 10, stop = 2000, num = 10)]\n",
    "alpha = [0.5, 1, 1.5]\n",
    "\n",
    "# Create the random grid\n",
    "random_grid = {\n",
    "               'max_iter': max_iter,\n",
    "               'alpha': alpha}\n",
    "pprint(random_grid)"
   ]
  },
  {
   "cell_type": "code",
   "execution_count": null,
   "metadata": {},
   "outputs": [],
   "source": [
    "# Use the random grid to search for best hyperparameters\n",
    "# First create the base model to tune\n",
    "ls = Lasso()\n",
    "# Random search of parameters, using 3 fold cross validation, \n",
    "# search across 100 different combinations, and use all available cores\n",
    "ls_random = RandomizedSearchCV(estimator = ls, param_distributions = random_grid, n_iter = 50, cv = 3, verbose=2, random_state=31, n_jobs = -1)\n",
    "# Fit the random search model\n",
    "ls_random.fit(df_2012_train_x, df_2012_train_y)"
   ]
  },
  {
   "cell_type": "code",
   "execution_count": null,
   "metadata": {},
   "outputs": [],
   "source": [
    "from sklearn.metrics import mean_squared_error\n",
    "from sklearn.metrics import explained_variance_score\n",
    "\n",
    "def evaluate(model, test_features, test_labels):\n",
    "    predictions = model.predict(test_features)\n",
    "    mse = mean_squared_error(test_labels, predictions)\n",
    "    rmse = np.sqrt(mse)\n",
    "    print(\"rmse:\",rmse)\n",
    "    r2 = explained_variance_score(test_labels, predictions)\n",
    "    print(\"r2:\",r2)\n",
    "\n",
    "print(\"BASE MODEL\")\n",
    "base_model = Lasso(random_state = 31)\n",
    "base_model.fit(df_2012_train_x, df_2012_train_y)\n",
    "base_accuracy = evaluate(base_model, df_2012_test_x, df_2012_test_y)"
   ]
  },
  {
   "cell_type": "code",
   "execution_count": null,
   "metadata": {},
   "outputs": [],
   "source": [
    "ls_random.best_params_"
   ]
  },
  {
   "cell_type": "code",
   "execution_count": null,
   "metadata": {},
   "outputs": [],
   "source": [
    "print('best random')\n",
    "best_random =ls_random.best_estimator_\n",
    "random_accuracy = evaluate(best_random, df_2012_test_x, df_2012_test_y)"
   ]
  },
  {
   "cell_type": "code",
   "execution_count": 8,
   "metadata": {},
   "outputs": [],
   "source": [
    "from sklearn.model_selection import GridSearchCV\n",
    "# Create the parameter grid based on the results of random search \n",
    "max_iter = [int(x) for x in np.linspace(start = 10, stop = 2000, num = 20)]\n",
    "n_alphas = [int(x) for x in np.linspace(start = 10, stop = 500, num = 20)]\n",
    "\n",
    "param_grid = {'max_iter': max_iter,\n",
    "               'n_alphas': n_alphas,\n",
    "             'eps': [0.0001]}\n",
    "# Create a based model\n",
    "ls = LassoCV()\n",
    "# Instantiate the grid search model\n",
    "grid_search = GridSearchCV(estimator = ls, param_grid = param_grid, \n",
    "                          cv = 3, n_jobs = -1, verbose = 2)"
   ]
  },
  {
   "cell_type": "code",
   "execution_count": 9,
   "metadata": {},
   "outputs": [
    {
     "name": "stdout",
     "output_type": "stream",
     "text": [
      "Fitting 3 folds for each of 400 candidates, totalling 1200 fits\n"
     ]
    },
    {
     "name": "stderr",
     "output_type": "stream",
     "text": [
      "[Parallel(n_jobs=-1)]: Using backend LokyBackend with 4 concurrent workers.\n",
      "[Parallel(n_jobs=-1)]: Done  33 tasks      | elapsed:   14.6s\n",
      "[Parallel(n_jobs=-1)]: Done 154 tasks      | elapsed:   35.6s\n",
      "[Parallel(n_jobs=-1)]: Done 357 tasks      | elapsed:  1.2min\n",
      "[Parallel(n_jobs=-1)]: Done 640 tasks      | elapsed:  1.9min\n",
      "[Parallel(n_jobs=-1)]: Done 1005 tasks      | elapsed:  2.8min\n",
      "[Parallel(n_jobs=-1)]: Done 1200 out of 1200 | elapsed:  3.3min finished\n",
      "C:\\Users\\sajor\\Anaconda3\\lib\\site-packages\\sklearn\\linear_model\\coordinate_descent.py:1109: DataConversionWarning: A column-vector y was passed when a 1d array was expected. Please change the shape of y to (n_samples, ), for example using ravel().\n",
      "  y = column_or_1d(y, warn=True)\n",
      "C:\\Users\\sajor\\Anaconda3\\lib\\site-packages\\sklearn\\model_selection\\_split.py:2053: FutureWarning: You should specify a value for 'cv' instead of relying on the default value. The default value will change from 3 to 5 in version 0.22.\n",
      "  warnings.warn(CV_WARNING, FutureWarning)\n"
     ]
    },
    {
     "data": {
      "text/plain": [
       "{'eps': 0.0001, 'max_iter': 219, 'n_alphas': 35}"
      ]
     },
     "execution_count": 9,
     "metadata": {},
     "output_type": "execute_result"
    }
   ],
   "source": [
    "# Fit the grid search to the data\n",
    "grid_search.fit(df_2012_train_x, df_2012_train_y)\n",
    "grid_search.best_params_\n",
    "\n"
   ]
  },
  {
   "cell_type": "code",
   "execution_count": 10,
   "metadata": {},
   "outputs": [],
   "source": [
    "from sklearn.metrics import mean_absolute_error, mean_squared_error, explained_variance_score\n",
    "def evaluate(model, test_features, test_labels):\n",
    "    predictions = model.predict(test_features)\n",
    "    mse = mean_squared_error(test_labels, predictions)\n",
    "    rmse = np.sqrt(mse)\n",
    "    print(\"mse:\", mse)\n",
    "    print(\"rmse:\",rmse)\n",
    "    mae = mean_absolute_error(test_labels, predictions)\n",
    "    print(\"mae:\", mae)\n",
    "    r2 = explained_variance_score(test_labels, predictions)\n",
    "    print(\"r2:\",r2)"
   ]
  },
  {
   "cell_type": "code",
   "execution_count": 11,
   "metadata": {},
   "outputs": [
    {
     "name": "stderr",
     "output_type": "stream",
     "text": [
      "C:\\Users\\sajor\\Anaconda3\\lib\\site-packages\\pandas\\core\\frame.py:4025: SettingWithCopyWarning: \n",
      "A value is trying to be set on a copy of a slice from a DataFrame\n",
      "\n",
      "See the caveats in the documentation: http://pandas.pydata.org/pandas-docs/stable/indexing.html#indexing-view-versus-copy\n",
      "  return super(DataFrame, self).rename(**kwargs)\n"
     ]
    }
   ],
   "source": [
    "df_2012_train_x2 = df_2012_train.drop(columns = ['state_abbreviation', 'county_name', 'diff_2012'])\n",
    "df_2012_train_y2 = df_2012_train[['diff_2012']]\n",
    "\n",
    "df_2016_train_x2 = df_2016_train.drop(columns = ['state_abbreviation', 'fips', 'diff_2016'])\n",
    "df_2016_train_y2 = df_2016_train[['diff_2016']]\n",
    "\n",
    "df_2012_test_x2 = df_2012_test.drop(columns = ['state_abbreviation', 'county_name', 'diff_2012'])\n",
    "df_2012_test_y2 = df_2012_test[['diff_2012']]\n",
    "\n",
    "df_2016_test_x2 = df_2016_test.drop(columns = ['state_abbreviation', 'fips', 'diff_2016'])\n",
    "df_2016_test_y2 = df_2016_test[['diff_2016']]\n",
    "\n",
    "full_train_x2 = [df_2012_train_x2, df_2016_train_x2]\n",
    "full_train_x2 = pd.concat(full_train_x2)\n",
    "df_2012_train_y2.rename(columns={'diff_2012':'diff'}, inplace=True)\n",
    "df_2016_train_y2.rename(columns={'diff_2016':'diff'}, inplace=True)\n",
    "\n",
    "full_train_y2 = [df_2012_train_y2, df_2016_train_y2]\n",
    "full_train_y2 = pd.concat(full_train_y2)\n",
    "\n",
    "full_test_x2 = [df_2012_test_x2, df_2016_test_x2]\n",
    "full_test_x2 = pd.concat(full_test_x2)\n",
    "df_2012_test_y2.rename(columns={'diff_2012':'diff'}, inplace=True)\n",
    "df_2016_test_y2.rename(columns={'diff_2016':'diff'}, inplace=True)\n",
    "\n",
    "full_test_y2 = [df_2012_test_y2, df_2016_test_y2]\n",
    "full_test_y2 = pd.concat(full_test_y2)"
   ]
  },
  {
   "cell_type": "code",
   "execution_count": 12,
   "metadata": {},
   "outputs": [
    {
     "name": "stdout",
     "output_type": "stream",
     "text": [
      "2012 GRID Search on 2012\n",
      "mse: 0.04893156329849512\n",
      "rmse: 0.22120479944724328\n",
      "mae: 0.15636532891376098\n",
      "r2: 0.41994606183834593\n",
      "2012 GRID Search on 2016\n",
      "mse: 1.0789570768363113\n",
      "rmse: 1.038728586704107\n",
      "mae: 1.0045918043439548\n",
      "r2: 0.15442632634195474\n",
      "2012 GRID Search on Full\n",
      "mse: 0.5639443200674032\n",
      "rmse: 0.7509622627452083\n",
      "mae: 0.580478566628858\n",
      "r2: -2.384233526310513\n"
     ]
    }
   ],
   "source": [
    "#fts_2012 = ['population', 'perc_female', 'perc_o18', 'perc_o65', 'perc_white_not_hisp', 'median_oo_value', 'monthly_costs_m', 'monthly_costs_nm', 'avg_hh_size', 'perc_1yr_res', 'perc_f_emp_2065', 'median_income', 'perc_pov', 'num_establishments']\n",
    "test_x = df_2016_test_x2[fts_2012]\n",
    "full_x = full_test_x2[fts_2012]\n",
    "\n",
    "\n",
    "\n",
    "print('2012 GRID Search on 2012')\n",
    "grid_accuracy = evaluate(grid_search, df_2012_test_x, df_2012_test_y)\n",
    "print('2012 GRID Search on 2016')\n",
    "grid_accuracy = evaluate(grid_search, test_x, df_2016_test_y2)\n",
    "print('2012 GRID Search on Full')\n",
    "grid_accuracy = evaluate(grid_search, full_x, full_test_y2)"
   ]
  },
  {
   "cell_type": "code",
   "execution_count": 13,
   "metadata": {},
   "outputs": [
    {
     "data": {
      "text/plain": [
       "{'eps': 0.0001, 'max_iter': 219, 'n_alphas': 35}"
      ]
     },
     "execution_count": 13,
     "metadata": {},
     "output_type": "execute_result"
    }
   ],
   "source": [
    "grid_search.best_params_"
   ]
  },
  {
   "cell_type": "code",
   "execution_count": 14,
   "metadata": {},
   "outputs": [
    {
     "data": {
      "text/plain": [
       "[('population', 1.3777881878817269),\n",
       " ('perc_female', 0.5962361759413386),\n",
       " ('perc_o18', 1.004887818744711),\n",
       " ('perc_o65', -1.3337477598583043),\n",
       " ('perc_white_not_hisp', -1.6088999260721648),\n",
       " ('median_oo_value', 0.7075715640123761),\n",
       " ('monthly_costs_m', -0.9980402512881635),\n",
       " ('monthly_costs_nm', 2.804701687026948),\n",
       " ('avg_hh_size', -0.5365222266935501),\n",
       " ('perc_1yr_res', 0.7920258831229773),\n",
       " ('perc_f_emp_2065', 0.7950917698871733),\n",
       " ('median_income', -0.7616569595035113),\n",
       " ('perc_pov', 0.3549888279723641),\n",
       " ('num_establishments', -1.1799239401220425)]"
      ]
     },
     "execution_count": 14,
     "metadata": {},
     "output_type": "execute_result"
    }
   ],
   "source": [
    "#fts = ['population', 'perc_o18', 'perc_white', 'perc_black', 'perc_white_not_hisp', 'perc_oo', 'monthly_costs_m', 'monthly_costs_nm', 'num_nonemployers', 'man_value_1k', 'wholesale_value_1k', 'num_establishments', 'annual_payroll', 'min_num_firms']\n",
    "list(zip(fts_2012,list(grid_search.best_estimator_.coef_)))"
   ]
  },
  {
   "cell_type": "code",
   "execution_count": 15,
   "metadata": {},
   "outputs": [
    {
     "name": "stdout",
     "output_type": "stream",
     "text": [
      "Fitting 3 folds for each of 400 candidates, totalling 1200 fits\n"
     ]
    },
    {
     "name": "stderr",
     "output_type": "stream",
     "text": [
      "[Parallel(n_jobs=-1)]: Using backend LokyBackend with 4 concurrent workers.\n",
      "[Parallel(n_jobs=-1)]: Done  74 tasks      | elapsed:   10.2s\n",
      "[Parallel(n_jobs=-1)]: Done 198 tasks      | elapsed:   29.8s\n",
      "[Parallel(n_jobs=-1)]: Done 401 tasks      | elapsed:   59.8s\n",
      "[Parallel(n_jobs=-1)]: Done 684 tasks      | elapsed:  1.7min\n",
      "[Parallel(n_jobs=-1)]: Done 1049 tasks      | elapsed:  2.5min\n",
      "[Parallel(n_jobs=-1)]: Done 1200 out of 1200 | elapsed:  2.8min finished\n",
      "C:\\Users\\sajor\\Anaconda3\\lib\\site-packages\\sklearn\\linear_model\\coordinate_descent.py:1109: DataConversionWarning: A column-vector y was passed when a 1d array was expected. Please change the shape of y to (n_samples, ), for example using ravel().\n",
      "  y = column_or_1d(y, warn=True)\n",
      "C:\\Users\\sajor\\Anaconda3\\lib\\site-packages\\sklearn\\model_selection\\_split.py:2053: FutureWarning: You should specify a value for 'cv' instead of relying on the default value. The default value will change from 3 to 5 in version 0.22.\n",
      "  warnings.warn(CV_WARNING, FutureWarning)\n",
      "C:\\Users\\sajor\\Anaconda3\\lib\\site-packages\\sklearn\\linear_model\\coordinate_descent.py:492: ConvergenceWarning: Objective did not converge. You might want to increase the number of iterations. Fitting data with very small alpha may cause precision problems.\n",
      "  ConvergenceWarning)\n",
      "C:\\Users\\sajor\\Anaconda3\\lib\\site-packages\\sklearn\\linear_model\\coordinate_descent.py:492: ConvergenceWarning: Objective did not converge. You might want to increase the number of iterations. Fitting data with very small alpha may cause precision problems.\n",
      "  ConvergenceWarning)\n",
      "C:\\Users\\sajor\\Anaconda3\\lib\\site-packages\\sklearn\\linear_model\\coordinate_descent.py:492: ConvergenceWarning: Objective did not converge. You might want to increase the number of iterations. Fitting data with very small alpha may cause precision problems.\n",
      "  ConvergenceWarning)\n",
      "C:\\Users\\sajor\\Anaconda3\\lib\\site-packages\\sklearn\\linear_model\\coordinate_descent.py:492: ConvergenceWarning: Objective did not converge. You might want to increase the number of iterations. Fitting data with very small alpha may cause precision problems.\n",
      "  ConvergenceWarning)\n",
      "C:\\Users\\sajor\\Anaconda3\\lib\\site-packages\\sklearn\\linear_model\\coordinate_descent.py:492: ConvergenceWarning: Objective did not converge. You might want to increase the number of iterations. Fitting data with very small alpha may cause precision problems.\n",
      "  ConvergenceWarning)\n",
      "C:\\Users\\sajor\\Anaconda3\\lib\\site-packages\\sklearn\\linear_model\\coordinate_descent.py:492: ConvergenceWarning: Objective did not converge. You might want to increase the number of iterations. Fitting data with very small alpha may cause precision problems.\n",
      "  ConvergenceWarning)\n",
      "C:\\Users\\sajor\\Anaconda3\\lib\\site-packages\\sklearn\\linear_model\\coordinate_descent.py:492: ConvergenceWarning: Objective did not converge. You might want to increase the number of iterations. Fitting data with very small alpha may cause precision problems.\n",
      "  ConvergenceWarning)\n",
      "C:\\Users\\sajor\\Anaconda3\\lib\\site-packages\\sklearn\\linear_model\\coordinate_descent.py:492: ConvergenceWarning: Objective did not converge. You might want to increase the number of iterations. Fitting data with very small alpha may cause precision problems.\n",
      "  ConvergenceWarning)\n",
      "C:\\Users\\sajor\\Anaconda3\\lib\\site-packages\\sklearn\\linear_model\\coordinate_descent.py:492: ConvergenceWarning: Objective did not converge. You might want to increase the number of iterations. Fitting data with very small alpha may cause precision problems.\n",
      "  ConvergenceWarning)\n",
      "C:\\Users\\sajor\\Anaconda3\\lib\\site-packages\\sklearn\\linear_model\\coordinate_descent.py:492: ConvergenceWarning: Objective did not converge. You might want to increase the number of iterations. Fitting data with very small alpha may cause precision problems.\n",
      "  ConvergenceWarning)\n",
      "C:\\Users\\sajor\\Anaconda3\\lib\\site-packages\\sklearn\\linear_model\\coordinate_descent.py:492: ConvergenceWarning: Objective did not converge. You might want to increase the number of iterations. Fitting data with very small alpha may cause precision problems.\n",
      "  ConvergenceWarning)\n",
      "C:\\Users\\sajor\\Anaconda3\\lib\\site-packages\\sklearn\\linear_model\\coordinate_descent.py:492: ConvergenceWarning: Objective did not converge. You might want to increase the number of iterations. Fitting data with very small alpha may cause precision problems.\n",
      "  ConvergenceWarning)\n",
      "C:\\Users\\sajor\\Anaconda3\\lib\\site-packages\\sklearn\\linear_model\\coordinate_descent.py:492: ConvergenceWarning: Objective did not converge. You might want to increase the number of iterations. Fitting data with very small alpha may cause precision problems.\n",
      "  ConvergenceWarning)\n",
      "C:\\Users\\sajor\\Anaconda3\\lib\\site-packages\\sklearn\\linear_model\\coordinate_descent.py:492: ConvergenceWarning: Objective did not converge. You might want to increase the number of iterations. Fitting data with very small alpha may cause precision problems.\n",
      "  ConvergenceWarning)\n",
      "C:\\Users\\sajor\\Anaconda3\\lib\\site-packages\\sklearn\\linear_model\\coordinate_descent.py:492: ConvergenceWarning: Objective did not converge. You might want to increase the number of iterations. Fitting data with very small alpha may cause precision problems.\n",
      "  ConvergenceWarning)\n"
     ]
    },
    {
     "data": {
      "text/plain": [
       "{'eps': 0.0001, 'max_iter': 114, 'n_alphas': 35}"
      ]
     },
     "execution_count": 15,
     "metadata": {},
     "output_type": "execute_result"
    }
   ],
   "source": [
    "\n",
    "\n",
    "# Fit the grid search to the data\n",
    "grid_search.fit(df_2016_train_x, df_2016_train_y)\n",
    "grid_search.best_params_\n"
   ]
  },
  {
   "cell_type": "code",
   "execution_count": 16,
   "metadata": {},
   "outputs": [
    {
     "name": "stdout",
     "output_type": "stream",
     "text": [
      "2016 GRID Search on 2012\n",
      "mse: 0.07254884313615793\n",
      "rmse: 0.26934892451271814\n",
      "mae: 0.22380370826147492\n",
      "r2: 0.5522769156849741\n",
      "2016 GRID Search on 2016\n",
      "mse: 0.02461041986152264\n",
      "rmse: 0.15687708520215002\n",
      "mae: 0.12431716460901379\n",
      "r2: 0.7322261588317815\n",
      "2016 GRID Search on Full\n",
      "mse: 0.04857963149884029\n",
      "rmse: 0.2204078753103897\n",
      "mae: 0.17406043643524435\n",
      "r2: 0.555139672258397\n"
     ]
    }
   ],
   "source": [
    "#fts_2016 = ['population', 'perc_o18', 'perc_o65', 'perc_white', 'perc_hisp', 'perc_white_not_hisp', 'median_oo_value', 'monthly_costs_nm', 'avg_hh_size', 'perc_hs', 'hc_value_1k', 'median_income', 'perc_pov', 'num_establishments', 'annual_payroll']\n",
    "test_x = df_2012_test_x2[fts_2016]\n",
    "full_x = full_test_x2[fts_2016]\n",
    "\n",
    "print('2016 GRID Search on 2012')\n",
    "grid_accuracy = evaluate(grid_search, test_x, df_2012_test_y2)\n",
    "print('2016 GRID Search on 2016')\n",
    "grid_accuracy = evaluate(grid_search, df_2016_test_x, df_2016_test_y)\n",
    "print('2016 GRID Search on Full')\n",
    "grid_accuracy = evaluate(grid_search, full_x, full_test_y2)"
   ]
  },
  {
   "cell_type": "code",
   "execution_count": null,
   "metadata": {},
   "outputs": [],
   "source": [
    "grid_search.best_params_"
   ]
  },
  {
   "cell_type": "code",
   "execution_count": 17,
   "metadata": {},
   "outputs": [
    {
     "data": {
      "text/plain": [
       "[('population', 0.25130663184845026),\n",
       " ('perc_o18', 0.3402272006768526),\n",
       " ('perc_o65', -0.33952507415054156),\n",
       " ('perc_white', -0.09943200542060257),\n",
       " ('perc_hisp', -0.28062635414336295),\n",
       " ('perc_white_not_hisp', -2.5322037624780775),\n",
       " ('median_oo_value', 0.7279065850518883),\n",
       " ('monthly_costs_nm', 0.7717686219617513),\n",
       " ('avg_hh_size', -0.3968131570454854),\n",
       " ('perc_hs', 0.5184082945916201),\n",
       " ('hc_value_1k', -0.05739876090996707),\n",
       " ('median_income', -0.46136253824338336),\n",
       " ('perc_pov', 0.22219495518904642),\n",
       " ('num_establishments', -0.5759982914089486),\n",
       " ('annual_payroll', 0.6525068795421799)]"
      ]
     },
     "execution_count": 17,
     "metadata": {},
     "output_type": "execute_result"
    }
   ],
   "source": [
    "list(zip(fts_2016,list(grid_search.best_estimator_.coef_)))"
   ]
  },
  {
   "cell_type": "code",
   "execution_count": 18,
   "metadata": {},
   "outputs": [
    {
     "name": "stdout",
     "output_type": "stream",
     "text": [
      "Fitting 3 folds for each of 400 candidates, totalling 1200 fits\n"
     ]
    },
    {
     "name": "stderr",
     "output_type": "stream",
     "text": [
      "[Parallel(n_jobs=-1)]: Using backend LokyBackend with 4 concurrent workers.\n",
      "[Parallel(n_jobs=-1)]: Done  53 tasks      | elapsed:    9.3s\n",
      "[Parallel(n_jobs=-1)]: Done 174 tasks      | elapsed:   32.1s\n",
      "[Parallel(n_jobs=-1)]: Done 377 tasks      | elapsed:  1.3min\n",
      "[Parallel(n_jobs=-1)]: Done 660 tasks      | elapsed:  2.2min\n",
      "[Parallel(n_jobs=-1)]: Done 1025 tasks      | elapsed:  3.4min\n",
      "[Parallel(n_jobs=-1)]: Done 1200 out of 1200 | elapsed:  3.9min finished\n",
      "C:\\Users\\sajor\\Anaconda3\\lib\\site-packages\\sklearn\\linear_model\\coordinate_descent.py:1109: DataConversionWarning: A column-vector y was passed when a 1d array was expected. Please change the shape of y to (n_samples, ), for example using ravel().\n",
      "  y = column_or_1d(y, warn=True)\n",
      "C:\\Users\\sajor\\Anaconda3\\lib\\site-packages\\sklearn\\model_selection\\_split.py:2053: FutureWarning: You should specify a value for 'cv' instead of relying on the default value. The default value will change from 3 to 5 in version 0.22.\n",
      "  warnings.warn(CV_WARNING, FutureWarning)\n"
     ]
    },
    {
     "data": {
      "text/plain": [
       "{'eps': 0.0001, 'max_iter': 114, 'n_alphas': 61}"
      ]
     },
     "execution_count": 18,
     "metadata": {},
     "output_type": "execute_result"
    }
   ],
   "source": [
    "# Fit the grid search to the data\n",
    "grid_search.fit(full_train_x, full_train_y)\n",
    "grid_search.best_params_"
   ]
  },
  {
   "cell_type": "code",
   "execution_count": 19,
   "metadata": {},
   "outputs": [
    {
     "name": "stdout",
     "output_type": "stream",
     "text": [
      "FULL GRID Search on 2012\n",
      "mse: 0.03397491409174444\n",
      "rmse: 0.184322852874364\n",
      "mae: 0.14739565457176873\n",
      "r2: 0.595915387311658\n",
      "FULL GRID Search on 2016\n",
      "mse: 0.025011660335829702\n",
      "rmse: 0.15815075192938446\n",
      "mae: 0.12454746033913967\n",
      "r2: 0.7279882683070892\n",
      "FULL GRID Search on Full\n",
      "mse: 0.02949328721378707\n",
      "rmse: 0.17173609758518177\n",
      "mae: 0.13597155745545422\n",
      "r2: 0.6749296595023925\n"
     ]
    }
   ],
   "source": [
    "#fts_full = ['population', 'perc_o18', 'perc_o65', 'perc_white', 'perc_hisp', 'perc_white_not_hisp', 'median_oo_value', 'monthly_costs_nm', 'avg_hh_size', 'perc_1yr_res', 'perc_f_lang', 'perc_hs', 'perc_f_emp_2065', 'wholesale_value_1k', 'hc_value_1k', 'median_income', 'perc_pov', 'num_establishments']\n",
    "test_x = df_2012_test_x2[fts_full]\n",
    "test2_x = df_2016_test_x2[fts_full]\n",
    "\n",
    "print('FULL GRID Search on 2012')\n",
    "grid_accuracy = evaluate(grid_search, test_x, df_2012_test_y2)\n",
    "print('FULL GRID Search on 2016')\n",
    "grid_accuracy = evaluate(grid_search, test2_x, df_2016_test_y2)\n",
    "print('FULL GRID Search on Full')\n",
    "grid_accuracy = evaluate(grid_search, full_test_x, full_test_y)"
   ]
  },
  {
   "cell_type": "code",
   "execution_count": null,
   "metadata": {},
   "outputs": [],
   "source": [
    "grid_search.best_params_"
   ]
  },
  {
   "cell_type": "code",
   "execution_count": 20,
   "metadata": {},
   "outputs": [
    {
     "data": {
      "text/plain": [
       "[('population', 0.7695820692923028),\n",
       " ('perc_o18', 0.6602851952647957),\n",
       " ('perc_o65', -0.7237517364590067),\n",
       " ('perc_white', -0.061850532786815605),\n",
       " ('perc_hisp', -0.4462369967039323),\n",
       " ('perc_white_not_hisp', -2.2184186391050766),\n",
       " ('median_oo_value', 0.6049309562750149),\n",
       " ('monthly_costs_nm', 0.5682077275298176),\n",
       " ('avg_hh_size', -0.3584701548016614),\n",
       " ('perc_1yr_res', 0.4720521808579215),\n",
       " ('perc_f_lang', 0.3293471759681122),\n",
       " ('perc_hs', 0.46451950925723395),\n",
       " ('perc_f_emp_2065', 0.44200977153089216),\n",
       " ('wholesale_value_1k', -0.2967753772574962),\n",
       " ('hc_value_1k', 0.1887418986082729),\n",
       " ('median_income', -0.5122548469087228),\n",
       " ('perc_pov', 0.3387523234431195),\n",
       " ('num_establishments', -0.4182786440675589)]"
      ]
     },
     "execution_count": 20,
     "metadata": {},
     "output_type": "execute_result"
    }
   ],
   "source": [
    "list(zip(fts_full,list(grid_search.best_estimator_.coef_)))"
   ]
  },
  {
   "cell_type": "code",
   "execution_count": null,
   "metadata": {},
   "outputs": [],
   "source": []
  }
 ],
 "metadata": {
  "kernelspec": {
   "display_name": "Python 3",
   "language": "python",
   "name": "python3"
  },
  "language_info": {
   "codemirror_mode": {
    "name": "ipython",
    "version": 3
   },
   "file_extension": ".py",
   "mimetype": "text/x-python",
   "name": "python",
   "nbconvert_exporter": "python",
   "pygments_lexer": "ipython3",
   "version": "3.7.2"
  }
 },
 "nbformat": 4,
 "nbformat_minor": 2
}
