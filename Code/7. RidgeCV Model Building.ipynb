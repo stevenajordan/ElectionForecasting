{
 "cells": [
  {
   "cell_type": "code",
   "execution_count": 1,
   "metadata": {},
   "outputs": [],
   "source": [
    "import pandas as pd\n",
    "import csv\n",
    "import numpy as np\n",
    "from pprint import pprint\n",
    "\n",
    "import pandas as pd\n",
    "import numpy as np\n",
    "from sklearn import metrics\n",
    "from sklearn import linear_model\n",
    "from sklearn.linear_model import RidgeCV\n",
    "from sklearn.model_selection import GridSearchCV, train_test_split\n",
    "\n",
    "df_2012_train = pd.read_csv('df_2012_train.csv') \n",
    "df_2012_train = df_2012_train.set_index('fips')\n",
    "df_2012_test = pd.read_csv('df_2012_test.csv') \n",
    "df_2012_test = df_2012_test.set_index('fips')\n",
    "df_2016_train = pd.read_csv('df_2016_train.csv') \n",
    "df_2016_train = df_2016_train.set_index('county_name')\n",
    "df_2016_test = pd.read_csv('df_2016_test.csv') \n",
    "df_2016_test = df_2016_test.set_index('county_name')"
   ]
  },
  {
   "cell_type": "code",
   "execution_count": 2,
   "metadata": {},
   "outputs": [
    {
     "data": {
      "text/html": [
       "<div>\n",
       "<style scoped>\n",
       "    .dataframe tbody tr th:only-of-type {\n",
       "        vertical-align: middle;\n",
       "    }\n",
       "\n",
       "    .dataframe tbody tr th {\n",
       "        vertical-align: top;\n",
       "    }\n",
       "\n",
       "    .dataframe thead th {\n",
       "        text-align: right;\n",
       "    }\n",
       "</style>\n",
       "<table border=\"1\" class=\"dataframe\">\n",
       "  <thead>\n",
       "    <tr style=\"text-align: right;\">\n",
       "      <th></th>\n",
       "      <th>state_abbreviation</th>\n",
       "      <th>county_name</th>\n",
       "      <th>diff_2012</th>\n",
       "      <th>land_area</th>\n",
       "      <th>population</th>\n",
       "      <th>perc_female</th>\n",
       "      <th>perc_u5</th>\n",
       "      <th>perc_o18</th>\n",
       "      <th>perc_o65</th>\n",
       "      <th>perc_2races</th>\n",
       "      <th>...</th>\n",
       "      <th>hc_value_1k</th>\n",
       "      <th>food_value_1k</th>\n",
       "      <th>median_income</th>\n",
       "      <th>per_cap_income</th>\n",
       "      <th>perc_pov</th>\n",
       "      <th>num_establishments</th>\n",
       "      <th>annual_payroll</th>\n",
       "      <th>vet_num_firms</th>\n",
       "      <th>fem_num_firms</th>\n",
       "      <th>min_num_firms</th>\n",
       "    </tr>\n",
       "    <tr>\n",
       "      <th>fips</th>\n",
       "      <th></th>\n",
       "      <th></th>\n",
       "      <th></th>\n",
       "      <th></th>\n",
       "      <th></th>\n",
       "      <th></th>\n",
       "      <th></th>\n",
       "      <th></th>\n",
       "      <th></th>\n",
       "      <th></th>\n",
       "      <th></th>\n",
       "      <th></th>\n",
       "      <th></th>\n",
       "      <th></th>\n",
       "      <th></th>\n",
       "      <th></th>\n",
       "      <th></th>\n",
       "      <th></th>\n",
       "      <th></th>\n",
       "      <th></th>\n",
       "      <th></th>\n",
       "    </tr>\n",
       "  </thead>\n",
       "  <tbody>\n",
       "    <tr>\n",
       "      <th>50011</th>\n",
       "      <td>VT</td>\n",
       "      <td>Franklin County</td>\n",
       "      <td>0.235485</td>\n",
       "      <td>0.607936</td>\n",
       "      <td>0.554590</td>\n",
       "      <td>0.852168</td>\n",
       "      <td>0.752126</td>\n",
       "      <td>0.454698</td>\n",
       "      <td>0.679059</td>\n",
       "      <td>0.334973</td>\n",
       "      <td>...</td>\n",
       "      <td>0.618064</td>\n",
       "      <td>0.598671</td>\n",
       "      <td>0.573469</td>\n",
       "      <td>0.538418</td>\n",
       "      <td>0.619473</td>\n",
       "      <td>0.426309</td>\n",
       "      <td>0.575188</td>\n",
       "      <td>0.366486</td>\n",
       "      <td>0.414746</td>\n",
       "      <td>0.166732</td>\n",
       "    </tr>\n",
       "    <tr>\n",
       "      <th>46093</th>\n",
       "      <td>SD</td>\n",
       "      <td>Meade County</td>\n",
       "      <td>-0.428453</td>\n",
       "      <td>0.800869</td>\n",
       "      <td>0.501383</td>\n",
       "      <td>0.814002</td>\n",
       "      <td>0.806294</td>\n",
       "      <td>0.452165</td>\n",
       "      <td>0.683144</td>\n",
       "      <td>0.451818</td>\n",
       "      <td>...</td>\n",
       "      <td>0.146813</td>\n",
       "      <td>0.044439</td>\n",
       "      <td>0.491513</td>\n",
       "      <td>0.502540</td>\n",
       "      <td>0.659653</td>\n",
       "      <td>0.397049</td>\n",
       "      <td>0.523883</td>\n",
       "      <td>0.330485</td>\n",
       "      <td>0.352493</td>\n",
       "      <td>0.177449</td>\n",
       "    </tr>\n",
       "  </tbody>\n",
       "</table>\n",
       "<p>2 rows × 44 columns</p>\n",
       "</div>"
      ],
      "text/plain": [
       "      state_abbreviation      county_name  diff_2012  land_area  population  \\\n",
       "fips                                                                          \n",
       "50011                 VT  Franklin County   0.235485   0.607936    0.554590   \n",
       "46093                 SD     Meade County  -0.428453   0.800869    0.501383   \n",
       "\n",
       "       perc_female   perc_u5  perc_o18  perc_o65  perc_2races  ...  \\\n",
       "fips                                                           ...   \n",
       "50011     0.852168  0.752126  0.454698  0.679059     0.334973  ...   \n",
       "46093     0.814002  0.806294  0.452165  0.683144     0.451818  ...   \n",
       "\n",
       "       hc_value_1k  food_value_1k  median_income  per_cap_income  perc_pov  \\\n",
       "fips                                                                         \n",
       "50011     0.618064       0.598671       0.573469        0.538418  0.619473   \n",
       "46093     0.146813       0.044439       0.491513        0.502540  0.659653   \n",
       "\n",
       "       num_establishments  annual_payroll  vet_num_firms  fem_num_firms  \\\n",
       "fips                                                                      \n",
       "50011            0.426309        0.575188       0.366486       0.414746   \n",
       "46093            0.397049        0.523883       0.330485       0.352493   \n",
       "\n",
       "       min_num_firms  \n",
       "fips                  \n",
       "50011       0.166732  \n",
       "46093       0.177449  \n",
       "\n",
       "[2 rows x 44 columns]"
      ]
     },
     "execution_count": 2,
     "metadata": {},
     "output_type": "execute_result"
    }
   ],
   "source": [
    "df_2012_train.head(2)"
   ]
  },
  {
   "cell_type": "code",
   "execution_count": 3,
   "metadata": {},
   "outputs": [
    {
     "name": "stderr",
     "output_type": "stream",
     "text": [
      "C:\\Users\\sajor\\Anaconda3\\lib\\site-packages\\pandas\\core\\frame.py:4025: SettingWithCopyWarning: \n",
      "A value is trying to be set on a copy of a slice from a DataFrame\n",
      "\n",
      "See the caveats in the documentation: http://pandas.pydata.org/pandas-docs/stable/indexing.html#indexing-view-versus-copy\n",
      "  return super(DataFrame, self).rename(**kwargs)\n"
     ]
    }
   ],
   "source": [
    "df_2012_train_x = df_2012_train.drop(columns = ['state_abbreviation', 'county_name', 'diff_2012'])\n",
    "df_2012_train_y = df_2012_train[['diff_2012']]\n",
    "\n",
    "df_2016_train_x = df_2016_train.drop(columns = ['state_abbreviation', 'fips', 'diff_2016'])\n",
    "df_2016_train_y = df_2016_train[['diff_2016']]\n",
    "\n",
    "df_2012_test_x = df_2012_test.drop(columns = ['state_abbreviation', 'county_name', 'diff_2012'])\n",
    "df_2012_test_y = df_2012_test[['diff_2012']]\n",
    "\n",
    "df_2016_test_x = df_2016_test.drop(columns = ['state_abbreviation', 'fips', 'diff_2016'])\n",
    "df_2016_test_y = df_2016_test[['diff_2016']]\n",
    "\n",
    "full_train_x = [df_2012_train_x, df_2016_train_x]\n",
    "full_train_x = pd.concat(full_train_x)\n",
    "df_2012_train_y.rename(columns={'diff_2012':'diff'}, inplace=True)\n",
    "df_2016_train_y.rename(columns={'diff_2016':'diff'}, inplace=True)\n",
    "\n",
    "full_train_y = [df_2012_train_y, df_2016_train_y]\n",
    "full_train_y = pd.concat(full_train_y)\n",
    "\n",
    "full_test_x = [df_2012_test_x, df_2016_test_x]\n",
    "full_test_x = pd.concat(full_test_x)\n",
    "df_2012_test_y.rename(columns={'diff_2012':'diff'}, inplace=True)\n",
    "df_2016_test_y.rename(columns={'diff_2016':'diff'}, inplace=True)\n",
    "\n",
    "full_test_y = [df_2012_test_y, df_2016_test_y]\n",
    "full_test_y = pd.concat(full_test_y)"
   ]
  },
  {
   "cell_type": "code",
   "execution_count": 4,
   "metadata": {},
   "outputs": [
    {
     "name": "stdout",
     "output_type": "stream",
     "text": [
      "['population', 'perc_female', 'perc_o18', 'perc_o65', 'perc_white_not_hisp', 'median_oo_value', 'monthly_costs_m', 'monthly_costs_nm', 'avg_hh_size', 'perc_1yr_res', 'perc_f_emp_2065', 'hc_value_1k', 'perc_pov', 'num_establishments']\n"
     ]
    }
   ],
   "source": [
    "#2012 FEATURE SELECTION\n",
    "\n",
    "from sklearn.feature_selection import RFE, VarianceThreshold, SelectFromModel\n",
    "\n",
    "estimator = RidgeCV()\n",
    "\n",
    "featureSelection = SelectFromModel(estimator, prefit=False, threshold='mean', max_features=None)\n",
    "featureSelection.fit(df_2012_train_x, df_2012_train_y)\n",
    "\n",
    "selectedFeatures = featureSelection.transform(df_2012_train_x)\n",
    "#selectedFeatures\n",
    "\n",
    "fs = df_2012_train_x.columns[featureSelection.get_support()]\n",
    "#remaining features\n",
    "keep = []\n",
    "for i in range(len(fs)):\n",
    "    keep.append(fs[i])\n",
    "print(keep)\n",
    "\n",
    "df_2012_train_x = df_2012_train_x[keep]\n",
    "df_2012_test_x = df_2012_test_x[keep]\n",
    "\n",
    "fts_2012 = keep\n",
    "\n",
    "\n"
   ]
  },
  {
   "cell_type": "code",
   "execution_count": 5,
   "metadata": {},
   "outputs": [
    {
     "name": "stdout",
     "output_type": "stream",
     "text": [
      "['population', 'perc_o18', 'perc_o65', 'perc_white', 'perc_hisp', 'perc_white_not_hisp', 'median_oo_value', 'monthly_costs_nm', 'avg_hh_size', 'perc_hs', 'perc_f_emp_2065', 'hc_value_1k', 'median_income', 'perc_pov', 'num_establishments', 'annual_payroll']\n"
     ]
    }
   ],
   "source": [
    "#2016 feature selection\n",
    "\n",
    "estimator = RidgeCV()\n",
    "\n",
    "featureSelection = SelectFromModel(estimator, prefit=False, threshold='mean', max_features=None)\n",
    "featureSelection.fit(df_2016_train_x, df_2016_train_y)\n",
    "\n",
    "selectedFeatures = featureSelection.transform(df_2016_train_x)\n",
    "#selectedFeatures\n",
    "\n",
    "fs = df_2016_train_x.columns[featureSelection.get_support()]\n",
    "#remaining features\n",
    "keep = []\n",
    "for i in range(len(fs)):\n",
    "    keep.append(fs[i])\n",
    "print(keep)\n",
    "\n",
    "df_2016_train_x = df_2016_train_x[keep]\n",
    "df_2016_test_x = df_2016_test_x[keep]\n",
    "\n",
    "fts_2016 = keep"
   ]
  },
  {
   "cell_type": "code",
   "execution_count": 6,
   "metadata": {},
   "outputs": [
    {
     "name": "stdout",
     "output_type": "stream",
     "text": [
      "['population', 'perc_female', 'perc_o18', 'perc_o65', 'perc_white', 'perc_hisp', 'perc_white_not_hisp', 'median_oo_value', 'monthly_costs_nm', 'avg_hh_size', 'perc_1yr_res', 'perc_f_lang', 'perc_hs', 'perc_f_emp_2065', 'hc_value_1k', 'median_income', 'perc_pov', 'num_establishments']\n"
     ]
    }
   ],
   "source": [
    "estimator = RidgeCV()\n",
    "\n",
    "featureSelection = SelectFromModel(estimator, prefit=False, threshold='mean', max_features=None)\n",
    "featureSelection.fit(full_train_x, full_train_y)\n",
    "\n",
    "selectedFeatures = featureSelection.transform(full_train_x)\n",
    "#selectedFeatures\n",
    "\n",
    "fs = full_train_x.columns[featureSelection.get_support()]\n",
    "#remaining features\n",
    "keep = []\n",
    "for i in range(len(fs)):\n",
    "    keep.append(fs[i])\n",
    "print(keep)\n",
    "\n",
    "full_train_x = full_train_x[keep]\n",
    "full_test_x = full_test_x[keep]\n",
    "\n",
    "fts_full = keep"
   ]
  },
  {
   "cell_type": "code",
   "execution_count": 8,
   "metadata": {},
   "outputs": [
    {
     "name": "stdout",
     "output_type": "stream",
     "text": [
      "{'alphas': array([ 0.1,  1. , 10. ]),\n",
      " 'cv': None,\n",
      " 'fit_intercept': True,\n",
      " 'gcv_mode': None,\n",
      " 'normalize': False,\n",
      " 'scoring': None,\n",
      " 'store_cv_values': False}\n"
     ]
    }
   ],
   "source": [
    "ls = RidgeCV()\n",
    "pprint(ls.get_params())"
   ]
  },
  {
   "cell_type": "code",
   "execution_count": 11,
   "metadata": {},
   "outputs": [
    {
     "data": {
      "text/plain": [
       "RidgeCV(alphas=array([ 0.1,  1. , 10. ]), cv=None, fit_intercept=True,\n",
       "    gcv_mode=None, normalize=False, scoring=None, store_cv_values=False)"
      ]
     },
     "execution_count": 11,
     "metadata": {},
     "output_type": "execute_result"
    }
   ],
   "source": [
    "\n",
    "\n",
    "\n",
    "# Create a based model\n",
    "rd = RidgeCV()\n",
    "rd.fit(df_2012_train_x, df_2012_train_y)\n"
   ]
  },
  {
   "cell_type": "code",
   "execution_count": 12,
   "metadata": {},
   "outputs": [],
   "source": [
    "from sklearn.metrics import mean_absolute_error, mean_squared_error, explained_variance_score\n",
    "def evaluate(model, test_features, test_labels):\n",
    "    predictions = model.predict(test_features)\n",
    "    mse = mean_squared_error(test_labels, predictions)\n",
    "    rmse = np.sqrt(mse)\n",
    "    print(\"mse:\", mse)\n",
    "    print(\"rmse:\",rmse)\n",
    "    mae = mean_absolute_error(test_labels, predictions)\n",
    "    print(\"mae:\", mae)\n",
    "    r2 = explained_variance_score(test_labels, predictions)\n",
    "    print(\"r2:\",r2)"
   ]
  },
  {
   "cell_type": "code",
   "execution_count": 13,
   "metadata": {},
   "outputs": [
    {
     "name": "stderr",
     "output_type": "stream",
     "text": [
      "C:\\Users\\sajor\\Anaconda3\\lib\\site-packages\\pandas\\core\\frame.py:4025: SettingWithCopyWarning: \n",
      "A value is trying to be set on a copy of a slice from a DataFrame\n",
      "\n",
      "See the caveats in the documentation: http://pandas.pydata.org/pandas-docs/stable/indexing.html#indexing-view-versus-copy\n",
      "  return super(DataFrame, self).rename(**kwargs)\n"
     ]
    }
   ],
   "source": [
    "df_2012_train_x2 = df_2012_train.drop(columns = ['state_abbreviation', 'county_name', 'diff_2012'])\n",
    "df_2012_train_y2 = df_2012_train[['diff_2012']]\n",
    "\n",
    "df_2016_train_x2 = df_2016_train.drop(columns = ['state_abbreviation', 'fips', 'diff_2016'])\n",
    "df_2016_train_y2 = df_2016_train[['diff_2016']]\n",
    "\n",
    "df_2012_test_x2 = df_2012_test.drop(columns = ['state_abbreviation', 'county_name', 'diff_2012'])\n",
    "df_2012_test_y2 = df_2012_test[['diff_2012']]\n",
    "\n",
    "df_2016_test_x2 = df_2016_test.drop(columns = ['state_abbreviation', 'fips', 'diff_2016'])\n",
    "df_2016_test_y2 = df_2016_test[['diff_2016']]\n",
    "\n",
    "full_train_x2 = [df_2012_train_x2, df_2016_train_x2]\n",
    "full_train_x2 = pd.concat(full_train_x2)\n",
    "df_2012_train_y2.rename(columns={'diff_2012':'diff'}, inplace=True)\n",
    "df_2016_train_y2.rename(columns={'diff_2016':'diff'}, inplace=True)\n",
    "\n",
    "full_train_y2 = [df_2012_train_y2, df_2016_train_y2]\n",
    "full_train_y2 = pd.concat(full_train_y2)\n",
    "\n",
    "full_test_x2 = [df_2012_test_x2, df_2016_test_x2]\n",
    "full_test_x2 = pd.concat(full_test_x2)\n",
    "df_2012_test_y2.rename(columns={'diff_2012':'diff'}, inplace=True)\n",
    "df_2016_test_y2.rename(columns={'diff_2016':'diff'}, inplace=True)\n",
    "\n",
    "full_test_y2 = [df_2012_test_y2, df_2016_test_y2]\n",
    "full_test_y2 = pd.concat(full_test_y2)"
   ]
  },
  {
   "cell_type": "code",
   "execution_count": 14,
   "metadata": {},
   "outputs": [
    {
     "name": "stdout",
     "output_type": "stream",
     "text": [
      "2012 GRID Search on 2012\n",
      "mse: 0.04348455215253807\n",
      "rmse: 0.20852949947798288\n",
      "mae: 0.15751686646731655\n",
      "r2: 0.48421638209433415\n",
      "2012 GRID Search on 2016\n",
      "mse: 0.6906896303093482\n",
      "rmse: 0.8310773912875673\n",
      "mae: 0.800462660681197\n",
      "r2: 0.37846089673281624\n",
      "2012 GRID Search on Full\n",
      "mse: 0.36708709123094313\n",
      "rmse: 0.605877125522117\n",
      "mae: 0.47898976357425677\n",
      "r2: -1.2504406789992148\n"
     ]
    }
   ],
   "source": [
    "test_x = df_2016_test_x2[fts_2012]\n",
    "full_x = full_test_x2[fts_2012]\n",
    "\n",
    "\n",
    "\n",
    "print('2012 GRID Search on 2012')\n",
    "grid_accuracy = evaluate(rd, df_2012_test_x, df_2012_test_y)\n",
    "print('2012 GRID Search on 2016')\n",
    "grid_accuracy = evaluate(rd, test_x, df_2016_test_y2)\n",
    "print('2012 GRID Search on Full')\n",
    "grid_accuracy = evaluate(rd, full_x, full_test_y2)"
   ]
  },
  {
   "cell_type": "code",
   "execution_count": null,
   "metadata": {},
   "outputs": [],
   "source": [
    "grid_search.best_params_"
   ]
  },
  {
   "cell_type": "code",
   "execution_count": 17,
   "metadata": {},
   "outputs": [
    {
     "data": {
      "text/plain": [
       "[('population',\n",
       "  array([ 1.33856424,  0.52297583,  1.03617878, -0.96279437, -1.70395333,\n",
       "          0.49913727, -0.81399007,  2.17005039, -0.51142843,  0.76015821,\n",
       "          0.66278247, -0.15726452,  0.9397314 , -1.09078965]))]"
      ]
     },
     "execution_count": 17,
     "metadata": {},
     "output_type": "execute_result"
    }
   ],
   "source": [
    "#fts = ['population', 'perc_o18', 'perc_white', 'perc_black', 'perc_white_not_hisp', 'perc_oo', 'monthly_costs_m', 'monthly_costs_nm', 'num_nonemployers', 'man_value_1k', 'wholesale_value_1k', 'num_establishments', 'annual_payroll', 'min_num_firms']\n",
    "list(zip(fts_2012,list(rd.coef_)))"
   ]
  },
  {
   "cell_type": "code",
   "execution_count": 18,
   "metadata": {},
   "outputs": [
    {
     "data": {
      "text/plain": [
       "RidgeCV(alphas=array([ 0.1,  1. , 10. ]), cv=None, fit_intercept=True,\n",
       "    gcv_mode=None, normalize=False, scoring=None, store_cv_values=False)"
      ]
     },
     "execution_count": 18,
     "metadata": {},
     "output_type": "execute_result"
    }
   ],
   "source": [
    "\n",
    "\n",
    "# Fit the grid search to the data\n",
    "rd.fit(df_2016_train_x, df_2016_train_y)\n",
    "\n"
   ]
  },
  {
   "cell_type": "code",
   "execution_count": null,
   "metadata": {},
   "outputs": [],
   "source": [
    "rd.best_params_"
   ]
  },
  {
   "cell_type": "code",
   "execution_count": 20,
   "metadata": {},
   "outputs": [
    {
     "name": "stdout",
     "output_type": "stream",
     "text": [
      "2016 GRID Search on 2012\n",
      "mse: 0.06473773767301304\n",
      "rmse: 0.25443611707659164\n",
      "mae: 0.2102288181820127\n",
      "r2: 0.5640365374299572\n",
      "2016 GRID Search on 2016\n",
      "mse: 0.024493289778926362\n",
      "rmse: 0.15650332194214397\n",
      "mae: 0.12311502741016525\n",
      "r2: 0.7334189309186719\n",
      "2016 GRID Search on Full\n",
      "mse: 0.044615513725969703\n",
      "rmse: 0.2112238474367175\n",
      "mae: 0.16667192279608897\n",
      "r2: 0.5812862920729542\n"
     ]
    }
   ],
   "source": [
    "test_x = df_2012_test_x2[fts_2016]\n",
    "full_x = full_test_x2[fts_2016]\n",
    "\n",
    "print('2016 GRID Search on 2012')\n",
    "grid_accuracy = evaluate(rd, test_x, df_2012_test_y2)\n",
    "print('2016 GRID Search on 2016')\n",
    "grid_accuracy = evaluate(rd, df_2016_test_x, df_2016_test_y)\n",
    "print('2016 GRID Search on Full')\n",
    "grid_accuracy = evaluate(rd, full_x, full_test_y2)"
   ]
  },
  {
   "cell_type": "code",
   "execution_count": 21,
   "metadata": {},
   "outputs": [
    {
     "data": {
      "text/plain": [
       "[('population',\n",
       "  array([ 0.33580561,  0.3923771 , -0.30465362, -0.13883733, -0.27059636,\n",
       "         -2.39136247,  0.76965471,  0.70639137, -0.30065118,  0.42169974,\n",
       "          0.29028162, -0.03600764, -0.50468906,  0.29016815, -0.65655651,\n",
       "          0.62018752]))]"
      ]
     },
     "execution_count": 21,
     "metadata": {},
     "output_type": "execute_result"
    }
   ],
   "source": [
    "list(zip(fts_2016,list(rd.coef_)))"
   ]
  },
  {
   "cell_type": "code",
   "execution_count": 9,
   "metadata": {},
   "outputs": [
    {
     "data": {
      "text/plain": [
       "<bound method BaseEstimator.get_params of RidgeCV(alphas=array([ 0.1,  1. , 10. ]), cv=None, fit_intercept=True,\n",
       "    gcv_mode=None, normalize=False, scoring=None, store_cv_values=False)>"
      ]
     },
     "execution_count": 9,
     "metadata": {},
     "output_type": "execute_result"
    }
   ],
   "source": [
    "rd = RidgeCV()\n",
    "rd.fit(full_train_x, full_train_y)\n",
    "rd.get_params"
   ]
  },
  {
   "cell_type": "code",
   "execution_count": 23,
   "metadata": {},
   "outputs": [
    {
     "name": "stdout",
     "output_type": "stream",
     "text": [
      "FULL GRID Search on 2012\n",
      "mse: 0.03433533206441007\n",
      "rmse: 0.18529795483061887\n",
      "mae: 0.14798796269202408\n",
      "r2: 0.5915522188178145\n",
      "FULL GRID Search on 2016\n",
      "mse: 0.02505125884005582\n",
      "rmse: 0.15827589469042916\n",
      "mae: 0.12353600353882928\n",
      "r2: 0.7275159610289349\n",
      "FULL GRID Search on Full\n",
      "mse: 0.029693295452232944\n",
      "rmse: 0.17231742643224726\n",
      "mae: 0.13576198311542667\n",
      "r2: 0.6727614982515244\n"
     ]
    }
   ],
   "source": [
    "test_x = df_2012_test_x2[fts_full]\n",
    "test2_x = df_2016_test_x2[fts_full]\n",
    "\n",
    "print('FULL GRID Search on 2012')\n",
    "grid_accuracy = evaluate(rd, test_x, df_2012_test_y2)\n",
    "print('FULL GRID Search on 2016')\n",
    "grid_accuracy = evaluate(rd, test2_x, df_2016_test_y2)\n",
    "print('FULL GRID Search on Full')\n",
    "grid_accuracy = evaluate(rd, full_test_x, full_test_y)"
   ]
  },
  {
   "cell_type": "code",
   "execution_count": 24,
   "metadata": {},
   "outputs": [
    {
     "data": {
      "text/plain": [
       "[('population',\n",
       "  array([ 0.84251672,  0.34033067,  0.79165593, -0.80152614, -0.07050278,\n",
       "         -0.46797119, -2.18372914,  0.63139935,  0.56266206, -0.33084884,\n",
       "          0.46485121,  0.35798017,  0.44736378,  0.47557519, -0.0606614 ,\n",
       "         -0.54039527,  0.30495891, -0.56546128]))]"
      ]
     },
     "execution_count": 24,
     "metadata": {},
     "output_type": "execute_result"
    }
   ],
   "source": [
    "list(zip(fts_full,list(rd.coef_)))"
   ]
  },
  {
   "cell_type": "code",
   "execution_count": null,
   "metadata": {},
   "outputs": [],
   "source": []
  }
 ],
 "metadata": {
  "kernelspec": {
   "display_name": "Python 3",
   "language": "python",
   "name": "python3"
  },
  "language_info": {
   "codemirror_mode": {
    "name": "ipython",
    "version": 3
   },
   "file_extension": ".py",
   "mimetype": "text/x-python",
   "name": "python",
   "nbconvert_exporter": "python",
   "pygments_lexer": "ipython3",
   "version": "3.7.2"
  }
 },
 "nbformat": 4,
 "nbformat_minor": 2
}
